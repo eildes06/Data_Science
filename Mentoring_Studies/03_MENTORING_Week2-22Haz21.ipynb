{
 "cells": [
  {
   "cell_type": "markdown",
   "id": "opened-angle",
   "metadata": {},
   "source": [
    "# How to convert Series to DataFrame?"
   ]
  },
  {
   "cell_type": "code",
   "execution_count": 3,
   "id": "olive-telling",
   "metadata": {},
   "outputs": [],
   "source": [
    "import numpy as np\n",
    "import pandas as pd"
   ]
  },
  {
   "cell_type": "code",
   "execution_count": null,
   "id": "disciplinary-theorem",
   "metadata": {},
   "outputs": [],
   "source": [
    "The syntax is Series.to_frame(name=None) \n"
   ]
  },
  {
   "cell_type": "code",
   "execution_count": 3,
   "id": "dutch-orleans",
   "metadata": {},
   "outputs": [],
   "source": [
    "# Let’s convert a pandas series s into a data frame and set the column name to 'Age':"
   ]
  },
  {
   "cell_type": "markdown",
   "id": "confirmed-prayer",
   "metadata": {},
   "source": [
    "## convert a list to pandas Series -->  pd.Series([....], name='......')"
   ]
  },
  {
   "cell_type": "code",
   "execution_count": 4,
   "id": "national-softball",
   "metadata": {},
   "outputs": [
    {
     "data": {
      "text/plain": [
       "0    25\n",
       "1    18\n",
       "2    40\n",
       "Name: vals, dtype: int64"
      ]
     },
     "execution_count": 4,
     "metadata": {},
     "output_type": "execute_result"
    }
   ],
   "source": [
    "s = pd.Series([25, 18, 40], name=\"vals\")\n",
    "\n",
    "s"
   ]
  },
  {
   "cell_type": "markdown",
   "id": "instant-vietnamese",
   "metadata": {},
   "source": [
    "##  convert to pandas frame-->  .to_frame(name='.....')"
   ]
  },
  {
   "cell_type": "code",
   "execution_count": 6,
   "id": "comparative-destination",
   "metadata": {},
   "outputs": [
    {
     "name": "stdout",
     "output_type": "stream",
     "text": [
      "   Age\n",
      "0   25\n",
      "1   18\n",
      "2   40\n",
      "<class 'pandas.core.frame.DataFrame'>\n"
     ]
    }
   ],
   "source": [
    "df = s.to_frame(name=\"Age\")\n",
    "\n",
    "print(df)\n",
    "print(type(df))"
   ]
  },
  {
   "cell_type": "markdown",
   "id": "crude-generic",
   "metadata": {},
   "source": [
    "## create a DataFrame --> pd.DataFrame(...)"
   ]
  },
  {
   "cell_type": "code",
   "execution_count": 5,
   "id": "nearby-vegetable",
   "metadata": {},
   "outputs": [
    {
     "data": {
      "text/html": [
       "<div>\n",
       "<style scoped>\n",
       "    .dataframe tbody tr th:only-of-type {\n",
       "        vertical-align: middle;\n",
       "    }\n",
       "\n",
       "    .dataframe tbody tr th {\n",
       "        vertical-align: top;\n",
       "    }\n",
       "\n",
       "    .dataframe thead th {\n",
       "        text-align: right;\n",
       "    }\n",
       "</style>\n",
       "<table border=\"1\" class=\"dataframe\">\n",
       "  <thead>\n",
       "    <tr style=\"text-align: right;\">\n",
       "      <th></th>\n",
       "      <th>vals</th>\n",
       "    </tr>\n",
       "  </thead>\n",
       "  <tbody>\n",
       "    <tr>\n",
       "      <th>0</th>\n",
       "      <td>25</td>\n",
       "    </tr>\n",
       "    <tr>\n",
       "      <th>1</th>\n",
       "      <td>18</td>\n",
       "    </tr>\n",
       "    <tr>\n",
       "      <th>2</th>\n",
       "      <td>40</td>\n",
       "    </tr>\n",
       "  </tbody>\n",
       "</table>\n",
       "</div>"
      ],
      "text/plain": [
       "   vals\n",
       "0    25\n",
       "1    18\n",
       "2    40"
      ]
     },
     "execution_count": 5,
     "metadata": {},
     "output_type": "execute_result"
    }
   ],
   "source": [
    "df = pd.DataFrame(s)\n",
    "df"
   ]
  },
  {
   "cell_type": "markdown",
   "id": "inappropriate-interest",
   "metadata": {},
   "source": [
    " # Convert Multiple Series to Pandas DataFrame"
   ]
  },
  {
   "cell_type": "code",
   "execution_count": null,
   "id": "domestic-clone",
   "metadata": {},
   "outputs": [],
   "source": [
    "# Now you’ll observe how to convert multiple Series (for the following data) into a DataFrame.\n",
    "# Let’s now create the 3 Series based on the above data:"
   ]
  },
  {
   "cell_type": "code",
   "execution_count": 11,
   "id": "public-gentleman",
   "metadata": {},
   "outputs": [
    {
     "name": "stdout",
     "output_type": "stream",
     "text": [
      "0      Jon\n",
      "1     Mark\n",
      "2    Maria\n",
      "3     Jill\n",
      "4     Jack\n",
      "dtype: object\n",
      "0    Anderson\n",
      "1       Smith\n",
      "2       Green\n",
      "3      Miller\n",
      "4      Carter\n",
      "dtype: object\n",
      "0    23\n",
      "1    57\n",
      "2    42\n",
      "3    35\n",
      "4    29\n",
      "dtype: int64\n"
     ]
    }
   ],
   "source": [
    "first_name = ['Jon','Mark','Maria','Jill','Jack']\n",
    "series_first_name = pd.Series(first_name)\n",
    "\n",
    "print (series_first_name)\n",
    "\n",
    "last_name = ['Anderson','Smith','Green','Miller','Carter']\n",
    "series_last_name = pd.Series(last_name)\n",
    "\n",
    "print(series_last_name)\n",
    "\n",
    "age = [23,57,42,35,29]\n",
    "\n",
    "series_age = pd.Series(age)\n",
    "print(series_age)"
   ]
  },
  {
   "cell_type": "code",
   "execution_count": 13,
   "id": "behavioral-album",
   "metadata": {},
   "outputs": [
    {
     "name": "stdout",
     "output_type": "stream",
     "text": [
      "  First Name Last Name  Age\n",
      "0        Jon  Anderson   23\n",
      "1       Mark     Smith   57\n",
      "2      Maria     Green   42\n",
      "3       Jill    Miller   35\n",
      "4       Jack    Carter   29\n",
      "<class 'pandas.core.frame.DataFrame'>\n"
     ]
    }
   ],
   "source": [
    "df_first_name = pd.DataFrame(series_first_name)\n",
    "df_first_name = df_first_name.rename(columns = {0:'First Name'})\n",
    "\n",
    "df_last_name = pd.DataFrame(series_last_name)\n",
    "df_last_name = df_last_name.rename(columns = {0:'Last Name'})\n",
    "\n",
    "df_age = pd.DataFrame(series_age)\n",
    "df_age = df_age.rename(columns = {0:'Age'})\n",
    "\n",
    "df_all = pd.concat([df_first_name, df_last_name, df_age], axis=1)\n",
    "print(df_all)\n",
    "print(type(df_all))"
   ]
  },
  {
   "cell_type": "markdown",
   "id": "stylish-toddler",
   "metadata": {},
   "source": [
    "## create a DataFrame from a dictionary"
   ]
  },
  {
   "cell_type": "code",
   "execution_count": 14,
   "id": "absent-offset",
   "metadata": {},
   "outputs": [],
   "source": [
    "author = ['Jitender', 'Purnima', 'Arpit', 'Jyoti']\n",
    "article = [210, 211, 114, 178]\n"
   ]
  },
  {
   "cell_type": "code",
   "execution_count": 15,
   "id": "associate-ottawa",
   "metadata": {},
   "outputs": [],
   "source": [
    "auth_series = pd.Series(author)\n",
    "article_series = pd.Series(article)\n",
    "  \n"
   ]
  },
  {
   "cell_type": "code",
   "execution_count": 16,
   "id": "ambient-valentine",
   "metadata": {},
   "outputs": [],
   "source": [
    "frame = { 'Author': auth_series, 'Article': article_series }\n",
    "  \n",
    "# the dictionary's keys will be the column names of DataFrame "
   ]
  },
  {
   "cell_type": "code",
   "execution_count": 18,
   "id": "plastic-expansion",
   "metadata": {},
   "outputs": [
    {
     "data": {
      "text/html": [
       "<div>\n",
       "<style scoped>\n",
       "    .dataframe tbody tr th:only-of-type {\n",
       "        vertical-align: middle;\n",
       "    }\n",
       "\n",
       "    .dataframe tbody tr th {\n",
       "        vertical-align: top;\n",
       "    }\n",
       "\n",
       "    .dataframe thead th {\n",
       "        text-align: right;\n",
       "    }\n",
       "</style>\n",
       "<table border=\"1\" class=\"dataframe\">\n",
       "  <thead>\n",
       "    <tr style=\"text-align: right;\">\n",
       "      <th></th>\n",
       "      <th>Author</th>\n",
       "      <th>Article</th>\n",
       "    </tr>\n",
       "  </thead>\n",
       "  <tbody>\n",
       "    <tr>\n",
       "      <th>0</th>\n",
       "      <td>Jitender</td>\n",
       "      <td>210</td>\n",
       "    </tr>\n",
       "    <tr>\n",
       "      <th>1</th>\n",
       "      <td>Purnima</td>\n",
       "      <td>211</td>\n",
       "    </tr>\n",
       "    <tr>\n",
       "      <th>2</th>\n",
       "      <td>Arpit</td>\n",
       "      <td>114</td>\n",
       "    </tr>\n",
       "    <tr>\n",
       "      <th>3</th>\n",
       "      <td>Jyoti</td>\n",
       "      <td>178</td>\n",
       "    </tr>\n",
       "  </tbody>\n",
       "</table>\n",
       "</div>"
      ],
      "text/plain": [
       "     Author  Article\n",
       "0  Jitender      210\n",
       "1   Purnima      211\n",
       "2     Arpit      114\n",
       "3     Jyoti      178"
      ]
     },
     "execution_count": 18,
     "metadata": {},
     "output_type": "execute_result"
    }
   ],
   "source": [
    "result = pd.DataFrame(frame)\n",
    "\n",
    "result\n"
   ]
  },
  {
   "cell_type": "code",
   "execution_count": 20,
   "id": "novel-ending",
   "metadata": {},
   "outputs": [
    {
     "data": {
      "text/html": [
       "<div>\n",
       "<style scoped>\n",
       "    .dataframe tbody tr th:only-of-type {\n",
       "        vertical-align: middle;\n",
       "    }\n",
       "\n",
       "    .dataframe tbody tr th {\n",
       "        vertical-align: top;\n",
       "    }\n",
       "\n",
       "    .dataframe thead th {\n",
       "        text-align: right;\n",
       "    }\n",
       "</style>\n",
       "<table border=\"1\" class=\"dataframe\">\n",
       "  <thead>\n",
       "    <tr style=\"text-align: right;\">\n",
       "      <th></th>\n",
       "      <th>Author</th>\n",
       "      <th>Article</th>\n",
       "      <th>Age</th>\n",
       "    </tr>\n",
       "  </thead>\n",
       "  <tbody>\n",
       "    <tr>\n",
       "      <th>0</th>\n",
       "      <td>Jitender</td>\n",
       "      <td>210</td>\n",
       "      <td>21</td>\n",
       "    </tr>\n",
       "    <tr>\n",
       "      <th>1</th>\n",
       "      <td>Purnima</td>\n",
       "      <td>211</td>\n",
       "      <td>21</td>\n",
       "    </tr>\n",
       "    <tr>\n",
       "      <th>2</th>\n",
       "      <td>Arpit</td>\n",
       "      <td>114</td>\n",
       "      <td>24</td>\n",
       "    </tr>\n",
       "    <tr>\n",
       "      <th>3</th>\n",
       "      <td>Jyoti</td>\n",
       "      <td>178</td>\n",
       "      <td>23</td>\n",
       "    </tr>\n",
       "  </tbody>\n",
       "</table>\n",
       "</div>"
      ],
      "text/plain": [
       "     Author  Article  Age\n",
       "0  Jitender      210   21\n",
       "1   Purnima      211   21\n",
       "2     Arpit      114   24\n",
       "3     Jyoti      178   23"
      ]
     },
     "execution_count": 20,
     "metadata": {},
     "output_type": "execute_result"
    }
   ],
   "source": [
    "# adding a Series\n",
    "\n",
    "age = [21, 21, 24, 23]\n",
    "\n",
    "\n",
    "# we assign pd.Series(age) to index named Age of the result dataframe \n",
    "result['Age'] = pd.Series(age)\n",
    "  \n",
    "result"
   ]
  },
  {
   "cell_type": "markdown",
   "id": "automatic-melissa",
   "metadata": {},
   "source": [
    "# How to convert string to date?"
   ]
  },
  {
   "cell_type": "code",
   "execution_count": 21,
   "id": "prostate-scheduling",
   "metadata": {},
   "outputs": [
    {
     "data": {
      "text/plain": [
       "datetime.date(2010, 5, 24)"
      ]
     },
     "execution_count": 21,
     "metadata": {},
     "output_type": "execute_result"
    }
   ],
   "source": [
    "import datetime\n",
    "datetime.datetime.strptime('24052010', \"%d%m%Y\").date()\n",
    "datetime.date(2010, 5, 24)"
   ]
  },
  {
   "cell_type": "code",
   "execution_count": 38,
   "id": "experienced-snake",
   "metadata": {},
   "outputs": [
    {
     "name": "stdout",
     "output_type": "stream",
     "text": [
      "2014-07-01 14:43:00\n"
     ]
    }
   ],
   "source": [
    "from datetime import datetime\n",
    "date_object = datetime.strptime('Jul 1 2014 2:43PM', '%b %d %Y %I:%M%p')\n",
    "print(date_object)"
   ]
  },
  {
   "cell_type": "code",
   "execution_count": 22,
   "id": "level-optics",
   "metadata": {},
   "outputs": [],
   "source": [
    "t = '27 Mayıs 2014'"
   ]
  },
  {
   "cell_type": "code",
   "execution_count": 25,
   "id": "committed-festival",
   "metadata": {},
   "outputs": [
    {
     "data": {
      "text/plain": [
       "['27', 'Mayıs', '2014']"
      ]
     },
     "execution_count": 25,
     "metadata": {},
     "output_type": "execute_result"
    }
   ],
   "source": [
    "t.split()"
   ]
  },
  {
   "cell_type": "code",
   "execution_count": 23,
   "id": "outstanding-former",
   "metadata": {},
   "outputs": [],
   "source": [
    "gün, ay, yıl = t.split()"
   ]
  },
  {
   "cell_type": "code",
   "execution_count": 24,
   "id": "alone-amber",
   "metadata": {},
   "outputs": [
    {
     "name": "stdout",
     "output_type": "stream",
     "text": [
      "gün: 27 ay: Mayıs yıl: 2014\n"
     ]
    }
   ],
   "source": [
    "print('gün:', gün, 'ay:', ay, 'yıl:', yıl)"
   ]
  },
  {
   "cell_type": "code",
   "execution_count": 26,
   "id": "present-precipitation",
   "metadata": {},
   "outputs": [],
   "source": [
    "t = '27 Mayıs 2014 saat 12:34:44:'"
   ]
  },
  {
   "cell_type": "code",
   "execution_count": 27,
   "id": "minor-cleveland",
   "metadata": {},
   "outputs": [
    {
     "data": {
      "text/plain": [
       "['27', 'Mayıs', '2014', 'saat', '12:34:44:']"
      ]
     },
     "execution_count": 27,
     "metadata": {},
     "output_type": "execute_result"
    }
   ],
   "source": [
    "t.split()"
   ]
  },
  {
   "cell_type": "code",
   "execution_count": 36,
   "id": "classical-adjustment",
   "metadata": {},
   "outputs": [],
   "source": [
    "gün, ay, yıl, saat = [i for i in t.split() if 'saat' not in i]"
   ]
  },
  {
   "cell_type": "code",
   "execution_count": 31,
   "id": "taken-electric",
   "metadata": {},
   "outputs": [
    {
     "data": {
      "text/plain": [
       "'27'"
      ]
     },
     "execution_count": 31,
     "metadata": {},
     "output_type": "execute_result"
    }
   ],
   "source": [
    "gün"
   ]
  },
  {
   "cell_type": "code",
   "execution_count": 32,
   "id": "brief-connection",
   "metadata": {},
   "outputs": [
    {
     "data": {
      "text/plain": [
       "'Mayıs'"
      ]
     },
     "execution_count": 32,
     "metadata": {},
     "output_type": "execute_result"
    }
   ],
   "source": [
    "ay"
   ]
  },
  {
   "cell_type": "code",
   "execution_count": 33,
   "id": "tired-river",
   "metadata": {},
   "outputs": [
    {
     "data": {
      "text/plain": [
       "'2014'"
      ]
     },
     "execution_count": 33,
     "metadata": {},
     "output_type": "execute_result"
    }
   ],
   "source": [
    "yıl"
   ]
  },
  {
   "cell_type": "code",
   "execution_count": 37,
   "id": "floppy-property",
   "metadata": {},
   "outputs": [
    {
     "data": {
      "text/plain": [
       "'12:34:44:'"
      ]
     },
     "execution_count": 37,
     "metadata": {},
     "output_type": "execute_result"
    }
   ],
   "source": [
    "saat"
   ]
  },
  {
   "cell_type": "code",
   "execution_count": 38,
   "id": "herbal-ethics",
   "metadata": {},
   "outputs": [],
   "source": [
    "t = '27 Mayıs 2014 saat 12:34:44'"
   ]
  },
  {
   "cell_type": "code",
   "execution_count": 39,
   "id": "floating-aerospace",
   "metadata": {},
   "outputs": [
    {
     "ename": "ValueError",
     "evalue": "time data '27 Mayıs 2014 saat 12:34:44' does not match format '%d %B %Y saat %H:%M:%S'",
     "output_type": "error",
     "traceback": [
      "\u001b[1;31m---------------------------------------------------------------------------\u001b[0m",
      "\u001b[1;31mValueError\u001b[0m                                Traceback (most recent call last)",
      "\u001b[1;32m<ipython-input-39-0dc945182e1a>\u001b[0m in \u001b[0;36m<module>\u001b[1;34m\u001b[0m\n\u001b[1;32m----> 1\u001b[1;33m \u001b[0mz\u001b[0m \u001b[1;33m=\u001b[0m \u001b[0mdatetime\u001b[0m\u001b[1;33m.\u001b[0m\u001b[0mdatetime\u001b[0m\u001b[1;33m.\u001b[0m\u001b[0mstrptime\u001b[0m\u001b[1;33m(\u001b[0m\u001b[0mt\u001b[0m\u001b[1;33m,\u001b[0m \u001b[1;34m'%d %B %Y saat %H:%M:%S'\u001b[0m\u001b[1;33m)\u001b[0m\u001b[1;33m\u001b[0m\u001b[1;33m\u001b[0m\u001b[0m\n\u001b[0m",
      "\u001b[1;32mc:\\users\\hüseyin\\appdata\\local\\programs\\python\\python37\\lib\\_strptime.py\u001b[0m in \u001b[0;36m_strptime_datetime\u001b[1;34m(cls, data_string, format)\u001b[0m\n\u001b[0;32m    575\u001b[0m     \"\"\"Return a class cls instance based on the input string and the\n\u001b[0;32m    576\u001b[0m     format string.\"\"\"\n\u001b[1;32m--> 577\u001b[1;33m     \u001b[0mtt\u001b[0m\u001b[1;33m,\u001b[0m \u001b[0mfraction\u001b[0m\u001b[1;33m,\u001b[0m \u001b[0mgmtoff_fraction\u001b[0m \u001b[1;33m=\u001b[0m \u001b[0m_strptime\u001b[0m\u001b[1;33m(\u001b[0m\u001b[0mdata_string\u001b[0m\u001b[1;33m,\u001b[0m \u001b[0mformat\u001b[0m\u001b[1;33m)\u001b[0m\u001b[1;33m\u001b[0m\u001b[1;33m\u001b[0m\u001b[0m\n\u001b[0m\u001b[0;32m    578\u001b[0m     \u001b[0mtzname\u001b[0m\u001b[1;33m,\u001b[0m \u001b[0mgmtoff\u001b[0m \u001b[1;33m=\u001b[0m \u001b[0mtt\u001b[0m\u001b[1;33m[\u001b[0m\u001b[1;33m-\u001b[0m\u001b[1;36m2\u001b[0m\u001b[1;33m:\u001b[0m\u001b[1;33m]\u001b[0m\u001b[1;33m\u001b[0m\u001b[1;33m\u001b[0m\u001b[0m\n\u001b[0;32m    579\u001b[0m     \u001b[0margs\u001b[0m \u001b[1;33m=\u001b[0m \u001b[0mtt\u001b[0m\u001b[1;33m[\u001b[0m\u001b[1;33m:\u001b[0m\u001b[1;36m6\u001b[0m\u001b[1;33m]\u001b[0m \u001b[1;33m+\u001b[0m \u001b[1;33m(\u001b[0m\u001b[0mfraction\u001b[0m\u001b[1;33m,\u001b[0m\u001b[1;33m)\u001b[0m\u001b[1;33m\u001b[0m\u001b[1;33m\u001b[0m\u001b[0m\n",
      "\u001b[1;32mc:\\users\\hüseyin\\appdata\\local\\programs\\python\\python37\\lib\\_strptime.py\u001b[0m in \u001b[0;36m_strptime\u001b[1;34m(data_string, format)\u001b[0m\n\u001b[0;32m    357\u001b[0m     \u001b[1;32mif\u001b[0m \u001b[1;32mnot\u001b[0m \u001b[0mfound\u001b[0m\u001b[1;33m:\u001b[0m\u001b[1;33m\u001b[0m\u001b[1;33m\u001b[0m\u001b[0m\n\u001b[0;32m    358\u001b[0m         raise ValueError(\"time data %r does not match format %r\" %\n\u001b[1;32m--> 359\u001b[1;33m                          (data_string, format))\n\u001b[0m\u001b[0;32m    360\u001b[0m     \u001b[1;32mif\u001b[0m \u001b[0mlen\u001b[0m\u001b[1;33m(\u001b[0m\u001b[0mdata_string\u001b[0m\u001b[1;33m)\u001b[0m \u001b[1;33m!=\u001b[0m \u001b[0mfound\u001b[0m\u001b[1;33m.\u001b[0m\u001b[0mend\u001b[0m\u001b[1;33m(\u001b[0m\u001b[1;33m)\u001b[0m\u001b[1;33m:\u001b[0m\u001b[1;33m\u001b[0m\u001b[1;33m\u001b[0m\u001b[0m\n\u001b[0;32m    361\u001b[0m         raise ValueError(\"unconverted data remains: %s\" %\n",
      "\u001b[1;31mValueError\u001b[0m: time data '27 Mayıs 2014 saat 12:34:44' does not match format '%d %B %Y saat %H:%M:%S'"
     ]
    }
   ],
   "source": [
    "z = datetime.datetime.strptime(t, '%d %B %Y saat %H:%M:%S')"
   ]
  },
  {
   "cell_type": "code",
   "execution_count": null,
   "id": "satisfied-evanescence",
   "metadata": {},
   "outputs": [],
   "source": []
  },
  {
   "cell_type": "code",
   "execution_count": null,
   "id": "republican-imaging",
   "metadata": {},
   "outputs": [],
   "source": []
  },
  {
   "cell_type": "code",
   "execution_count": null,
   "id": "friendly-string",
   "metadata": {},
   "outputs": [],
   "source": []
  }
 ],
 "metadata": {
  "kernelspec": {
   "display_name": "Python 3",
   "language": "python",
   "name": "python3"
  },
  "language_info": {
   "codemirror_mode": {
    "name": "ipython",
    "version": 3
   },
   "file_extension": ".py",
   "mimetype": "text/x-python",
   "name": "python",
   "nbconvert_exporter": "python",
   "pygments_lexer": "ipython3",
   "version": "3.7.8"
  }
 },
 "nbformat": 4,
 "nbformat_minor": 5
}
