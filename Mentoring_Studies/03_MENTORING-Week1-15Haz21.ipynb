{
 "cells": [
  {
   "cell_type": "code",
   "execution_count": 19,
   "id": "arctic-lying",
   "metadata": {},
   "outputs": [],
   "source": [
    "import numpy as np"
   ]
  },
  {
   "cell_type": "markdown",
   "id": "synthetic-january",
   "metadata": {},
   "source": [
    "## 4: create a null vector of size 10 and update sixth value to 11"
   ]
  },
  {
   "cell_type": "code",
   "execution_count": 4,
   "id": "finite-prague",
   "metadata": {},
   "outputs": [
    {
     "data": {
      "text/plain": [
       "array([0., 0., 0., 0., 0., 0., 0., 0., 0., 0.])"
      ]
     },
     "execution_count": 4,
     "metadata": {},
     "output_type": "execute_result"
    }
   ],
   "source": [
    "np.zeros(10)"
   ]
  },
  {
   "cell_type": "code",
   "execution_count": 5,
   "id": "conceptual-galaxy",
   "metadata": {},
   "outputs": [
    {
     "data": {
      "text/plain": [
       "10"
      ]
     },
     "execution_count": 5,
     "metadata": {},
     "output_type": "execute_result"
    }
   ],
   "source": [
    "arr = np.zeros(10)\n",
    "arr.size"
   ]
  },
  {
   "cell_type": "code",
   "execution_count": 6,
   "id": "disturbed-study",
   "metadata": {},
   "outputs": [
    {
     "data": {
      "text/plain": [
       "array([ 0.,  0.,  0.,  0.,  0.,  0., 11.,  0.,  0.,  0.])"
      ]
     },
     "execution_count": 6,
     "metadata": {},
     "output_type": "execute_result"
    }
   ],
   "source": [
    "# update sixth value to 11\n",
    "\n",
    "arr[6] = 11\n",
    "arr"
   ]
  },
  {
   "cell_type": "markdown",
   "id": "aquatic-switch",
   "metadata": {},
   "source": [
    "## 8: create a 2d array with 1 on the border and 0 inside"
   ]
  },
  {
   "cell_type": "code",
   "execution_count": 7,
   "id": "prescribed-study",
   "metadata": {},
   "outputs": [
    {
     "data": {
      "text/plain": [
       "array([[1., 1., 1., 1., 1.],\n",
       "       [1., 1., 1., 1., 1.],\n",
       "       [1., 1., 1., 1., 1.],\n",
       "       [1., 1., 1., 1., 1.],\n",
       "       [1., 1., 1., 1., 1.]])"
      ]
     },
     "execution_count": 7,
     "metadata": {},
     "output_type": "execute_result"
    }
   ],
   "source": [
    "arr2d = np.ones((5,5))\n",
    "arr2d\n",
    "\n",
    "# create original array"
   ]
  },
  {
   "cell_type": "code",
   "execution_count": 9,
   "id": "brief-appointment",
   "metadata": {},
   "outputs": [
    {
     "data": {
      "text/plain": [
       "array([[1., 1., 1., 1., 1.],\n",
       "       [1., 0., 0., 0., 1.],\n",
       "       [1., 0., 0., 0., 1.],\n",
       "       [1., 0., 0., 0., 1.],\n",
       "       [1., 1., 1., 1., 1.]])"
      ]
     },
     "execution_count": 9,
     "metadata": {},
     "output_type": "execute_result"
    }
   ],
   "source": [
    "arr2d[1:4, 1:4] = 0\n",
    "arr2d\n",
    "\n",
    "# 1 on the border and 0 inside in the array"
   ]
  },
  {
   "cell_type": "markdown",
   "id": "automotive-circular",
   "metadata": {},
   "source": [
    "## 9: Write a NumPy program to add a border (filled with 0's) around an existing array"
   ]
  },
  {
   "cell_type": "code",
   "execution_count": 9,
   "id": "controlling-think",
   "metadata": {},
   "outputs": [
    {
     "data": {
      "text/plain": [
       "array([[1., 1., 1.],\n",
       "       [1., 1., 1.],\n",
       "       [1., 1., 1.]])"
      ]
     },
     "execution_count": 9,
     "metadata": {},
     "output_type": "execute_result"
    }
   ],
   "source": [
    "arr2dn = np.full((3,3), 1, dtype=float)\n",
    "arr2dn\n",
    "\n",
    "# creating original array"
   ]
  },
  {
   "cell_type": "code",
   "execution_count": 10,
   "id": "improving-single",
   "metadata": {},
   "outputs": [
    {
     "data": {
      "text/plain": [
       "array([0., 0., 0.])"
      ]
     },
     "execution_count": 10,
     "metadata": {},
     "output_type": "execute_result"
    }
   ],
   "source": [
    "addc = np.zeros(3)\n",
    "addc\n",
    "\n",
    "# arr2dn array'inin başına ve ve sonuna ilave edeceğimiz column'u create ettik.\n",
    "# ama bu vektör olduğu için 2 boyutlu array'e bu şekilde ilave edemeyiz."
   ]
  },
  {
   "cell_type": "code",
   "execution_count": 11,
   "id": "color-roommate",
   "metadata": {},
   "outputs": [
    {
     "data": {
      "text/plain": [
       "array([0., 0., 0.])"
      ]
     },
     "execution_count": 11,
     "metadata": {},
     "output_type": "execute_result"
    }
   ],
   "source": [
    "addc.reshape((3,1))\n",
    "addc\n",
    "\n",
    "# vektör olan addc'in shape'ini 2 boyutlu yaptık. şimdi arr2dn'e ekleyebiliriz. "
   ]
  },
  {
   "cell_type": "code",
   "execution_count": 14,
   "id": "weighted-bedroom",
   "metadata": {},
   "outputs": [
    {
     "data": {
      "text/plain": [
       "array([[0., 0., 0., 1., 1., 1., 0.],\n",
       "       [0., 0., 0., 1., 1., 1., 0.],\n",
       "       [0., 0., 0., 1., 1., 1., 0.]])"
      ]
     },
     "execution_count": 14,
     "metadata": {},
     "output_type": "execute_result"
    }
   ],
   "source": [
    "arr2dn = np.c_[addc, arr2dn, addc]\n",
    "arr2dn\n",
    "\n",
    " # arr2dn'nin başına ve sonuna addc column'unu ilave ettik."
   ]
  },
  {
   "cell_type": "code",
   "execution_count": 72,
   "id": "sorted-storm",
   "metadata": {},
   "outputs": [
    {
     "data": {
      "text/plain": [
       "array([[0., 0., 0., 0., 0.]])"
      ]
     },
     "execution_count": 72,
     "metadata": {},
     "output_type": "execute_result"
    }
   ],
   "source": [
    "addr = np.zeros((1,5)) \n",
    "addr\n",
    "\n",
    "# arr2dn array'inin üstüne ve altına ilave edeceğimiz satırı, \n",
    "# arr2dn 2 boyutlu olduğu için 2 boyutlu olarak create ettik."
   ]
  },
  {
   "cell_type": "code",
   "execution_count": 73,
   "id": "wireless-chase",
   "metadata": {},
   "outputs": [],
   "source": [
    "arr2dn = np.r_[addr, arr2dn, addr]  # arr2dn nin üstün ve altına addr row'unu ilave ettik."
   ]
  },
  {
   "cell_type": "code",
   "execution_count": 74,
   "id": "driving-denver",
   "metadata": {},
   "outputs": [
    {
     "data": {
      "text/plain": [
       "array([[0., 0., 0., 0., 0.],\n",
       "       [0., 1., 1., 1., 0.],\n",
       "       [0., 1., 1., 1., 0.],\n",
       "       [0., 1., 1., 1., 0.],\n",
       "       [0., 0., 0., 0., 0.]])"
      ]
     },
     "execution_count": 74,
     "metadata": {},
     "output_type": "execute_result"
    }
   ],
   "source": [
    "arr2dn\n",
    "\n",
    "# 0 on the border and 1 inside in the array"
   ]
  },
  {
   "cell_type": "code",
   "execution_count": 253,
   "id": "quantitative-neutral",
   "metadata": {},
   "outputs": [
    {
     "data": {
      "text/plain": [
       "array([[0., 0., 0., 0., 0., 0., 0.],\n",
       "       [0., 0., 0., 0., 0., 0., 0.],\n",
       "       [0., 0., 1., 1., 1., 0., 0.],\n",
       "       [0., 0., 1., 1., 1., 0., 0.],\n",
       "       [0., 0., 1., 1., 1., 0., 0.],\n",
       "       [0., 0., 0., 0., 0., 0., 0.],\n",
       "       [0., 0., 0., 0., 0., 0., 0.]])"
      ]
     },
     "execution_count": 253,
     "metadata": {},
     "output_type": "execute_result"
    }
   ],
   "source": [
    "# np.pad() numpy fonksiyonu ile çözüm: \n",
    "\n",
    "arr2dn = np.pad(arr2dn, pad_width=1, mode='constant', constant_values=0)\n",
    "arr2dn\n",
    "\n",
    "# bir yukarda arr2dn ye 0 lar eklendiği için bir sıra daha eklenmiş oldu."
   ]
  },
  {
   "cell_type": "markdown",
   "id": "wrapped-showcase",
   "metadata": {},
   "source": [
    "## bir array'a column ve row eklemek (cevaba ilave bilgi)"
   ]
  },
  {
   "cell_type": "code",
   "execution_count": 82,
   "id": "modified-dress",
   "metadata": {},
   "outputs": [
    {
     "data": {
      "text/plain": [
       "array([[1., 0., 0., 1.],\n",
       "       [0., 1., 0., 1.],\n",
       "       [0., 0., 1., 1.]])"
      ]
     },
     "execution_count": 82,
     "metadata": {},
     "output_type": "execute_result"
    }
   ],
   "source": [
    "import numpy as np\n",
    "N = 3 \n",
    "A = np.eye(N)\n",
    "\n",
    "np.c_[ A, np.ones(N) ]              # add a column\n",
    "\n"
   ]
  },
  {
   "cell_type": "code",
   "execution_count": 83,
   "id": "electoral-month",
   "metadata": {},
   "outputs": [
    {
     "data": {
      "text/plain": [
       "array([[1., 1., 0., 0., 1.],\n",
       "       [1., 0., 1., 0., 1.],\n",
       "       [1., 0., 0., 1., 1.]])"
      ]
     },
     "execution_count": 83,
     "metadata": {},
     "output_type": "execute_result"
    }
   ],
   "source": [
    "np.c_[ np.ones(N), A, np.ones(N) ]  # or two"
   ]
  },
  {
   "cell_type": "code",
   "execution_count": 84,
   "id": "married-details",
   "metadata": {},
   "outputs": [
    {
     "data": {
      "text/plain": [
       "array([[1., 0., 0.],\n",
       "       [0., 1., 0.],\n",
       "       [0., 0., 1.],\n",
       "       [0., 1., 0.]])"
      ]
     },
     "execution_count": 84,
     "metadata": {},
     "output_type": "execute_result"
    }
   ],
   "source": [
    "np.r_[ A, [A[1]] ]              # add a row\n"
   ]
  },
  {
   "cell_type": "code",
   "execution_count": 85,
   "id": "primary-roman",
   "metadata": {},
   "outputs": [
    {
     "data": {
      "text/plain": [
       "array([1., 0., 0., 1., 2., 3., 0., 1., 0.])"
      ]
     },
     "execution_count": 85,
     "metadata": {},
     "output_type": "execute_result"
    }
   ],
   "source": [
    "np.r_[ A[0], 1, 2, 3, A[1] ]    # mix vecs and scalars\n"
   ]
  },
  {
   "cell_type": "code",
   "execution_count": 86,
   "id": "suited-addiction",
   "metadata": {},
   "outputs": [
    {
     "data": {
      "text/plain": [
       "array([1., 0., 0., 1., 2., 3., 0., 1., 0.])"
      ]
     },
     "execution_count": 86,
     "metadata": {},
     "output_type": "execute_result"
    }
   ],
   "source": [
    "np.r_[ A[0], [1, 2, 3], A[1] ]  # lists\n"
   ]
  },
  {
   "cell_type": "code",
   "execution_count": 87,
   "id": "sonic-hormone",
   "metadata": {
    "scrolled": true
   },
   "outputs": [
    {
     "data": {
      "text/plain": [
       "array([1., 0., 0., 1., 2., 3., 0., 1., 0.])"
      ]
     },
     "execution_count": 87,
     "metadata": {},
     "output_type": "execute_result"
    }
   ],
   "source": [
    "np.r_[ A[0], (1, 2, 3), A[1] ]  # tuples\n"
   ]
  },
  {
   "cell_type": "code",
   "execution_count": 88,
   "id": "surprising-poster",
   "metadata": {},
   "outputs": [
    {
     "data": {
      "text/plain": [
       "array([1., 0., 0., 1., 2., 3., 0., 1., 0.])"
      ]
     },
     "execution_count": 88,
     "metadata": {},
     "output_type": "execute_result"
    }
   ],
   "source": [
    "np.r_[ A[0], 1:4, A[1] ]        # same, 1:4 == arange(1,4) == 1,2,3\n"
   ]
  },
  {
   "cell_type": "markdown",
   "id": "catholic-merchandise",
   "metadata": {},
   "source": [
    "##  append ile array'a column eklemek (cevaba ilave bilgi)"
   ]
  },
  {
   "cell_type": "code",
   "execution_count": 89,
   "id": "wound-paradise",
   "metadata": {},
   "outputs": [
    {
     "data": {
      "text/plain": [
       "array([[1, 2, 3],\n",
       "       [2, 3, 4]])"
      ]
     },
     "execution_count": 89,
     "metadata": {},
     "output_type": "execute_result"
    }
   ],
   "source": [
    "a = np.array([[1,2,3],[2,3,4]])\n",
    "a\n",
    "\n",
    "# orjinal array'imizi create ettik."
   ]
  },
  {
   "cell_type": "code",
   "execution_count": 93,
   "id": "numeric-pursuit",
   "metadata": {},
   "outputs": [
    {
     "data": {
      "text/plain": [
       "array([[0],\n",
       "       [0]])"
      ]
     },
     "execution_count": 93,
     "metadata": {},
     "output_type": "execute_result"
    }
   ],
   "source": [
    "z = np.zeros((2,1), dtype = int)\n",
    "z\n",
    "\n",
    "# ekleyeceğimz sütunu create ettik."
   ]
  },
  {
   "cell_type": "code",
   "execution_count": 94,
   "id": "owned-allocation",
   "metadata": {},
   "outputs": [
    {
     "data": {
      "text/plain": [
       "array([[1, 2, 3, 0],\n",
       "       [2, 3, 4, 0]])"
      ]
     },
     "execution_count": 94,
     "metadata": {},
     "output_type": "execute_result"
    }
   ],
   "source": [
    "np.append(a, z, axis=1)\n",
    "\n",
    "# a array'ine z sütununu append ile ekledik.\n",
    "# axis parametresine sütunu temsil eden değer olan 1'i assign ettiğimize dikkat et "
   ]
  },
  {
   "cell_type": "markdown",
   "id": "considerable-train",
   "metadata": {},
   "source": [
    "## 10: Write a NumPy program to create a 8x8 matrix and fill it with a checkerboard pattern."
   ]
  },
  {
   "cell_type": "code",
   "execution_count": 114,
   "id": "imported-least",
   "metadata": {},
   "outputs": [
    {
     "data": {
      "text/plain": [
       "array([[0, 0, 0, 0, 0, 0, 0, 0],\n",
       "       [0, 0, 0, 0, 0, 0, 0, 0],\n",
       "       [0, 0, 0, 0, 0, 0, 0, 0],\n",
       "       [0, 0, 0, 0, 0, 0, 0, 0],\n",
       "       [0, 0, 0, 0, 0, 0, 0, 0],\n",
       "       [0, 0, 0, 0, 0, 0, 0, 0],\n",
       "       [0, 0, 0, 0, 0, 0, 0, 0],\n",
       "       [0, 0, 0, 0, 0, 0, 0, 0]])"
      ]
     },
     "execution_count": 114,
     "metadata": {},
     "output_type": "execute_result"
    }
   ],
   "source": [
    "arr2d8 = np.zeros((8,8), dtype = int)\n",
    "arr2d8"
   ]
  },
  {
   "cell_type": "code",
   "execution_count": 140,
   "id": "metropolitan-indonesian",
   "metadata": {},
   "outputs": [
    {
     "name": "stdout",
     "output_type": "stream",
     "text": [
      "[[0 1 0 1 0 1 0 1]\n",
      " [1 0 1 0 1 0 1 0]\n",
      " [0 1 0 1 0 1 0 1]\n",
      " [1 0 1 0 1 0 1 0]\n",
      " [0 1 0 1 0 1 0 1]\n",
      " [1 0 1 0 1 0 1 0]\n",
      " [0 1 0 1 0 1 0 1]\n",
      " [1 0 1 0 1 0 1 0]]\n"
     ]
    }
   ],
   "source": [
    "# Checkerboard pattern:\n",
    "\n",
    "for i in range(8):\n",
    "    if not i % 2 :\n",
    "        for j in range(8):\n",
    "            if j % 2:\n",
    "                arr2d8[i][j] = 1\n",
    "            else:\n",
    "                arr2d8[i][j] = 0\n",
    "    else :\n",
    "        for j in range(8):\n",
    "            if not j % 2:\n",
    "                arr2d8[i][j] = 1\n",
    "            else:\n",
    "                arr2d8[i][j] = 0\n",
    "print(arr2d8)\n"
   ]
  },
  {
   "cell_type": "code",
   "execution_count": 23,
   "id": "wound-biodiversity",
   "metadata": {},
   "outputs": [
    {
     "name": "stdout",
     "output_type": "stream",
     "text": [
      "Checkerboard pattern:\n"
     ]
    },
    {
     "data": {
      "text/plain": [
       "array([[0, 0, 0, 0, 0, 0, 0, 0],\n",
       "       [0, 0, 0, 0, 0, 0, 0, 0],\n",
       "       [0, 0, 0, 0, 0, 0, 0, 0],\n",
       "       [0, 0, 0, 0, 0, 0, 0, 0],\n",
       "       [0, 0, 0, 0, 0, 0, 0, 0],\n",
       "       [0, 0, 0, 0, 0, 0, 0, 0],\n",
       "       [0, 0, 0, 0, 0, 0, 0, 0],\n",
       "       [0, 0, 0, 0, 0, 0, 0, 0]])"
      ]
     },
     "execution_count": 23,
     "metadata": {},
     "output_type": "execute_result"
    }
   ],
   "source": [
    "# slicing ile çözümü:\n",
    "\n",
    "x = np.ones((3,3))\n",
    "print(\"Checkerboard pattern:\")\n",
    "x = np.zeros((8,8),dtype=int)\n",
    "x"
   ]
  },
  {
   "cell_type": "code",
   "execution_count": 25,
   "id": "identified-advocacy",
   "metadata": {},
   "outputs": [
    {
     "name": "stdout",
     "output_type": "stream",
     "text": [
      "[[0 1 0 1 0 1 0 1]\n",
      " [1 0 1 0 1 0 1 0]\n",
      " [0 1 0 1 0 1 0 1]\n",
      " [1 0 1 0 1 0 1 0]\n",
      " [0 1 0 1 0 1 0 1]\n",
      " [1 0 1 0 1 0 1 0]\n",
      " [0 1 0 1 0 1 0 1]\n",
      " [1 0 1 0 1 0 1 0]]\n"
     ]
    }
   ],
   "source": [
    "x[1::2,::2] = 1\n",
    "x[::2,1::2] = 1\n",
    "print(x)"
   ]
  },
  {
   "cell_type": "markdown",
   "id": "overhead-engineering",
   "metadata": {},
   "source": [
    "## 12: Write a NumPy program to append values to the end of an array"
   ]
  },
  {
   "cell_type": "code",
   "execution_count": 30,
   "id": "digital-visit",
   "metadata": {},
   "outputs": [
    {
     "data": {
      "text/plain": [
       "array([10, 20, 30])"
      ]
     },
     "execution_count": 30,
     "metadata": {},
     "output_type": "execute_result"
    }
   ],
   "source": [
    "arr3 = np.array([10, 20, 30])\n",
    "arr3"
   ]
  },
  {
   "cell_type": "code",
   "execution_count": 31,
   "id": "incomplete-toner",
   "metadata": {},
   "outputs": [],
   "source": [
    "arr4 = np.array([40, 50, 60, 70, 80, 90])"
   ]
  },
  {
   "cell_type": "code",
   "execution_count": 32,
   "id": "turkish-syracuse",
   "metadata": {},
   "outputs": [
    {
     "data": {
      "text/plain": [
       "array([10, 20, 30, 40, 50, 60, 70, 80, 90])"
      ]
     },
     "execution_count": 32,
     "metadata": {},
     "output_type": "execute_result"
    }
   ],
   "source": [
    "# arr3 = np.append(arr3, [40, 50, 60, 70, 80, 90], axis=0)\n",
    "arr3 = np.append(arr3, arr4, axis=0)\n",
    "arr3"
   ]
  },
  {
   "cell_type": "code",
   "execution_count": 186,
   "id": "ethical-there",
   "metadata": {},
   "outputs": [
    {
     "name": "stdout",
     "output_type": "stream",
     "text": [
      "Original array:\n",
      "[10, 20, 30]\n",
      "After append values to the end of the array:\n",
      "[10 20 30 40 50 60 70 80 90]\n"
     ]
    }
   ],
   "source": [
    "x = [10, 20, 30]\n",
    "print(\"Original array:\")\n",
    "print(x)\n",
    "x = np.append(x, [[40, 50, 60], [70, 80, 90]])\n",
    "print(\"After append values to the end of the array:\")\n",
    "print(x)"
   ]
  },
  {
   "cell_type": "markdown",
   "id": "perceived-block",
   "metadata": {},
   "source": [
    "## 14: Write a NumPy program to convert the values of Centigrade degrees into Fahrenheit degrees. Centigrade values are stored into a NumPy array."
   ]
  },
  {
   "cell_type": "code",
   "execution_count": 160,
   "id": "productive-classics",
   "metadata": {},
   "outputs": [],
   "source": [
    "Fah = [ 0., 12., 45.21, 34., 99.91]"
   ]
  },
  {
   "cell_type": "code",
   "execution_count": 184,
   "id": "worth-cocktail",
   "metadata": {},
   "outputs": [
    {
     "name": "stdout",
     "output_type": "stream",
     "text": [
      "Fahrenheit degrees : [ 0.   12.   45.21 34.   99.91]\n"
     ]
    }
   ],
   "source": [
    "fah = np.array(Fah)\n",
    "print(\"Fahrenheit degrees :\", fah)"
   ]
  },
  {
   "cell_type": "code",
   "execution_count": 185,
   "id": "duplicate-pharmacology",
   "metadata": {},
   "outputs": [
    {
     "name": "stdout",
     "output_type": "stream",
     "text": [
      "Centigrade degrees : [-17.77777778 -11.11111111   7.33888889   1.11111111  37.72777778]\n"
     ]
    }
   ],
   "source": [
    "cel = (fah - 32) / 1.8\n",
    "\n",
    "print(\"Centigrade degrees :\", cel)"
   ]
  },
  {
   "cell_type": "markdown",
   "id": "virgin-clearance",
   "metadata": {},
   "source": [
    "## 19: Write a NumPy program to get the unique elements of an array."
   ]
  },
  {
   "cell_type": "code",
   "execution_count": 165,
   "id": "capital-survey",
   "metadata": {},
   "outputs": [
    {
     "data": {
      "text/plain": [
       "array([10, 10, 20, 20, 30, 30])"
      ]
     },
     "execution_count": 165,
     "metadata": {},
     "output_type": "execute_result"
    }
   ],
   "source": [
    "arr5 = np.array([10, 10, 20, 20, 30, 30])\n",
    "\n",
    "arr5"
   ]
  },
  {
   "cell_type": "code",
   "execution_count": 167,
   "id": "lonely-induction",
   "metadata": {},
   "outputs": [
    {
     "name": "stdout",
     "output_type": "stream",
     "text": [
      "Unique elements of the above array: [10, 20, 30]\n"
     ]
    }
   ],
   "source": [
    "unique = []\n",
    "for i in arr5 :\n",
    "    if i not in unique:\n",
    "        unique.append(i)\n",
    "print(\"Unique elements of the above array:\", unique)"
   ]
  },
  {
   "cell_type": "code",
   "execution_count": 181,
   "id": "collective-horse",
   "metadata": {},
   "outputs": [
    {
     "name": "stdout",
     "output_type": "stream",
     "text": [
      "Unique elements of the above array: [10 20 30]\n"
     ]
    }
   ],
   "source": [
    "# np.unique fonksiyonu ile çözümü\n",
    "\n",
    "print(\"Unique elements of the array:\", np.unique(arr5))"
   ]
  },
  {
   "cell_type": "code",
   "execution_count": 182,
   "id": "common-organ",
   "metadata": {},
   "outputs": [
    {
     "data": {
      "text/plain": [
       "array([[1, 2, 2],\n",
       "       [4, 5, 4],\n",
       "       [2, 1, 3]])"
      ]
     },
     "execution_count": 182,
     "metadata": {},
     "output_type": "execute_result"
    }
   ],
   "source": [
    "arr6 = np.array([[1, 2, 2], [4, 5, 4], [2, 1, 3]])\n",
    "\n",
    "arr6"
   ]
  },
  {
   "cell_type": "code",
   "execution_count": 183,
   "id": "nominated-ladder",
   "metadata": {},
   "outputs": [
    {
     "name": "stdout",
     "output_type": "stream",
     "text": [
      "Unique elements of the array: [1 2 3 4 5]\n"
     ]
    }
   ],
   "source": [
    "print(\"Unique elements of the array:\", np.unique(arr6))"
   ]
  },
  {
   "cell_type": "raw",
   "id": "strange-hindu",
   "metadata": {},
   "source": [
    "\"\"\"\n",
    "??????????????????????????????\n",
    "unique = []\n",
    "for i in arr6 :\n",
    "    if i not in unique:\n",
    "        unique.append(i)\n",
    "print(\"Unique elements of the above array:\", unique)\n",
    "\"\"\""
   ]
  },
  {
   "cell_type": "code",
   "execution_count": 33,
   "id": "rotary-lafayette",
   "metadata": {},
   "outputs": [],
   "source": [
    "import pandas as pd"
   ]
  },
  {
   "cell_type": "markdown",
   "id": "saved-allah",
   "metadata": {},
   "source": [
    "## 2: Write a Pandas program to convert a Pandas module Series to Python list and it's type."
   ]
  },
  {
   "cell_type": "code",
   "execution_count": 2,
   "id": "color-bankruptcy",
   "metadata": {},
   "outputs": [],
   "source": [
    "list = [1, 5, 10, 15, 20]"
   ]
  },
  {
   "cell_type": "code",
   "execution_count": 5,
   "id": "virtual-synthetic",
   "metadata": {},
   "outputs": [
    {
     "data": {
      "text/plain": [
       "0     1\n",
       "1     5\n",
       "2    10\n",
       "3    15\n",
       "4    20\n",
       "dtype: int64"
      ]
     },
     "execution_count": 5,
     "metadata": {},
     "output_type": "execute_result"
    }
   ],
   "source": [
    "ser = pd.Series(data = list)\n",
    "\n",
    "ser"
   ]
  },
  {
   "cell_type": "code",
   "execution_count": 6,
   "id": "colonial-convention",
   "metadata": {},
   "outputs": [
    {
     "data": {
      "text/plain": [
       "pandas.core.series.Series"
      ]
     },
     "execution_count": 6,
     "metadata": {},
     "output_type": "execute_result"
    }
   ],
   "source": [
    "type(ser)"
   ]
  },
  {
   "cell_type": "code",
   "execution_count": 7,
   "id": "lonely-carolina",
   "metadata": {},
   "outputs": [
    {
     "data": {
      "text/plain": [
       "[1, 5, 10, 15, 20]"
      ]
     },
     "execution_count": 7,
     "metadata": {},
     "output_type": "execute_result"
    }
   ],
   "source": [
    "ser.tolist()"
   ]
  },
  {
   "cell_type": "code",
   "execution_count": 8,
   "id": "agricultural-dressing",
   "metadata": {},
   "outputs": [
    {
     "name": "stdout",
     "output_type": "stream",
     "text": [
      "<class 'list'>\n"
     ]
    }
   ],
   "source": [
    "print(type(ser.tolist()))"
   ]
  },
  {
   "cell_type": "code",
   "execution_count": 9,
   "id": "incorporate-publisher",
   "metadata": {},
   "outputs": [
    {
     "data": {
      "text/plain": [
       "0     1\n",
       "1     5\n",
       "2    10\n",
       "3    15\n",
       "4    20\n",
       "dtype: int64"
      ]
     },
     "execution_count": 9,
     "metadata": {},
     "output_type": "execute_result"
    }
   ],
   "source": [
    "ser"
   ]
  },
  {
   "cell_type": "code",
   "execution_count": 15,
   "id": "mounted-twist",
   "metadata": {},
   "outputs": [
    {
     "data": {
      "text/plain": [
       "[1, 5, 10, 15, 20]"
      ]
     },
     "execution_count": 15,
     "metadata": {},
     "output_type": "execute_result"
    }
   ],
   "source": [
    "ser.to_list()"
   ]
  },
  {
   "cell_type": "code",
   "execution_count": 12,
   "id": "respective-sponsorship",
   "metadata": {},
   "outputs": [
    {
     "data": {
      "text/plain": [
       "{0: 1, 1: 5, 2: 10, 3: 15, 4: 20}"
      ]
     },
     "execution_count": 12,
     "metadata": {},
     "output_type": "execute_result"
    }
   ],
   "source": [
    "ser.to_dict()"
   ]
  },
  {
   "cell_type": "code",
   "execution_count": 16,
   "id": "neither-target",
   "metadata": {},
   "outputs": [
    {
     "data": {
      "text/plain": [
       "'0     1\\n1     5\\n2    10\\n3    15\\n4    20'"
      ]
     },
     "execution_count": 16,
     "metadata": {},
     "output_type": "execute_result"
    }
   ],
   "source": [
    "ser.to_string()"
   ]
  },
  {
   "cell_type": "markdown",
   "id": "broke-ribbon",
   "metadata": {},
   "source": [
    "## 3: Write a Pandas program to add, subtract, multiple and divide two Pandas Series."
   ]
  },
  {
   "cell_type": "code",
   "execution_count": 18,
   "id": "preliminary-camcorder",
   "metadata": {},
   "outputs": [],
   "source": [
    "list1 = [2, 4, 6, 8, 10]\n",
    "list2 = [1, 3, 5, 7, 9]"
   ]
  },
  {
   "cell_type": "code",
   "execution_count": 19,
   "id": "mexican-operation",
   "metadata": {},
   "outputs": [],
   "source": [
    "ser1 = pd.Series(list1)\n",
    "ser2 = pd.Series(list2)"
   ]
  },
  {
   "cell_type": "code",
   "execution_count": 20,
   "id": "celtic-station",
   "metadata": {},
   "outputs": [
    {
     "data": {
      "text/plain": [
       "0     3\n",
       "1     7\n",
       "2    11\n",
       "3    15\n",
       "4    19\n",
       "dtype: int64"
      ]
     },
     "execution_count": 20,
     "metadata": {},
     "output_type": "execute_result"
    }
   ],
   "source": [
    "ser_add = ser1 + ser2\n",
    "\n",
    "ser_add\n",
    "\n",
    "# ser1 ile ser2 nin elemanlarını karşılıklı toplayıp yeni bir seri elde ettik."
   ]
  },
  {
   "cell_type": "code",
   "execution_count": 21,
   "id": "prime-spiritual",
   "metadata": {},
   "outputs": [
    {
     "data": {
      "text/plain": [
       "0    1\n",
       "1    1\n",
       "2    1\n",
       "3    1\n",
       "4    1\n",
       "dtype: int64"
      ]
     },
     "execution_count": 21,
     "metadata": {},
     "output_type": "execute_result"
    }
   ],
   "source": [
    "ser_subt = ser1 - ser2\n",
    "\n",
    "ser_subt"
   ]
  },
  {
   "cell_type": "code",
   "execution_count": 22,
   "id": "dated-launch",
   "metadata": {},
   "outputs": [
    {
     "data": {
      "text/plain": [
       "0     2\n",
       "1    12\n",
       "2    30\n",
       "3    56\n",
       "4    90\n",
       "dtype: int64"
      ]
     },
     "execution_count": 22,
     "metadata": {},
     "output_type": "execute_result"
    }
   ],
   "source": [
    "ser_mult = ser1 * ser2\n",
    "\n",
    "ser_mult"
   ]
  },
  {
   "cell_type": "code",
   "execution_count": 24,
   "id": "satisfactory-blame",
   "metadata": {},
   "outputs": [
    {
     "data": {
      "text/plain": [
       "0     2\n",
       "1    12\n",
       "2    30\n",
       "3    56\n",
       "4    90\n",
       "dtype: int64"
      ]
     },
     "execution_count": 24,
     "metadata": {},
     "output_type": "execute_result"
    }
   ],
   "source": [
    "ser_mult = np.multiply(ser1,ser2)\n",
    "ser_mult"
   ]
  },
  {
   "cell_type": "code",
   "execution_count": 212,
   "id": "familiar-sleep",
   "metadata": {},
   "outputs": [
    {
     "data": {
      "text/plain": [
       "0    2.000000\n",
       "1    1.333333\n",
       "2    1.200000\n",
       "3    1.142857\n",
       "4    1.111111\n",
       "dtype: float64"
      ]
     },
     "execution_count": 212,
     "metadata": {},
     "output_type": "execute_result"
    }
   ],
   "source": [
    "ser_div = ser1 / ser2\n",
    "\n",
    "ser_div"
   ]
  },
  {
   "cell_type": "code",
   "execution_count": 202,
   "id": "bigger-seven",
   "metadata": {},
   "outputs": [
    {
     "data": {
      "text/html": [
       "<div>\n",
       "<style scoped>\n",
       "    .dataframe tbody tr th:only-of-type {\n",
       "        vertical-align: middle;\n",
       "    }\n",
       "\n",
       "    .dataframe tbody tr th {\n",
       "        vertical-align: top;\n",
       "    }\n",
       "\n",
       "    .dataframe thead th {\n",
       "        text-align: right;\n",
       "    }\n",
       "</style>\n",
       "<table border=\"1\" class=\"dataframe\">\n",
       "  <thead>\n",
       "    <tr style=\"text-align: right;\">\n",
       "      <th></th>\n",
       "      <th>0</th>\n",
       "      <th>1</th>\n",
       "    </tr>\n",
       "  </thead>\n",
       "  <tbody>\n",
       "    <tr>\n",
       "      <th>0</th>\n",
       "      <td>2</td>\n",
       "      <td>1</td>\n",
       "    </tr>\n",
       "    <tr>\n",
       "      <th>1</th>\n",
       "      <td>4</td>\n",
       "      <td>3</td>\n",
       "    </tr>\n",
       "    <tr>\n",
       "      <th>2</th>\n",
       "      <td>6</td>\n",
       "      <td>5</td>\n",
       "    </tr>\n",
       "    <tr>\n",
       "      <th>3</th>\n",
       "      <td>8</td>\n",
       "      <td>7</td>\n",
       "    </tr>\n",
       "    <tr>\n",
       "      <th>4</th>\n",
       "      <td>10</td>\n",
       "      <td>9</td>\n",
       "    </tr>\n",
       "  </tbody>\n",
       "</table>\n",
       "</div>"
      ],
      "text/plain": [
       "    0  1\n",
       "0   2  1\n",
       "1   4  3\n",
       "2   6  5\n",
       "3   8  7\n",
       "4  10  9"
      ]
     },
     "execution_count": 202,
     "metadata": {},
     "output_type": "execute_result"
    }
   ],
   "source": [
    " # bu da iki seriyi birleştirip onlardan dataFrame yapmak\n",
    "\n",
    "df = pd.concat([ser1, ser2], axis = 1)\n",
    "df"
   ]
  },
  {
   "cell_type": "markdown",
   "id": "piano-occurrence",
   "metadata": {},
   "source": [
    "  ## 5: Write a Pandas program to convert a dictionary to a Pandas series."
   ]
  },
  {
   "cell_type": "code",
   "execution_count": 26,
   "id": "earned-convert",
   "metadata": {},
   "outputs": [],
   "source": [
    "keys=['a','b','c','d','e']\n",
    "values = [100, 200, 300, 400, 800]"
   ]
  },
  {
   "cell_type": "code",
   "execution_count": 228,
   "id": "decimal-interpretation",
   "metadata": {},
   "outputs": [
    {
     "name": "stdout",
     "output_type": "stream",
     "text": [
      "('a', 100) ('b', 200) ('c', 300) ('d', 400) ('e', 800)\n"
     ]
    }
   ],
   "source": [
    "print(*zip(keys, values))"
   ]
  },
  {
   "cell_type": "code",
   "execution_count": 27,
   "id": "european-champion",
   "metadata": {},
   "outputs": [
    {
     "data": {
      "text/plain": [
       "{'a': 100, 'b': 200, 'c': 300, 'd': 400, 'e': 800}"
      ]
     },
     "execution_count": 27,
     "metadata": {},
     "output_type": "execute_result"
    }
   ],
   "source": [
    "d = {}\n",
    "for i, ii in zip(keys, values):\n",
    "    d[i] = ii\n",
    "d"
   ]
  },
  {
   "cell_type": "code",
   "execution_count": 232,
   "id": "regular-corrections",
   "metadata": {},
   "outputs": [
    {
     "data": {
      "text/plain": [
       "{'a': 100, 'b': 200, 'c': 300, 'd': 400, 'e': 800}"
      ]
     },
     "execution_count": 232,
     "metadata": {},
     "output_type": "execute_result"
    }
   ],
   "source": [
    "# Create a dictionary from keys and values\n",
    "\n",
    "dict1 = {}\n",
    "for a, b in zip(keys, values) :\n",
    "    dict1[a] = b\n",
    "dict1"
   ]
  },
  {
   "cell_type": "code",
   "execution_count": 233,
   "id": "interstate-barcelona",
   "metadata": {},
   "outputs": [
    {
     "data": {
      "text/plain": [
       "a    100\n",
       "b    200\n",
       "c    300\n",
       "d    400\n",
       "e    800\n",
       "dtype: int64"
      ]
     },
     "execution_count": 233,
     "metadata": {},
     "output_type": "execute_result"
    }
   ],
   "source": [
    "# dict1'i seriye çevirme:\n",
    "\n",
    "series = pd.Series(dict1)\n",
    "\n",
    "series"
   ]
  },
  {
   "cell_type": "markdown",
   "id": "refined-handling",
   "metadata": {},
   "source": [
    "## 6: Write a Pandas program to convert a NumPy array to a Pandas series."
   ]
  },
  {
   "cell_type": "code",
   "execution_count": 234,
   "id": "speaking-blanket",
   "metadata": {},
   "outputs": [],
   "source": [
    "data = [10, 20, 30, 40, 50]"
   ]
  },
  {
   "cell_type": "code",
   "execution_count": 235,
   "id": "square-connecticut",
   "metadata": {},
   "outputs": [
    {
     "data": {
      "text/plain": [
       "array([10, 20, 30, 40, 50])"
      ]
     },
     "execution_count": 235,
     "metadata": {},
     "output_type": "execute_result"
    }
   ],
   "source": [
    "# Create a numpy array with this data\n",
    "\n",
    "arr = np.array(data)\n",
    "\n",
    "arr"
   ]
  },
  {
   "cell_type": "code",
   "execution_count": 236,
   "id": "imported-tuition",
   "metadata": {},
   "outputs": [
    {
     "data": {
      "text/plain": [
       "0    10\n",
       "1    20\n",
       "2    30\n",
       "3    40\n",
       "4    50\n",
       "dtype: int32"
      ]
     },
     "execution_count": 236,
     "metadata": {},
     "output_type": "execute_result"
    }
   ],
   "source": [
    "# Convert a NumPy array to Pandas series.\n",
    "\n",
    "ser = pd.Series(arr)\n",
    "\n",
    "ser"
   ]
  },
  {
   "cell_type": "markdown",
   "id": "statistical-broadcasting",
   "metadata": {},
   "source": [
    "## 12: Write a Pandas program to add some data to an existing Series.|"
   ]
  },
  {
   "cell_type": "code",
   "execution_count": 237,
   "id": "narrative-secretariat",
   "metadata": {},
   "outputs": [],
   "source": [
    "data1 = ['100', '200', 'python', '300.12', '400']"
   ]
  },
  {
   "cell_type": "code",
   "execution_count": 240,
   "id": "durable-polyester",
   "metadata": {},
   "outputs": [
    {
     "name": "stdout",
     "output_type": "stream",
     "text": [
      "Original Data Series :\n",
      " 0       100\n",
      "1       200\n",
      "2    python\n",
      "3    300.12\n",
      "4       400\n",
      "dtype: object\n"
     ]
    }
   ],
   "source": [
    "# Built a pandas Series with this data\n",
    "\n",
    "ser1 = pd.Series(data1)\n",
    "print(\"Original Data Series :\\n\", ser1)\n"
   ]
  },
  {
   "cell_type": "code",
   "execution_count": 31,
   "id": "convenient-surname",
   "metadata": {},
   "outputs": [
    {
     "data": {
      "text/plain": [
       "0      2\n",
       "1      4\n",
       "2      6\n",
       "3      8\n",
       "4     10\n",
       "0    500\n",
       "1    php\n",
       "dtype: object"
      ]
     },
     "execution_count": 31,
     "metadata": {},
     "output_type": "execute_result"
    }
   ],
   "source": [
    "# Add ['500', 'php'] to the original Data Series\n",
    "\n",
    "ser2 = pd.Series(['500', 'php'])\n",
    "ser2\n",
    "\n",
    "ser1.append(ser2)"
   ]
  },
  {
   "cell_type": "code",
   "execution_count": 247,
   "id": "latest-assignment",
   "metadata": {},
   "outputs": [
    {
     "data": {
      "text/plain": [
       "0       100\n",
       "1       200\n",
       "2    python\n",
       "3    300.12\n",
       "4       400\n",
       "5       500\n",
       "6       php\n",
       "dtype: object"
      ]
     },
     "execution_count": 247,
     "metadata": {},
     "output_type": "execute_result"
    }
   ],
   "source": [
    "# Add ['500', 'php'] to the original Data Series ignoring index\n",
    "\n",
    "ser2 = pd.Series(['500', 'php'])\n",
    "ser2\n",
    "\n",
    "ser1.append(ser2, ignore_index = True)"
   ]
  },
  {
   "cell_type": "markdown",
   "id": "grave-jason",
   "metadata": {},
   "source": [
    "### başka bir örnek"
   ]
  },
  {
   "cell_type": "code",
   "execution_count": 241,
   "id": "engaged-southwest",
   "metadata": {},
   "outputs": [
    {
     "data": {
      "text/plain": [
       "0    1\n",
       "1    2\n",
       "2    3\n",
       "0    4\n",
       "1    5\n",
       "2    6\n",
       "dtype: int64"
      ]
     },
     "execution_count": 241,
     "metadata": {},
     "output_type": "execute_result"
    }
   ],
   "source": [
    "s1 = pd.Series([1, 2, 3])\n",
    "s2 = pd.Series([4, 5, 6])\n",
    "s3 = pd.Series([4, 5, 6], index=[3, 4, 5])\n",
    "s1.append(s2)"
   ]
  },
  {
   "cell_type": "code",
   "execution_count": 242,
   "id": "annoying-scientist",
   "metadata": {},
   "outputs": [
    {
     "data": {
      "text/plain": [
       "0    1\n",
       "1    2\n",
       "2    3\n",
       "3    4\n",
       "4    5\n",
       "5    6\n",
       "dtype: int64"
      ]
     },
     "execution_count": 242,
     "metadata": {},
     "output_type": "execute_result"
    }
   ],
   "source": [
    "s1.append(s3)"
   ]
  },
  {
   "cell_type": "code",
   "execution_count": 243,
   "id": "connected-maryland",
   "metadata": {},
   "outputs": [
    {
     "data": {
      "text/plain": [
       "0    1\n",
       "1    2\n",
       "2    3\n",
       "3    4\n",
       "4    5\n",
       "5    6\n",
       "dtype: int64"
      ]
     },
     "execution_count": 243,
     "metadata": {},
     "output_type": "execute_result"
    }
   ],
   "source": [
    "s1.append(s2, ignore_index=True)\n",
    "\n",
    "# s2nin indeks numaralarının ignore edildiğini ve default olarak verildiğini gör."
   ]
  },
  {
   "cell_type": "markdown",
   "id": "fourth-soccer",
   "metadata": {},
   "source": [
    "## 13: Write a Pandas program to create a subset of a given series based on value and condition."
   ]
  },
  {
   "cell_type": "code",
   "execution_count": 34,
   "id": "toxic-aerospace",
   "metadata": {},
   "outputs": [],
   "source": [
    "data3 = [0,1,2,3,4,5,6,7,8,9,10]"
   ]
  },
  {
   "cell_type": "code",
   "execution_count": 35,
   "id": "framed-novelty",
   "metadata": {},
   "outputs": [
    {
     "data": {
      "text/plain": [
       "0      0\n",
       "1      1\n",
       "2      2\n",
       "3      3\n",
       "4      4\n",
       "5      5\n",
       "6      6\n",
       "7      7\n",
       "8      8\n",
       "9      9\n",
       "10    10\n",
       "dtype: int64"
      ]
     },
     "execution_count": 35,
     "metadata": {},
     "output_type": "execute_result"
    }
   ],
   "source": [
    "# Built a pandas Series with this data\n",
    "\n",
    "ser3 = pd.Series(data3)\n",
    "\n",
    "ser3"
   ]
  },
  {
   "cell_type": "code",
   "execution_count": 250,
   "id": "broke-niger",
   "metadata": {
    "scrolled": true
   },
   "outputs": [
    {
     "data": {
      "text/plain": [
       "0      True\n",
       "1      True\n",
       "2      True\n",
       "3      True\n",
       "4      True\n",
       "5      True\n",
       "6     False\n",
       "7     False\n",
       "8     False\n",
       "9     False\n",
       "10    False\n",
       "dtype: bool"
      ]
     },
     "execution_count": 250,
     "metadata": {},
     "output_type": "execute_result"
    }
   ],
   "source": [
    "# Create a new series with data with a value less than 6\n",
    "\n",
    "ser_new = pd.Series(ser3 < 6)\n",
    "\n",
    "ser_new"
   ]
  },
  {
   "cell_type": "code",
   "execution_count": 252,
   "id": "reduced-energy",
   "metadata": {},
   "outputs": [
    {
     "data": {
      "text/plain": [
       "0    0\n",
       "1    1\n",
       "2    2\n",
       "3    3\n",
       "4    4\n",
       "5    5\n",
       "dtype: int64"
      ]
     },
     "execution_count": 252,
     "metadata": {},
     "output_type": "execute_result"
    }
   ],
   "source": [
    "ser_new = ser3[ser3 < 6]\n",
    "\n",
    "ser_new"
   ]
  },
  {
   "cell_type": "code",
   "execution_count": 38,
   "id": "communist-florida",
   "metadata": {},
   "outputs": [
    {
     "data": {
      "text/plain": [
       "0    0\n",
       "1    1\n",
       "2    2\n",
       "3    3\n",
       "4    4\n",
       "5    5\n",
       "dtype: int64"
      ]
     },
     "execution_count": 38,
     "metadata": {},
     "output_type": "execute_result"
    }
   ],
   "source": [
    "ser3[pd.Series(ser3<6)]"
   ]
  },
  {
   "cell_type": "code",
   "execution_count": 40,
   "id": "judicial-opportunity",
   "metadata": {},
   "outputs": [],
   "source": [
    "arr = np.array([11, 12, 13, 14, 15, 16, 17, 15, 11, 12, 14, 15, 16, 17])"
   ]
  },
  {
   "cell_type": "code",
   "execution_count": 112,
   "id": "laughing-stretch",
   "metadata": {},
   "outputs": [
    {
     "data": {
      "text/plain": [
       "(array([ 4,  7, 11], dtype=int64),)"
      ]
     },
     "execution_count": 112,
     "metadata": {},
     "output_type": "execute_result"
    }
   ],
   "source": [
    "result = np.where(arr == 15)\n",
    "result"
   ]
  },
  {
   "cell_type": "code",
   "execution_count": 41,
   "id": "active-discipline",
   "metadata": {},
   "outputs": [
    {
     "data": {
      "text/plain": [
       "(array([ 5,  6, 12, 13], dtype=int64),)"
      ]
     },
     "execution_count": 41,
     "metadata": {},
     "output_type": "execute_result"
    }
   ],
   "source": [
    "np.where(arr > 15)"
   ]
  },
  {
   "cell_type": "code",
   "execution_count": 42,
   "id": "adequate-journal",
   "metadata": {},
   "outputs": [
    {
     "data": {
      "text/plain": [
       "array([16, 17, 16, 17])"
      ]
     },
     "execution_count": 42,
     "metadata": {},
     "output_type": "execute_result"
    }
   ],
   "source": [
    "arr[np.where(arr > 15)]"
   ]
  }
 ],
 "metadata": {
  "kernelspec": {
   "display_name": "Python 3",
   "language": "python",
   "name": "python3"
  },
  "language_info": {
   "codemirror_mode": {
    "name": "ipython",
    "version": 3
   },
   "file_extension": ".py",
   "mimetype": "text/x-python",
   "name": "python",
   "nbconvert_exporter": "python",
   "pygments_lexer": "ipython3",
   "version": "3.7.8"
  }
 },
 "nbformat": 4,
 "nbformat_minor": 5
}
