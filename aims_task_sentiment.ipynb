{
  "nbformat": 4,
  "nbformat_minor": 0,
  "metadata": {
    "colab": {
      "provenance": [],
      "private_outputs": true,
      "include_colab_link": true
    },
    "kernelspec": {
      "name": "python3",
      "display_name": "Python 3"
    },
    "language_info": {
      "name": "python"
    },
    "accelerator": "TPU",
    "gpuClass": "standard"
  },
  "cells": [
    {
      "cell_type": "markdown",
      "metadata": {
        "id": "view-in-github",
        "colab_type": "text"
      },
      "source": [
        "<a href=\"https://colab.research.google.com/github/eildes06/Data_Science/blob/main/aims_task_sentiment.ipynb\" target=\"_parent\"><img src=\"https://colab.research.google.com/assets/colab-badge.svg\" alt=\"Open In Colab\"/></a>"
      ]
    },
    {
      "cell_type": "code",
      "execution_count": null,
      "metadata": {
        "id": "uITZdg-tJ4vE"
      },
      "outputs": [],
      "source": [
        "import numpy as np\n",
        "import pandas as pd\n",
        "import seaborn as sns\n",
        "import matplotlib.pyplot as plt\n",
        "import nltk\n",
        "from nltk.tokenize import sent_tokenize, word_tokenize\n",
        "from nltk.corpus import stopwords\n",
        "from nltk.stem import WordNetLemmatizer\n",
        "from nltk.stem import PorterStemmer\n",
        "from wordcloud import WordCloud\n",
        "from gensim.models import Word2Vec\n",
        "from sklearn.model_selection import train_test_split\n",
        "from sklearn.linear_model import LogisticRegression\n",
        "from sklearn.svm import LinearSVC\n",
        "from sklearn.neighbors import KNeighborsClassifier\n",
        "from sklearn.ensemble import RandomForestClassifier\n",
        "from sklearn.ensemble import AdaBoostClassifier\n",
        "from sklearn.feature_extraction.text import TfidfVectorizer\n",
        "from sklearn.naive_bayes import MultinomialNB, BernoulliNB\n",
        "from sklearn.feature_extraction.text import CountVectorizer\n",
        "from sklearn.model_selection import cross_validate\n",
        "from sklearn.metrics import make_scorer\n",
        "from sklearn.metrics import confusion_matrix, classification_report, f1_score, recall_score\n",
        "from tensorflow.keras.models import Sequential\n",
        "from tensorflow.keras.layers import Dense, GRU, Embedding, Dropout\n",
        "from tensorflow.keras.optimizers import Adam\n",
        "from tensorflow.keras.preprocessing.text import Tokenizer\n",
        "from tensorflow.keras.preprocessing.sequence import pad_sequences\n",
        "from gensim.scripts.glove2word2vec import glove2word2vec\n",
        "from gensim.models import KeyedVectors\n",
        "from yellowbrick.classifier import PrecisionRecallCurve\n",
        "from sklearn.pipeline import Pipeline\n",
        "import warnings\n",
        "warnings.filterwarnings(\"ignore\")\n",
        "plt.rcParams[\"figure.figsize\"] = (10,6)\n",
        "pd.set_option('display.max_columns', 50)"
      ]
    },
    {
      "cell_type": "code",
      "source": [
        "# burda header ile ilgili duzenleme yapildi cunku data duzgun okunmuyordu "
      ],
      "metadata": {
        "id": "MDVyIJ7MTSxT"
      },
      "execution_count": null,
      "outputs": []
    },
    {
      "cell_type": "code",
      "source": [
        "from google.colab import drive\n",
        "drive.mount('/content/drive')"
      ],
      "metadata": {
        "id": "CdvjM3Z90saV"
      },
      "execution_count": null,
      "outputs": []
    },
    {
      "cell_type": "code",
      "source": [
        "df0 = pd.read_csv('/content/drive/MyDrive/Data/Comments_Demo.csv')"
      ],
      "metadata": {
        "id": "RQokzerYSCsH"
      },
      "execution_count": null,
      "outputs": []
    },
    {
      "cell_type": "code",
      "source": [
        "df = df0.copy()\n",
        "df.sample(13)"
      ],
      "metadata": {
        "id": "4g-lZhMiKool"
      },
      "execution_count": null,
      "outputs": []
    },
    {
      "cell_type": "code",
      "source": [],
      "metadata": {
        "id": "eUoOyNG7Ynio"
      },
      "execution_count": null,
      "outputs": []
    },
    {
      "cell_type": "code",
      "source": [
        "\n",
        "def split_sep(x):\n",
        "  if x.__contains__(\",\"):\n",
        "      return x.split(\",\")[0]\n",
        "  elif x.__contains__(\"\\|\") :\n",
        "      return x.split(\"\\|\")[0]\n",
        "df[\"id\"] = df[\"ID,Comments\"].apply(split_sep)"
      ],
      "metadata": {
        "id": "sADw7inpUUTg"
      },
      "execution_count": null,
      "outputs": []
    },
    {
      "cell_type": "code",
      "source": [
        "df[\"id\"]"
      ],
      "metadata": {
        "id": "myOzPPNo2HpV"
      },
      "execution_count": null,
      "outputs": []
    },
    {
      "cell_type": "code",
      "source": [
        "def split_sep1(x):\n",
        "  if x.__contains__(\",\"):\n",
        "      return x.split(\",\")[1]\n",
        "  elif x.__contains__(\"\\|\") :\n",
        "      return x.split(\"\\|\")[1]\n",
        "df[\"Comments\"] = df[\"ID,Comments\"].apply(split_sep1)"
      ],
      "metadata": {
        "id": "B-llH1Fm4fAf"
      },
      "execution_count": null,
      "outputs": []
    },
    {
      "cell_type": "code",
      "source": [],
      "metadata": {
        "id": "kf8fgswJ5qzJ"
      },
      "execution_count": null,
      "outputs": []
    },
    {
      "cell_type": "code",
      "source": [
        "df[\"Comments\"]"
      ],
      "metadata": {
        "id": "P8MI7Gpe4qGi"
      },
      "execution_count": null,
      "outputs": []
    },
    {
      "cell_type": "code",
      "source": [
        "df[\"ID,Comments\"] = df[\"ID,Comments\"].str.replace('|','__').astype(\"str\")"
      ],
      "metadata": {
        "id": "OZwh6K2caeVZ"
      },
      "execution_count": null,
      "outputs": []
    },
    {
      "cell_type": "code",
      "source": [
        "df[\"ID,Comments\"] = df[\"ID,Comments\"].str.replace(',','__')"
      ],
      "metadata": {
        "id": "eA99u2UMZG0O"
      },
      "execution_count": null,
      "outputs": []
    },
    {
      "cell_type": "code",
      "source": [
        "df[\"ID,Comments\"] = df[\"ID,Comments\"].str.split(\"__\")"
      ],
      "metadata": {
        "id": "9_aHO3MrbvTh"
      },
      "execution_count": null,
      "outputs": []
    },
    {
      "cell_type": "code",
      "source": [
        "df.sample(16)"
      ],
      "metadata": {
        "id": "rx-Jf6PgarNB"
      },
      "execution_count": null,
      "outputs": []
    },
    {
      "cell_type": "code",
      "source": [
        "df[\"ID\"] = df[\"ID,Comments\"].apply(lambda x : x[0])"
      ],
      "metadata": {
        "id": "-Jw7YodjXY4_"
      },
      "execution_count": null,
      "outputs": []
    },
    {
      "cell_type": "code",
      "source": [
        "df[\"ID\"].astype(\"int64\")\n",
        "df[\"ID\"]"
      ],
      "metadata": {
        "id": "3uzEfNIIYiP2"
      },
      "execution_count": null,
      "outputs": []
    },
    {
      "cell_type": "code",
      "source": [
        "df[\"Comments\"] = df[\"ID,Comments\"].apply(lambda x : x[1])\n",
        "df[\"Comments\"]"
      ],
      "metadata": {
        "id": "bQUZOQ_4dxdK"
      },
      "execution_count": null,
      "outputs": []
    },
    {
      "cell_type": "code",
      "source": [
        "df.drop(columns=\"ID,Comments\",inplace=True)"
      ],
      "metadata": {
        "id": "HTbfAoFzKolR"
      },
      "execution_count": null,
      "outputs": []
    },
    {
      "cell_type": "code",
      "source": [
        "df"
      ],
      "metadata": {
        "id": "UaXDI95pKofp"
      },
      "execution_count": null,
      "outputs": []
    },
    {
      "cell_type": "code",
      "source": [
        "!pip install datasets evaluate transformers[sentencepiece]"
      ],
      "metadata": {
        "id": "9JTiCNiA8EWw"
      },
      "execution_count": null,
      "outputs": []
    },
    {
      "cell_type": "code",
      "source": [
        "from transformers import pipeline\n",
        "classifier = pipeline(\"sentiment-analysis\", model=\"distilbert-base-uncased-finetuned-sst-2-english\")"
      ],
      "metadata": {
        "id": "av_sROr98EhB"
      },
      "execution_count": null,
      "outputs": []
    },
    {
      "cell_type": "code",
      "source": [
        "y_pred = []\n",
        "for i in df[\"Comments\"]:\n",
        "  if classifier(i)[0][\"label\"] == \"POSITIVE\":\n",
        "    y_pred.append(0)\n",
        "  else:\n",
        "    y_pred.append(1)\n",
        "y_pred"
      ],
      "metadata": {
        "id": "8qkS7p2e8Erz"
      },
      "execution_count": null,
      "outputs": []
    },
    {
      "cell_type": "code",
      "source": [
        "predict = pd.DataFrame(y_pred, columns= [\"Prediction\"])"
      ],
      "metadata": {
        "id": "-CQx_bJK8EzR"
      },
      "execution_count": null,
      "outputs": []
    },
    {
      "cell_type": "code",
      "source": [
        "predict"
      ],
      "metadata": {
        "id": "xC7G7zbS8E5P"
      },
      "execution_count": null,
      "outputs": []
    },
    {
      "cell_type": "code",
      "source": [
        "df_result = pd.concat([df[\"Comments\"], predict[\"Prediction\"]], axis= 1)"
      ],
      "metadata": {
        "id": "aVINlZT07-p9"
      },
      "execution_count": null,
      "outputs": []
    },
    {
      "cell_type": "code",
      "source": [
        "df_result.head()"
      ],
      "metadata": {
        "id": "cHDgb4dy6YCH"
      },
      "execution_count": null,
      "outputs": []
    },
    {
      "cell_type": "code",
      "source": [
        "df_result[\"Prediction\"].value_counts()"
      ],
      "metadata": {
        "id": "50S1z6Ja6X5t"
      },
      "execution_count": null,
      "outputs": []
    },
    {
      "cell_type": "code",
      "source": [
        "print(df_result[\"Prediction\"].value_counts())\n",
        "df_result[\"Prediction\"].value_counts().plot(kind=\"pie\", autopct='%1.1f%%', figsize=(10,10));"
      ],
      "metadata": {
        "id": "UDvsB0oN6Xlo"
      },
      "execution_count": null,
      "outputs": []
    },
    {
      "cell_type": "code",
      "source": [],
      "metadata": {
        "id": "fmFi5wYX6Xc_"
      },
      "execution_count": null,
      "outputs": []
    }
  ]
}