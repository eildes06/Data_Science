{
 "cells": [
  {
   "cell_type": "markdown",
   "id": "finished-arthritis",
   "metadata": {},
   "source": [
    "# Numpy : Numerical Python"
   ]
  },
  {
   "cell_type": "code",
   "execution_count": null,
   "id": "lucky-initial",
   "metadata": {},
   "outputs": [],
   "source": [
    "# iki farklı diziyi birbiriyle işleme tabi tutabiliriz. çarpabiliriz, bölebiliriz karekök alabiliz vs.\n",
    "# Bunu listelerle yapamayız."
   ]
  },
  {
   "cell_type": "markdown",
   "id": "tight-evening",
   "metadata": {},
   "source": [
    "# Why Numpy?"
   ]
  },
  {
   "cell_type": "code",
   "execution_count": 1,
   "id": "healthy-delaware",
   "metadata": {},
   "outputs": [],
   "source": [
    "# öncelikle numpy ı import edelim\n",
    "\n",
    "import numpy as np"
   ]
  },
  {
   "cell_type": "code",
   "execution_count": 2,
   "id": "material-notion",
   "metadata": {},
   "outputs": [
    {
     "data": {
      "text/plain": [
       "[1, 2, 3]"
      ]
     },
     "execution_count": 2,
     "metadata": {},
     "output_type": "execute_result"
    }
   ],
   "source": [
    "my_list = [1, 2, 3]\n",
    "my_list"
   ]
  },
  {
   "cell_type": "code",
   "execution_count": null,
   "id": "theoretical-boards",
   "metadata": {},
   "outputs": [],
   "source": [
    "# şimdi listemizi array haline getirelim. bunun için array() build-in fonksiyonunu kullanacağız.\n",
    "\n",
    "np.array(my_list)"
   ]
  },
  {
   "cell_type": "code",
   "execution_count": 3,
   "id": "written-stake",
   "metadata": {},
   "outputs": [],
   "source": [
    "arr = np.array(my_list)"
   ]
  },
  {
   "cell_type": "code",
   "execution_count": 4,
   "id": "graphic-bicycle",
   "metadata": {},
   "outputs": [
    {
     "data": {
      "text/plain": [
       "numpy.ndarray"
      ]
     },
     "execution_count": 4,
     "metadata": {},
     "output_type": "execute_result"
    }
   ],
   "source": [
    "type(arr)"
   ]
  },
  {
   "cell_type": "markdown",
   "id": "brazilian-sweden",
   "metadata": {},
   "source": [
    "# Why Numpy?"
   ]
  },
  {
   "cell_type": "code",
   "execution_count": null,
   "id": "north-transparency",
   "metadata": {},
   "outputs": [],
   "source": [
    "\"\"\"\n",
    "NumPy sadece daha verimli değil; ayrıca daha uygundur. Ücretsiz olarak birçok vektör\n",
    "ve matris işlemi elde edersiniz, bu da bazen gereksiz işlerden kaçınmanıza izin verir. \n",
    "Ve ayrıca verimli bir şekilde uygulanırlar. Ayrıca, birçok yararlı kütüphane NumPy dizileriyle çalışır.\n",
    " Örneğin, istatistiksel analiz ve görselleştirme kütüphaneleri.\n",
    "\"\"\""
   ]
  },
  {
   "cell_type": "code",
   "execution_count": 5,
   "id": "minimal-topic",
   "metadata": {},
   "outputs": [],
   "source": [
    "a = [1,2,3,4]\n",
    "b = [2,3,4,5]"
   ]
  },
  {
   "cell_type": "code",
   "execution_count": 7,
   "id": "meaningful-directive",
   "metadata": {},
   "outputs": [
    {
     "data": {
      "text/plain": [
       "[2, 6, 12, 20]"
      ]
     },
     "execution_count": 7,
     "metadata": {},
     "output_type": "execute_result"
    }
   ],
   "source": [
    "ab = []\n",
    "\n",
    "for i in range(0, len(a)):\n",
    "    ab.append(a[i] * b[i])\n",
    "              \n",
    "ab\n",
    "\n",
    "# fakat bu yorucu ve çok yer kaplayan bir işlemdir."
   ]
  },
  {
   "cell_type": "code",
   "execution_count": 8,
   "id": "celtic-relaxation",
   "metadata": {},
   "outputs": [],
   "source": [
    "# şimdi bu işlemi array ile çok daha hızlı bir şekilde yapıldığını görelim.\n",
    "\n",
    "a1 = np.array(a)\n",
    "b1 = np.array(b)"
   ]
  },
  {
   "cell_type": "code",
   "execution_count": 9,
   "id": "taken-necessity",
   "metadata": {},
   "outputs": [
    {
     "data": {
      "text/plain": [
       "array([ 2,  6, 12, 20])"
      ]
     },
     "execution_count": 9,
     "metadata": {},
     "output_type": "execute_result"
    }
   ],
   "source": [
    "a1 * b1"
   ]
  },
  {
   "cell_type": "code",
   "execution_count": 10,
   "id": "expressed-broadcast",
   "metadata": {},
   "outputs": [],
   "source": [
    "# şimdi bir matrix oluşturalım.\n",
    "\n",
    "my_matrix = [[1,2,3], [4,5,6], [7,8,9]]\n"
   ]
  },
  {
   "cell_type": "code",
   "execution_count": 11,
   "id": "analyzed-cowboy",
   "metadata": {},
   "outputs": [
    {
     "data": {
      "text/plain": [
       "array([[1, 2, 3],\n",
       "       [4, 5, 6],\n",
       "       [7, 8, 9]])"
      ]
     },
     "execution_count": 11,
     "metadata": {},
     "output_type": "execute_result"
    }
   ],
   "source": [
    "np.array(my_matrix)\n",
    "\n",
    "# 3'er elemandan oluşan 3 listeyi kullanarak 3 satır ve 3 sütundan oluşan bir matrix oluşturduk"
   ]
  },
  {
   "cell_type": "markdown",
   "id": "emotional-running",
   "metadata": {},
   "source": [
    "# Build-in Methods"
   ]
  },
  {
   "cell_type": "markdown",
   "id": "sexual-updating",
   "metadata": {},
   "source": [
    "# arange"
   ]
  },
  {
   "cell_type": "code",
   "execution_count": 13,
   "id": "innocent-western",
   "metadata": {},
   "outputs": [
    {
     "data": {
      "text/plain": [
       "array([0, 1, 2, 3, 4, 5, 6, 7, 8, 9])"
      ]
     },
     "execution_count": 13,
     "metadata": {},
     "output_type": "execute_result"
    }
   ],
   "source": [
    "# 0 ile 10 arasında (son rakam rakam hariç) bir dizi oluşturalım\n",
    "np.arange(0, 10)"
   ]
  },
  {
   "cell_type": "code",
   "execution_count": 14,
   "id": "exclusive-mills",
   "metadata": {},
   "outputs": [
    {
     "data": {
      "text/plain": [
       "array([ 0,  2,  4,  6,  8, 10])"
      ]
     },
     "execution_count": 14,
     "metadata": {},
     "output_type": "execute_result"
    }
   ],
   "source": [
    "# # 0 dan 10 a kadar (10 hariç) 2 şer atlayarak dizi oluşturalım.\n",
    "\n",
    "np.arange(0 , 11, 2) "
   ]
  },
  {
   "cell_type": "code",
   "execution_count": 15,
   "id": "conditional-governor",
   "metadata": {},
   "outputs": [
    {
     "data": {
      "text/plain": [
       "array([ 0,  3,  6,  9, 12, 15, 18, 21, 24, 27, 30])"
      ]
     },
     "execution_count": 15,
     "metadata": {},
     "output_type": "execute_result"
    }
   ],
   "source": [
    "np.arange(0, 31, 3)"
   ]
  },
  {
   "cell_type": "code",
   "execution_count": 16,
   "id": "amazing-estate",
   "metadata": {},
   "outputs": [
    {
     "data": {
      "text/plain": [
       "array([30, 29, 28, 27, 26, 25, 24, 23, 22, 21, 20, 19, 18, 17, 16, 15, 14,\n",
       "       13, 12, 11, 10,  9,  8,  7,  6,  5,  4,  3,  2,  1])"
      ]
     },
     "execution_count": 16,
     "metadata": {},
     "output_type": "execute_result"
    }
   ],
   "source": [
    "np.arange(30, 0, -1)"
   ]
  },
  {
   "cell_type": "markdown",
   "id": "protective-victorian",
   "metadata": {},
   "source": [
    "# zeros, ones and full"
   ]
  },
  {
   "cell_type": "code",
   "execution_count": 17,
   "id": "simple-jesus",
   "metadata": {},
   "outputs": [
    {
     "data": {
      "text/plain": [
       "array([0., 0., 0.])"
      ]
     },
     "execution_count": 17,
     "metadata": {},
     "output_type": "execute_result"
    }
   ],
   "source": [
    "# sıfırlardan oluşan kayan noktalı dizi oluşturalım\n",
    "\n",
    "np.zeros(3)"
   ]
  },
  {
   "cell_type": "code",
   "execution_count": 18,
   "id": "exclusive-seller",
   "metadata": {},
   "outputs": [
    {
     "data": {
      "text/plain": [
       "array([0., 0., 0., 0., 0., 0., 0., 0., 0., 0.])"
      ]
     },
     "execution_count": 18,
     "metadata": {},
     "output_type": "execute_result"
    }
   ],
   "source": [
    "np.zeros(10)"
   ]
  },
  {
   "cell_type": "code",
   "execution_count": 19,
   "id": "lined-hampton",
   "metadata": {},
   "outputs": [
    {
     "data": {
      "text/plain": [
       "array([[0., 0., 0.],\n",
       "       [0., 0., 0.],\n",
       "       [0., 0., 0.]])"
      ]
     },
     "execution_count": 19,
     "metadata": {},
     "output_type": "execute_result"
    }
   ],
   "source": [
    "# dizimizi şekillendirelim. 3 e 3 matrix yapalım\n",
    "\n",
    "np.zeros((3,3))"
   ]
  },
  {
   "cell_type": "code",
   "execution_count": 20,
   "id": "adjusted-boston",
   "metadata": {},
   "outputs": [
    {
     "data": {
      "text/plain": [
       "array([[False, False, False],\n",
       "       [False, False, False],\n",
       "       [False, False, False]])"
      ]
     },
     "execution_count": 20,
     "metadata": {},
     "output_type": "execute_result"
    }
   ],
   "source": [
    "np.zeros((3,3), dtype=bool)\n",
    "\n",
    "# dizimiz 0 lardan oluştuğu için elemanlar False'a döndü"
   ]
  },
  {
   "cell_type": "code",
   "execution_count": 21,
   "id": "general-louis",
   "metadata": {},
   "outputs": [
    {
     "data": {
      "text/plain": [
       "array([1., 1., 1., 1., 1., 1., 1., 1., 1., 1.])"
      ]
     },
     "execution_count": 21,
     "metadata": {},
     "output_type": "execute_result"
    }
   ],
   "source": [
    " # birlerden oluşan dizi yapalım\n",
    "\n",
    "np.ones(10)"
   ]
  },
  {
   "cell_type": "code",
   "execution_count": 22,
   "id": "posted-record",
   "metadata": {},
   "outputs": [
    {
     "data": {
      "text/plain": [
       "array([1, 1, 1, 1, 1, 1, 1, 1, 1, 1])"
      ]
     },
     "execution_count": 22,
     "metadata": {},
     "output_type": "execute_result"
    }
   ],
   "source": [
    "# noktalarını kaldırıp integer yapalım\n",
    "\n",
    "np.ones(10, dtype=int)"
   ]
  },
  {
   "cell_type": "code",
   "execution_count": 23,
   "id": "union-conflict",
   "metadata": {},
   "outputs": [
    {
     "data": {
      "text/plain": [
       "array([[1., 1., 1., 1., 1., 1., 1., 1., 1., 1.],\n",
       "       [1., 1., 1., 1., 1., 1., 1., 1., 1., 1.],\n",
       "       [1., 1., 1., 1., 1., 1., 1., 1., 1., 1.],\n",
       "       [1., 1., 1., 1., 1., 1., 1., 1., 1., 1.],\n",
       "       [1., 1., 1., 1., 1., 1., 1., 1., 1., 1.],\n",
       "       [1., 1., 1., 1., 1., 1., 1., 1., 1., 1.],\n",
       "       [1., 1., 1., 1., 1., 1., 1., 1., 1., 1.],\n",
       "       [1., 1., 1., 1., 1., 1., 1., 1., 1., 1.],\n",
       "       [1., 1., 1., 1., 1., 1., 1., 1., 1., 1.],\n",
       "       [1., 1., 1., 1., 1., 1., 1., 1., 1., 1.]])"
      ]
     },
     "execution_count": 23,
     "metadata": {},
     "output_type": "execute_result"
    }
   ],
   "source": [
    "# 10 a 10 matrix oluşturalım.\n",
    "\n",
    "np.ones((10,10))"
   ]
  },
  {
   "cell_type": "code",
   "execution_count": 24,
   "id": "intellectual-metadata",
   "metadata": {},
   "outputs": [
    {
     "data": {
      "text/plain": [
       "array([[ True,  True,  True,  True,  True,  True,  True,  True,  True,\n",
       "         True],\n",
       "       [ True,  True,  True,  True,  True,  True,  True,  True,  True,\n",
       "         True],\n",
       "       [ True,  True,  True,  True,  True,  True,  True,  True,  True,\n",
       "         True],\n",
       "       [ True,  True,  True,  True,  True,  True,  True,  True,  True,\n",
       "         True],\n",
       "       [ True,  True,  True,  True,  True,  True,  True,  True,  True,\n",
       "         True],\n",
       "       [ True,  True,  True,  True,  True,  True,  True,  True,  True,\n",
       "         True],\n",
       "       [ True,  True,  True,  True,  True,  True,  True,  True,  True,\n",
       "         True],\n",
       "       [ True,  True,  True,  True,  True,  True,  True,  True,  True,\n",
       "         True],\n",
       "       [ True,  True,  True,  True,  True,  True,  True,  True,  True,\n",
       "         True],\n",
       "       [ True,  True,  True,  True,  True,  True,  True,  True,  True,\n",
       "         True]])"
      ]
     },
     "execution_count": 24,
     "metadata": {},
     "output_type": "execute_result"
    }
   ],
   "source": [
    "np.ones((10,10), dtype=bool)\n",
    "\n",
    "# dizimiz 1 lerden oluştuğu için elemanlar True'a döndü"
   ]
  },
  {
   "cell_type": "code",
   "execution_count": 25,
   "id": "southwest-preliminary",
   "metadata": {},
   "outputs": [
    {
     "data": {
      "text/plain": [
       "array([[3, 3, 3, 3, 3],\n",
       "       [3, 3, 3, 3, 3],\n",
       "       [3, 3, 3, 3, 3]])"
      ]
     },
     "execution_count": 25,
     "metadata": {},
     "output_type": "execute_result"
    }
   ],
   "source": [
    "# 3 satır 5 sütundan oluşan matrix oluşturalım ve onu integer 3 ile dolduralım\n",
    "\n",
    "np.full((3,5),3)"
   ]
  },
  {
   "cell_type": "code",
   "execution_count": 26,
   "id": "wired-valley",
   "metadata": {},
   "outputs": [
    {
     "data": {
      "text/plain": [
       "array([['3', '3', '3', '3'],\n",
       "       ['3', '3', '3', '3'],\n",
       "       ['3', '3', '3', '3'],\n",
       "       ['3', '3', '3', '3']], dtype='<U1')"
      ]
     },
     "execution_count": 26,
     "metadata": {},
     "output_type": "execute_result"
    }
   ],
   "source": [
    "# dizimizi string \"3\" ile dolduralım\n",
    "\n",
    "np.full((4,4), \"3\")"
   ]
  },
  {
   "cell_type": "markdown",
   "id": "fallen-albany",
   "metadata": {},
   "source": [
    "# linspace"
   ]
  },
  {
   "cell_type": "code",
   "execution_count": 30,
   "id": "pregnant-action",
   "metadata": {},
   "outputs": [
    {
     "data": {
      "text/plain": [
       "array([ 0.,  5., 10.])"
      ]
     },
     "execution_count": 30,
     "metadata": {},
     "output_type": "execute_result"
    }
   ],
   "source": [
    "# dizimiz 0 dan 10 a kadar 3 ADIMDA gitsin.. (linspace te son rakam dahil)\n",
    "\n",
    "np.linspace(0, 10, 3) "
   ]
  },
  {
   "cell_type": "code",
   "execution_count": 29,
   "id": "casual-bernard",
   "metadata": {},
   "outputs": [
    {
     "data": {
      "text/plain": [
       "array([ 0.,  1.,  2.,  3.,  4.,  5.,  6.,  7.,  8.,  9., 10.])"
      ]
     },
     "execution_count": 29,
     "metadata": {},
     "output_type": "execute_result"
    }
   ],
   "source": [
    "# dizimiz o dan 10 a kadar 11 ADIMDA gitsin\n",
    "\n",
    "np.linspace(0, 10, 11)\n",
    "\n"
   ]
  },
  {
   "cell_type": "code",
   "execution_count": 31,
   "id": "understanding-inspector",
   "metadata": {},
   "outputs": [
    {
     "data": {
      "text/plain": [
       "array([ 0.        ,  0.52631579,  1.05263158,  1.57894737,  2.10526316,\n",
       "        2.63157895,  3.15789474,  3.68421053,  4.21052632,  4.73684211,\n",
       "        5.26315789,  5.78947368,  6.31578947,  6.84210526,  7.36842105,\n",
       "        7.89473684,  8.42105263,  8.94736842,  9.47368421, 10.        ])"
      ]
     },
     "execution_count": 31,
     "metadata": {},
     "output_type": "execute_result"
    }
   ],
   "source": [
    "np.linspace(0, 10,20)"
   ]
  },
  {
   "cell_type": "code",
   "execution_count": 32,
   "id": "intelligent-shape",
   "metadata": {},
   "outputs": [
    {
     "data": {
      "text/plain": [
       "array([ 0.        ,  0.20408163,  0.40816327,  0.6122449 ,  0.81632653,\n",
       "        1.02040816,  1.2244898 ,  1.42857143,  1.63265306,  1.83673469,\n",
       "        2.04081633,  2.24489796,  2.44897959,  2.65306122,  2.85714286,\n",
       "        3.06122449,  3.26530612,  3.46938776,  3.67346939,  3.87755102,\n",
       "        4.08163265,  4.28571429,  4.48979592,  4.69387755,  4.89795918,\n",
       "        5.10204082,  5.30612245,  5.51020408,  5.71428571,  5.91836735,\n",
       "        6.12244898,  6.32653061,  6.53061224,  6.73469388,  6.93877551,\n",
       "        7.14285714,  7.34693878,  7.55102041,  7.75510204,  7.95918367,\n",
       "        8.16326531,  8.36734694,  8.57142857,  8.7755102 ,  8.97959184,\n",
       "        9.18367347,  9.3877551 ,  9.59183673,  9.79591837, 10.        ])"
      ]
     },
     "execution_count": 32,
     "metadata": {},
     "output_type": "execute_result"
    }
   ],
   "source": [
    "# adım sayısını belirlemezsek DEFAULT olarak 50 adımda gidiyor \n",
    "\n",
    "np.linspace(0,10)"
   ]
  },
  {
   "cell_type": "code",
   "execution_count": 33,
   "id": "unique-humanitarian",
   "metadata": {},
   "outputs": [
    {
     "data": {
      "text/plain": [
       "array([ 0,  5, 11, 16, 22, 27, 33, 38, 44, 50])"
      ]
     },
     "execution_count": 33,
     "metadata": {},
     "output_type": "execute_result"
    }
   ],
   "source": [
    "# DEFAULT olarak float veriyor. dtype='int' ile elemanları integer yapalım\n",
    "\n",
    "np.linspace(0, 50, 10, dtype='int')"
   ]
  },
  {
   "cell_type": "markdown",
   "id": "departmental-block",
   "metadata": {},
   "source": [
    "# eye"
   ]
  },
  {
   "cell_type": "code",
   "execution_count": 35,
   "id": "approved-transsexual",
   "metadata": {},
   "outputs": [
    {
     "data": {
      "text/plain": [
       "array([[1., 0., 0., 0., 0.],\n",
       "       [0., 1., 0., 0., 0.],\n",
       "       [0., 0., 1., 0., 0.],\n",
       "       [0., 0., 0., 1., 0.],\n",
       "       [0., 0., 0., 0., 1.]])"
      ]
     },
     "execution_count": 35,
     "metadata": {},
     "output_type": "execute_result"
    }
   ],
   "source": [
    "# sıfırlardan oluşan 5'e 5 matrix yapalım ve matrix'te köşeden köşeye 1'ler yer alsın\n",
    "\n",
    "np.eye(5)"
   ]
  },
  {
   "cell_type": "markdown",
   "id": "green-verse",
   "metadata": {},
   "source": [
    "# Random\n",
    "\n",
    "## rand"
   ]
  },
  {
   "cell_type": "code",
   "execution_count": null,
   "id": "swedish-composite",
   "metadata": {},
   "outputs": [],
   "source": [
    "\"\"\"\n",
    "0 ile 1 arasında random olarak belirtilen adette sayı üretir.\n",
    "\n",
    "create an array of the given shape and populate it with random\n",
    "samples from a uniform distribution\n",
    "over the points zero to one where zero is inclusive and one is exclusive\n",
    "meaning it can't actually return back zero, but it can't return back one\n",
    "\"\"\""
   ]
  },
  {
   "cell_type": "code",
   "execution_count": 36,
   "id": "artistic-baghdad",
   "metadata": {},
   "outputs": [
    {
     "data": {
      "text/plain": [
       "array([0.74842006, 0.94435371, 0.95795841, 0.82746463, 0.12754121,\n",
       "       0.97973758, 0.51250465, 0.0771096 , 0.18012755, 0.62292517])"
      ]
     },
     "execution_count": 36,
     "metadata": {},
     "output_type": "execute_result"
    }
   ],
   "source": [
    "# 0 ile 1 arasında 10 adet random sayı oluşturalım.\n",
    "\n",
    "np.random.rand(10)"
   ]
  },
  {
   "cell_type": "code",
   "execution_count": 37,
   "id": "perceived-alexandria",
   "metadata": {},
   "outputs": [
    {
     "data": {
      "text/plain": [
       "array([[0.39999527, 0.62638143, 0.70164203, 0.87754532, 0.23038108],\n",
       "       [0.94330537, 0.79399127, 0.74066674, 0.77462424, 0.48133075],\n",
       "       [0.06133653, 0.7337434 , 0.79804602, 0.48201172, 0.72762669],\n",
       "       [0.80508864, 0.79114777, 0.28375335, 0.95237442, 0.20129491],\n",
       "       [0.85367403, 0.02368706, 0.67532435, 0.82241582, 0.98903597]])"
      ]
     },
     "execution_count": 37,
     "metadata": {},
     "output_type": "execute_result"
    }
   ],
   "source": [
    "# 5 satır 5 sütun olarak 0 ile 1 arasında random sayılar üretip matrix yapıyor. \n",
    "# (5,5) değerinden dolayı 5'e 5 matrix oluşuyor.\n",
    "\n",
    "np.random.rand(5,5)"
   ]
  },
  {
   "cell_type": "code",
   "execution_count": 47,
   "id": "black-novelty",
   "metadata": {},
   "outputs": [
    {
     "name": "stdout",
     "output_type": "stream",
     "text": [
      "Collecting matplotlib\n",
      "  Downloading matplotlib-3.4.2-cp37-cp37m-win_amd64.whl (7.1 MB)\n",
      "Collecting cycler>=0.10\n",
      "  Downloading cycler-0.10.0-py2.py3-none-any.whl (6.5 kB)\n",
      "Collecting pillow>=6.2.0\n",
      "  Downloading Pillow-8.2.0-cp37-cp37m-win_amd64.whl (2.2 MB)\n",
      "Collecting kiwisolver>=1.0.1\n",
      "  Downloading kiwisolver-1.3.1-cp37-cp37m-win_amd64.whl (51 kB)\n",
      "Requirement already satisfied: numpy>=1.16 in c:\\users\\hüseyin\\appdata\\local\\programs\\python\\python37\\lib\\site-packages (from matplotlib) (1.20.3)\n",
      "Requirement already satisfied: pyparsing>=2.2.1 in c:\\users\\hüseyin\\appdata\\local\\programs\\python\\python37\\lib\\site-packages (from matplotlib) (2.4.7)\n",
      "Requirement already satisfied: python-dateutil>=2.7 in c:\\users\\hüseyin\\appdata\\local\\programs\\python\\python37\\lib\\site-packages (from matplotlib) (2.8.1)\n",
      "Requirement already satisfied: six in c:\\users\\hüseyin\\appdata\\local\\programs\\python\\python37\\lib\\site-packages (from cycler>=0.10->matplotlib) (1.15.0)\n",
      "Installing collected packages: pillow, kiwisolver, cycler, matplotlib\n",
      "Successfully installed cycler-0.10.0 kiwisolver-1.3.1 matplotlib-3.4.2 pillow-8.2.0\n",
      "Note: you may need to restart the kernel to use updated packages.\n"
     ]
    }
   ],
   "source": [
    "pip install matplotlib"
   ]
  },
  {
   "cell_type": "code",
   "execution_count": 2,
   "id": "abandoned-spare",
   "metadata": {},
   "outputs": [],
   "source": [
    "import matplotlib.pyplot as plt"
   ]
  },
  {
   "cell_type": "code",
   "execution_count": 131,
   "id": "black-digit",
   "metadata": {},
   "outputs": [
    {
     "data": {
      "text/plain": [
       "(array([257., 231., 275., 257., 258., 266., 254., 228., 259., 251., 224.,\n",
       "        240., 262., 241., 247., 254., 251., 255., 218., 284., 250., 254.,\n",
       "        277., 246., 253., 264., 235., 251., 249., 248., 274., 260., 222.,\n",
       "        267., 255., 247., 235., 240., 233., 228.]),\n",
       " array([6.81283656e-06, 2.50063512e-02, 5.00058896e-02, 7.50054280e-02,\n",
       "        1.00004966e-01, 1.25004505e-01, 1.50004043e-01, 1.75003582e-01,\n",
       "        2.00003120e-01, 2.25002658e-01, 2.50002197e-01, 2.75001735e-01,\n",
       "        3.00001274e-01, 3.25000812e-01, 3.50000350e-01, 3.74999889e-01,\n",
       "        3.99999427e-01, 4.24998966e-01, 4.49998504e-01, 4.74998042e-01,\n",
       "        4.99997581e-01, 5.24997119e-01, 5.49996658e-01, 5.74996196e-01,\n",
       "        5.99995734e-01, 6.24995273e-01, 6.49994811e-01, 6.74994350e-01,\n",
       "        6.99993888e-01, 7.24993426e-01, 7.49992965e-01, 7.74992503e-01,\n",
       "        7.99992042e-01, 8.24991580e-01, 8.49991118e-01, 8.74990657e-01,\n",
       "        8.99990195e-01, 9.24989734e-01, 9.49989272e-01, 9.74988810e-01,\n",
       "        9.99988349e-01]),\n",
       " <BarContainer object of 40 artists>)"
      ]
     },
     "execution_count": 131,
     "metadata": {},
     "output_type": "execute_result"
    },
    {
     "data": {
      "image/png": "[encoded data removed]",
      "text/plain": [
       "<Figure size 432x288 with 1 Axes>"
      ]
     },
     "metadata": {
      "needs_background": "light"
     },
     "output_type": "display_data"
    }
   ],
   "source": [
    "plt.hist(np.random.rand(10000),bins=40)"
   ]
  },
  {
   "cell_type": "code",
   "execution_count": 132,
   "id": "scheduled-rabbit",
   "metadata": {},
   "outputs": [
    {
     "data": {
      "text/plain": [
       "(array([16., 31., 24., 32., 26., 15., 20., 17., 27., 24., 32., 30., 35.,\n",
       "        25., 29., 32., 30., 26., 21., 22., 32., 17., 22., 21., 30., 19.,\n",
       "        30., 18., 27., 20., 25., 25., 18., 26., 29., 24., 28., 26., 24.,\n",
       "        25.]),\n",
       " array([4.58049481e-04, 2.54025092e-02, 5.03469688e-02, 7.52914285e-02,\n",
       "        1.00235888e-01, 1.25180348e-01, 1.50124808e-01, 1.75069267e-01,\n",
       "        2.00013727e-01, 2.24958187e-01, 2.49902646e-01, 2.74847106e-01,\n",
       "        2.99791566e-01, 3.24736025e-01, 3.49680485e-01, 3.74624945e-01,\n",
       "        3.99569404e-01, 4.24513864e-01, 4.49458324e-01, 4.74402783e-01,\n",
       "        4.99347243e-01, 5.24291703e-01, 5.49236162e-01, 5.74180622e-01,\n",
       "        5.99125082e-01, 6.24069541e-01, 6.49014001e-01, 6.73958461e-01,\n",
       "        6.98902920e-01, 7.23847380e-01, 7.48791840e-01, 7.73736299e-01,\n",
       "        7.98680759e-01, 8.23625219e-01, 8.48569678e-01, 8.73514138e-01,\n",
       "        8.98458598e-01, 9.23403057e-01, 9.48347517e-01, 9.73291977e-01,\n",
       "        9.98236436e-01]),\n",
       " <BarContainer object of 40 artists>)"
      ]
     },
     "execution_count": 132,
     "metadata": {},
     "output_type": "execute_result"
    },
    {
     "data": {
      "image/png": "[encoded data removed]",
      "text/plain": [
       "<Figure size 432x288 with 1 Axes>"
      ]
     },
     "metadata": {
      "needs_background": "light"
     },
     "output_type": "display_data"
    }
   ],
   "source": [
    "plt.hist(np.random.rand(10000),bins=40)"
   ]
  },
  {
   "cell_type": "code",
   "execution_count": 133,
   "id": "emerging-surrey",
   "metadata": {},
   "outputs": [
    {
     "data": {
      "text/plain": [
       "(array([  4.,   1.,   2.,   1.,   7.,   7.,  34.,  52.,  60.,  97., 132.,\n",
       "        187., 270., 343., 454., 509., 610., 661., 725., 798., 788., 735.,\n",
       "        680., 611., 527., 404., 364., 274., 219., 165.,  96.,  74.,  41.,\n",
       "         23.,  17.,  13.,   7.,   5.,   2.,   1.]),\n",
       " array([-3.88768005e+00, -3.69318041e+00, -3.49868077e+00, -3.30418113e+00,\n",
       "        -3.10968149e+00, -2.91518185e+00, -2.72068221e+00, -2.52618257e+00,\n",
       "        -2.33168293e+00, -2.13718329e+00, -1.94268365e+00, -1.74818401e+00,\n",
       "        -1.55368437e+00, -1.35918473e+00, -1.16468509e+00, -9.70185453e-01,\n",
       "        -7.75685814e-01, -5.81186174e-01, -3.86686535e-01, -1.92186895e-01,\n",
       "         2.31274429e-03,  1.96812384e-01,  3.91312023e-01,  5.85811663e-01,\n",
       "         7.80311302e-01,  9.74810942e-01,  1.16931058e+00,  1.36381022e+00,\n",
       "         1.55830986e+00,  1.75280950e+00,  1.94730914e+00,  2.14180878e+00,\n",
       "         2.33630842e+00,  2.53080806e+00,  2.72530770e+00,  2.91980734e+00,\n",
       "         3.11430698e+00,  3.30880662e+00,  3.50330625e+00,  3.69780589e+00,\n",
       "         3.89230553e+00]),\n",
       " <BarContainer object of 40 artists>)"
      ]
     },
     "execution_count": 133,
     "metadata": {},
     "output_type": "execute_result"
    },
    {
     "data": {
      "image/png": "[encoded data removed]",
      "text/plain": [
       "<Figure size 432x288 with 1 Axes>"
      ]
     },
     "metadata": {
      "needs_background": "light"
     },
     "output_type": "display_data"
    }
   ],
   "source": [
    "plt.hist(np.random.randn(10000),bins=40)"
   ]
  },
  {
   "cell_type": "code",
   "execution_count": 134,
   "id": "wound-ultimate",
   "metadata": {},
   "outputs": [
    {
     "data": {
      "text/plain": [
       "(array([3.0000e+00, 3.0000e+00, 4.0000e+00, 2.1000e+01, 6.3000e+01,\n",
       "        1.7700e+02, 3.6500e+02, 7.0300e+02, 1.5150e+03, 2.9260e+03,\n",
       "        5.2200e+03, 8.8080e+03, 1.4388e+04, 2.1653e+04, 3.1409e+04,\n",
       "        4.3183e+04, 5.5953e+04, 6.9169e+04, 7.9766e+04, 8.8385e+04,\n",
       "        9.2478e+04, 9.1731e+04, 8.6231e+04, 7.6152e+04, 6.4372e+04,\n",
       "        5.1531e+04, 3.9335e+04, 2.7550e+04, 1.8636e+04, 1.2157e+04,\n",
       "        7.4040e+03, 4.2600e+03, 2.2980e+03, 1.1640e+03, 5.5200e+02,\n",
       "        2.4600e+02, 1.1400e+02, 3.8000e+01, 2.4000e+01, 1.3000e+01]),\n",
       " array([-4.86433254, -4.63072591, -4.39711928, -4.16351266, -3.92990603,\n",
       "        -3.6962994 , -3.46269277, -3.22908615, -2.99547952, -2.76187289,\n",
       "        -2.52826626, -2.29465964, -2.06105301, -1.82744638, -1.59383975,\n",
       "        -1.36023312, -1.1266265 , -0.89301987, -0.65941324, -0.42580661,\n",
       "        -0.19219999,  0.04140664,  0.27501327,  0.5086199 ,  0.74222652,\n",
       "         0.97583315,  1.20943978,  1.44304641,  1.67665304,  1.91025966,\n",
       "         2.14386629,  2.37747292,  2.61107955,  2.84468617,  3.0782928 ,\n",
       "         3.31189943,  3.54550606,  3.77911269,  4.01271931,  4.24632594,\n",
       "         4.47993257]),\n",
       " <BarContainer object of 40 artists>)"
      ]
     },
     "execution_count": 134,
     "metadata": {},
     "output_type": "execute_result"
    },
    {
     "data": {
      "image/png": "[encoded data removed]",
      "text/plain": [
       "<Figure size 432x288 with 1 Axes>"
      ]
     },
     "metadata": {
      "needs_background": "light"
     },
     "output_type": "display_data"
    }
   ],
   "source": [
    "plt.hist(np.random.randn(1000000),bins=40)"
   ]
  },
  {
   "cell_type": "markdown",
   "id": "little-disorder",
   "metadata": {},
   "source": [
    "# randn"
   ]
  },
  {
   "cell_type": "code",
   "execution_count": null,
   "id": "adolescent-cowboy",
   "metadata": {},
   "outputs": [],
   "source": [
    "\"\"\"\n",
    "np.random.randn()\n",
    "\n",
    "If positive int_like arguments are provided, `randn` generates an array\n",
    "of shape ``(d0, d1, ..., dn)``, filled\n",
    "with random floats sampled from a univariate \"normal\" (Gaussian)\n",
    "distribution of mean 0 and variance 1. A single float randomly sampled\n",
    "from the distribution is returned if no argument is provided.\n",
    "\n",
    "belirtilen sayı kadar, orta noktası sıfır olan 0 ile 1 arasında kayan noktalı sayı üretir\n",
    "\"\"\""
   ]
  },
  {
   "cell_type": "code",
   "execution_count": 4,
   "id": "happy-technician",
   "metadata": {},
   "outputs": [
    {
     "data": {
      "text/plain": [
       "array([-0.35364128,  0.65290161,  0.66697964, -0.35936976, -0.91238237,\n",
       "        0.5681928 , -0.55433668,  0.65077896,  0.19151804,  0.03324546])"
      ]
     },
     "execution_count": 4,
     "metadata": {},
     "output_type": "execute_result"
    }
   ],
   "source": [
    "np.random.randn(10)"
   ]
  },
  {
   "cell_type": "code",
   "execution_count": 39,
   "id": "loved-lawsuit",
   "metadata": {},
   "outputs": [
    {
     "data": {
      "text/plain": [
       "array([[-1.36032583,  0.90706965,  0.59627832, -0.1008965 , -1.15417342],\n",
       "       [-0.52755349, -0.68547717,  1.50152293,  0.40245842, -0.93473526],\n",
       "       [ 0.70528487, -0.74573161, -0.81040798, -0.94446298,  0.09284311],\n",
       "       [ 1.30419765, -0.8805659 , -0.6611508 , -0.16272279,  0.82033218],\n",
       "       [ 2.22464392,  0.41777754, -1.47803074,  0.76149241, -1.03378657]])"
      ]
     },
     "execution_count": 39,
     "metadata": {},
     "output_type": "execute_result"
    }
   ],
   "source": [
    "# 5'e 5 matrix oluşturarak aynı işlemi yapalım\n",
    "\n",
    "np.random.randn(5,5)"
   ]
  },
  {
   "cell_type": "code",
   "execution_count": 52,
   "id": "unlike-slovak",
   "metadata": {},
   "outputs": [
    {
     "data": {
      "text/plain": [
       "-0.0003733039671742652"
      ]
     },
     "execution_count": 52,
     "metadata": {},
     "output_type": "execute_result"
    }
   ],
   "source": [
    "np.random.randn(10000).mean()"
   ]
  },
  {
   "cell_type": "code",
   "execution_count": 54,
   "id": "outstanding-cowboy",
   "metadata": {},
   "outputs": [
    {
     "data": {
      "text/plain": [
       "0.9988899254413508"
      ]
     },
     "execution_count": 54,
     "metadata": {},
     "output_type": "execute_result"
    }
   ],
   "source": [
    "np.random.randn(10000).std()"
   ]
  },
  {
   "cell_type": "markdown",
   "id": "mental-jesus",
   "metadata": {},
   "source": [
    "# randint"
   ]
  },
  {
   "cell_type": "code",
   "execution_count": null,
   "id": "express-samuel",
   "metadata": {},
   "outputs": [],
   "source": [
    "\"\"\"\n",
    "np.random.randint()\n",
    "\n",
    "Return random integers from `low` (inclusive) to `high` (exclusive)\n",
    "\n",
    "girilen en düşük (dahil) ve en yüksek (hariç) sayılar arasında belirtilen miktarda random sayı üretir.\n",
    "\"\"\""
   ]
  },
  {
   "cell_type": "code",
   "execution_count": 55,
   "id": "structured-foster",
   "metadata": {},
   "outputs": [
    {
     "data": {
      "text/plain": [
       "array([88, 72, 75, 90, 76, 72, 93, 91, 11, 50])"
      ]
     },
     "execution_count": 55,
     "metadata": {},
     "output_type": "execute_result"
    }
   ],
   "source": [
    "# 1 den 100 e kadar random 10 sayıdan oluşan dizi oluşturalım\n",
    "\n",
    "np.random.randint(0, 100, 10)"
   ]
  },
  {
   "cell_type": "code",
   "execution_count": 56,
   "id": "vanilla-makeup",
   "metadata": {},
   "outputs": [
    {
     "data": {
      "text/plain": [
       "array([6, 0, 0, 5, 4, 0, 6, 6, 9, 5])"
      ]
     },
     "execution_count": 56,
     "metadata": {},
     "output_type": "execute_result"
    }
   ],
   "source": [
    "# sıfırla 10 arasında size'ı 10 olan yani 10 adet elemandan oluşan array oluşturalım \n",
    "\n",
    "np.random.randint(10, size=10)"
   ]
  },
  {
   "cell_type": "code",
   "execution_count": 57,
   "id": "cardiac-mineral",
   "metadata": {},
   "outputs": [
    {
     "data": {
      "text/plain": [
       "array([[3, 2, 2, 0],\n",
       "       [3, 3, 2, 1]])"
      ]
     },
     "execution_count": 57,
     "metadata": {},
     "output_type": "execute_result"
    }
   ],
   "source": [
    "# sıfırla 5 arasında 2 satır ve 4 sütunluk bir array oluşturalım\n",
    "\n",
    "np.random.randint(5, size=(2,4))"
   ]
  },
  {
   "cell_type": "markdown",
   "id": "arranged-median",
   "metadata": {},
   "source": [
    "# Array Attributes and Methods"
   ]
  },
  {
   "cell_type": "code",
   "execution_count": 6,
   "id": "positive-jason",
   "metadata": {},
   "outputs": [],
   "source": [
    "arr = np.arange(25)\n",
    "arr2 = np.random.randint(0, 50, 10)"
   ]
  },
  {
   "cell_type": "code",
   "execution_count": 59,
   "id": "powerful-tract",
   "metadata": {},
   "outputs": [
    {
     "data": {
      "text/plain": [
       "array([ 0,  1,  2,  3,  4,  5,  6,  7,  8,  9, 10, 11, 12, 13, 14, 15, 16,\n",
       "       17, 18, 19, 20, 21, 22, 23, 24])"
      ]
     },
     "execution_count": 59,
     "metadata": {},
     "output_type": "execute_result"
    }
   ],
   "source": [
    "arr"
   ]
  },
  {
   "cell_type": "code",
   "execution_count": 7,
   "id": "electric-induction",
   "metadata": {},
   "outputs": [
    {
     "data": {
      "text/plain": [
       "array([38, 31,  5, 41,  8, 12, 49,  8, 30,  5])"
      ]
     },
     "execution_count": 7,
     "metadata": {},
     "output_type": "execute_result"
    }
   ],
   "source": [
    "arr2"
   ]
  },
  {
   "cell_type": "markdown",
   "id": "cardiac-partner",
   "metadata": {},
   "source": [
    "# Reshape"
   ]
  },
  {
   "cell_type": "code",
   "execution_count": null,
   "id": "manual-animal",
   "metadata": {},
   "outputs": [],
   "source": []
  },
  {
   "cell_type": "code",
   "execution_count": 60,
   "id": "critical-canberra",
   "metadata": {},
   "outputs": [
    {
     "data": {
      "text/plain": [
       "(25,)"
      ]
     },
     "execution_count": 60,
     "metadata": {},
     "output_type": "execute_result"
    }
   ],
   "source": [
    "arr.shape"
   ]
  },
  {
   "cell_type": "code",
   "execution_count": 61,
   "id": "following-pastor",
   "metadata": {},
   "outputs": [
    {
     "ename": "ValueError",
     "evalue": "cannot reshape array of size 25 into shape (5,4)",
     "output_type": "error",
     "traceback": [
      "\u001b[1;31m---------------------------------------------------------------------------\u001b[0m",
      "\u001b[1;31mValueError\u001b[0m                                Traceback (most recent call last)",
      "\u001b[1;32m<ipython-input-61-333b1e120019>\u001b[0m in \u001b[0;36m<module>\u001b[1;34m\u001b[0m\n\u001b[1;32m----> 1\u001b[1;33m \u001b[0marr\u001b[0m\u001b[1;33m.\u001b[0m\u001b[0mreshape\u001b[0m\u001b[1;33m(\u001b[0m\u001b[1;36m5\u001b[0m\u001b[1;33m,\u001b[0m \u001b[1;36m4\u001b[0m\u001b[1;33m)\u001b[0m\u001b[1;33m\u001b[0m\u001b[1;33m\u001b[0m\u001b[0m\n\u001b[0m\u001b[0;32m      2\u001b[0m \u001b[1;33m\u001b[0m\u001b[0m\n\u001b[0;32m      3\u001b[0m \u001b[1;31m# 25 tane değeri 5'e 4'e çeviremezsin. hata verir\u001b[0m\u001b[1;33m\u001b[0m\u001b[1;33m\u001b[0m\u001b[1;33m\u001b[0m\u001b[0m\n",
      "\u001b[1;31mValueError\u001b[0m: cannot reshape array of size 25 into shape (5,4)"
     ]
    }
   ],
   "source": [
    "arr.reshape(5, 4)\n",
    "\n",
    "# 25 tane değeri 5'e 4'e çeviremezsin. hata verir"
   ]
  },
  {
   "cell_type": "code",
   "execution_count": 62,
   "id": "latest-occasions",
   "metadata": {},
   "outputs": [
    {
     "data": {
      "text/plain": [
       "array([[ 0,  1,  2,  3,  4],\n",
       "       [ 5,  6,  7,  8,  9],\n",
       "       [10, 11, 12, 13, 14],\n",
       "       [15, 16, 17, 18, 19],\n",
       "       [20, 21, 22, 23, 24]])"
      ]
     },
     "execution_count": 62,
     "metadata": {},
     "output_type": "execute_result"
    }
   ],
   "source": [
    "# 5'e 5 yaparsak olur.\n",
    "\n",
    "arr.reshape(5, 5)"
   ]
  },
  {
   "cell_type": "markdown",
   "id": "alone-whale",
   "metadata": {},
   "source": [
    "# max, min, argmax, argmin"
   ]
  },
  {
   "cell_type": "code",
   "execution_count": 64,
   "id": "funny-delaware",
   "metadata": {},
   "outputs": [
    {
     "data": {
      "text/plain": [
       "array([24, 12, 32, 12,  9, 21, 39, 32,  3, 40])"
      ]
     },
     "execution_count": 64,
     "metadata": {},
     "output_type": "execute_result"
    }
   ],
   "source": [
    "arr2"
   ]
  },
  {
   "cell_type": "code",
   "execution_count": 65,
   "id": "signal-reading",
   "metadata": {},
   "outputs": [
    {
     "data": {
      "text/plain": [
       "40"
      ]
     },
     "execution_count": 65,
     "metadata": {},
     "output_type": "execute_result"
    }
   ],
   "source": [
    "arr2.max()\n",
    "\n",
    "# en yüksek değeri verir"
   ]
  },
  {
   "cell_type": "code",
   "execution_count": 66,
   "id": "outstanding-sessions",
   "metadata": {},
   "outputs": [
    {
     "data": {
      "text/plain": [
       "9"
      ]
     },
     "execution_count": 66,
     "metadata": {},
     "output_type": "execute_result"
    }
   ],
   "source": [
    "arr2.argmax()\n",
    "\n",
    "# en yüksek değerin indeksini verir"
   ]
  },
  {
   "cell_type": "code",
   "execution_count": 67,
   "id": "golden-diary",
   "metadata": {},
   "outputs": [
    {
     "data": {
      "text/plain": [
       "8"
      ]
     },
     "execution_count": 67,
     "metadata": {},
     "output_type": "execute_result"
    }
   ],
   "source": [
    "arr2.argmin()"
   ]
  },
  {
   "cell_type": "markdown",
   "id": "administrative-fellow",
   "metadata": {},
   "source": [
    "# Shape"
   ]
  },
  {
   "cell_type": "code",
   "execution_count": 68,
   "id": "rapid-remark",
   "metadata": {},
   "outputs": [
    {
     "data": {
      "text/plain": [
       "(25,)"
      ]
     },
     "execution_count": 68,
     "metadata": {},
     "output_type": "execute_result"
    }
   ],
   "source": [
    "arr.shape\n",
    "\n",
    "# 25 değerden oluşan bir array imiz olduğunu görüyoruz"
   ]
  },
  {
   "cell_type": "code",
   "execution_count": 69,
   "id": "blocked-surprise",
   "metadata": {},
   "outputs": [
    {
     "data": {
      "text/plain": [
       "array([[ 0,  1,  2,  3,  4,  5,  6,  7,  8,  9, 10, 11, 12, 13, 14, 15,\n",
       "        16, 17, 18, 19, 20, 21, 22, 23, 24]])"
      ]
     },
     "execution_count": 69,
     "metadata": {},
     "output_type": "execute_result"
    }
   ],
   "source": [
    "arr.reshape(1, 25)\n",
    "\n",
    "# shape ine tekrar bakarsak.\n",
    "\n",
    "# 1 satır 25 sütun olarak düşünebilirsin."
   ]
  },
  {
   "cell_type": "code",
   "execution_count": 70,
   "id": "micro-customer",
   "metadata": {},
   "outputs": [
    {
     "data": {
      "text/plain": [
       "array([[ 0],\n",
       "       [ 1],\n",
       "       [ 2],\n",
       "       [ 3],\n",
       "       [ 4],\n",
       "       [ 5],\n",
       "       [ 6],\n",
       "       [ 7],\n",
       "       [ 8],\n",
       "       [ 9],\n",
       "       [10],\n",
       "       [11],\n",
       "       [12],\n",
       "       [13],\n",
       "       [14],\n",
       "       [15],\n",
       "       [16],\n",
       "       [17],\n",
       "       [18],\n",
       "       [19],\n",
       "       [20],\n",
       "       [21],\n",
       "       [22],\n",
       "       [23],\n",
       "       [24]])"
      ]
     },
     "execution_count": 70,
     "metadata": {},
     "output_type": "execute_result"
    }
   ],
   "source": [
    "arr.reshape(25, 1)\n",
    "\n",
    "# 25 satır 1 sütun olarak düşünebilirsin.\n",
    "\n",
    "# verileri bu şekilde shape yapabiliyoruz."
   ]
  },
  {
   "cell_type": "markdown",
   "id": "configured-spiritual",
   "metadata": {},
   "source": [
    "# dtype"
   ]
  },
  {
   "cell_type": "code",
   "execution_count": 71,
   "id": "weighted-mixer",
   "metadata": {},
   "outputs": [
    {
     "data": {
      "text/plain": [
       "array([ 0,  1,  2,  3,  4,  5,  6,  7,  8,  9, 10, 11, 12, 13, 14, 15, 16,\n",
       "       17, 18, 19, 20, 21, 22, 23, 24])"
      ]
     },
     "execution_count": 71,
     "metadata": {},
     "output_type": "execute_result"
    }
   ],
   "source": [
    "arr"
   ]
  },
  {
   "cell_type": "code",
   "execution_count": 72,
   "id": "civic-nutrition",
   "metadata": {},
   "outputs": [
    {
     "data": {
      "text/plain": [
       "dtype('int32')"
      ]
     },
     "execution_count": 72,
     "metadata": {},
     "output_type": "execute_result"
    }
   ],
   "source": [
    "arr.dtype"
   ]
  },
  {
   "cell_type": "code",
   "execution_count": 73,
   "id": "national-morning",
   "metadata": {},
   "outputs": [
    {
     "data": {
      "text/plain": [
       "array([[2.2, 2.2, 2.2, 2.2, 2.2, 2.2],\n",
       "       [2.2, 2.2, 2.2, 2.2, 2.2, 2.2],\n",
       "       [2.2, 2.2, 2.2, 2.2, 2.2, 2.2],\n",
       "       [2.2, 2.2, 2.2, 2.2, 2.2, 2.2]])"
      ]
     },
     "execution_count": 73,
     "metadata": {},
     "output_type": "execute_result"
    }
   ],
   "source": [
    "b = np.full( (4,6), 2.2)\n",
    "b"
   ]
  },
  {
   "cell_type": "code",
   "execution_count": 74,
   "id": "figured-yemen",
   "metadata": {},
   "outputs": [
    {
     "data": {
      "text/plain": [
       "dtype('float64')"
      ]
     },
     "execution_count": 74,
     "metadata": {},
     "output_type": "execute_result"
    }
   ],
   "source": [
    "# array'ın tipini görelim\n",
    "\n",
    "b.dtype"
   ]
  },
  {
   "cell_type": "markdown",
   "id": "billion-peeing",
   "metadata": {},
   "source": [
    "# ndim"
   ]
  },
  {
   "cell_type": "code",
   "execution_count": null,
   "id": "signal-bachelor",
   "metadata": {},
   "outputs": [],
   "source": [
    "# kaç boyutlu olduğunu görebiliyoruz"
   ]
  },
  {
   "cell_type": "code",
   "execution_count": 75,
   "id": "personal-acting",
   "metadata": {},
   "outputs": [
    {
     "data": {
      "text/plain": [
       "2"
      ]
     },
     "execution_count": 75,
     "metadata": {},
     "output_type": "execute_result"
    }
   ],
   "source": [
    "b.ndim\n",
    "\n",
    "# satır ve sütundan oluşan yani 2 boyutlu bir array olduğunu görebiliyoruz"
   ]
  },
  {
   "cell_type": "code",
   "execution_count": 76,
   "id": "designing-chinese",
   "metadata": {},
   "outputs": [
    {
     "data": {
      "text/plain": [
       "1"
      ]
     },
     "execution_count": 76,
     "metadata": {},
     "output_type": "execute_result"
    }
   ],
   "source": [
    "arr.ndim\n",
    "\n",
    "# sadece sütunlardan oluşan yani 1 boyutlu bir array.."
   ]
  },
  {
   "cell_type": "markdown",
   "id": "collective-address",
   "metadata": {},
   "source": [
    "# size"
   ]
  },
  {
   "cell_type": "code",
   "execution_count": 77,
   "id": "binary-magic",
   "metadata": {},
   "outputs": [
    {
     "data": {
      "text/plain": [
       "array([[2.2, 2.2, 2.2, 2.2, 2.2, 2.2],\n",
       "       [2.2, 2.2, 2.2, 2.2, 2.2, 2.2],\n",
       "       [2.2, 2.2, 2.2, 2.2, 2.2, 2.2],\n",
       "       [2.2, 2.2, 2.2, 2.2, 2.2, 2.2]])"
      ]
     },
     "execution_count": 77,
     "metadata": {},
     "output_type": "execute_result"
    }
   ],
   "source": [
    "b"
   ]
  },
  {
   "cell_type": "code",
   "execution_count": 78,
   "id": "aging-supervisor",
   "metadata": {},
   "outputs": [
    {
     "data": {
      "text/plain": [
       "24"
      ]
     },
     "execution_count": 78,
     "metadata": {},
     "output_type": "execute_result"
    }
   ],
   "source": [
    "b.size\n",
    "\n",
    "# 6 sütun ver 4 satır yani size ı toplam 24 elemandan oluşutor."
   ]
  },
  {
   "cell_type": "code",
   "execution_count": 79,
   "id": "tribal-slave",
   "metadata": {},
   "outputs": [],
   "source": [
    "a = np.random.randint(10, size=(3,5))"
   ]
  },
  {
   "cell_type": "code",
   "execution_count": 80,
   "id": "russian-thumb",
   "metadata": {},
   "outputs": [
    {
     "data": {
      "text/plain": [
       "array([[6, 7, 0, 8, 6],\n",
       "       [3, 2, 7, 7, 9],\n",
       "       [8, 3, 8, 0, 2]])"
      ]
     },
     "execution_count": 80,
     "metadata": {},
     "output_type": "execute_result"
    }
   ],
   "source": [
    "a"
   ]
  },
  {
   "cell_type": "code",
   "execution_count": 81,
   "id": "exact-netscape",
   "metadata": {},
   "outputs": [
    {
     "data": {
      "text/plain": [
       "2"
      ]
     },
     "execution_count": 81,
     "metadata": {},
     "output_type": "execute_result"
    }
   ],
   "source": [
    "a.ndim\n",
    "\n",
    " # dimension una baktığımızda 2 boyutlu oluğunu görebiliyoruz"
   ]
  },
  {
   "cell_type": "code",
   "execution_count": 82,
   "id": "engaged-duration",
   "metadata": {},
   "outputs": [
    {
     "data": {
      "text/plain": [
       "dtype('int32')"
      ]
     },
     "execution_count": 82,
     "metadata": {},
     "output_type": "execute_result"
    }
   ],
   "source": [
    "a.dtype\n",
    "\n",
    "# tipnin integer olduğunu görebiliyoruz"
   ]
  },
  {
   "cell_type": "code",
   "execution_count": 83,
   "id": "modular-denmark",
   "metadata": {},
   "outputs": [
    {
     "data": {
      "text/plain": [
       "array([ 0,  1,  2,  3,  4,  5,  6,  7,  8,  9, 10, 11, 12, 13, 14, 15, 16,\n",
       "       17, 18, 19, 20, 21, 22, 23, 24])"
      ]
     },
     "execution_count": 83,
     "metadata": {},
     "output_type": "execute_result"
    }
   ],
   "source": [
    "arr"
   ]
  },
  {
   "cell_type": "code",
   "execution_count": 84,
   "id": "short-search",
   "metadata": {},
   "outputs": [
    {
     "data": {
      "text/plain": [
       "1"
      ]
     },
     "execution_count": 84,
     "metadata": {},
     "output_type": "execute_result"
    }
   ],
   "source": [
    "arr.ndim"
   ]
  },
  {
   "cell_type": "markdown",
   "id": "compact-huntington",
   "metadata": {},
   "source": [
    "# Concatenation of the Arrays"
   ]
  },
  {
   "cell_type": "code",
   "execution_count": 86,
   "id": "hundred-interim",
   "metadata": {},
   "outputs": [],
   "source": [
    "# birleştirmek üzere 2 array oluşturalım\n",
    "\n",
    "x = np.array([1,2,3])\n",
    "y = np.array([4,5,6])"
   ]
  },
  {
   "cell_type": "markdown",
   "id": "reverse-truck",
   "metadata": {},
   "source": [
    "x"
   ]
  },
  {
   "cell_type": "code",
   "execution_count": 88,
   "id": "latin-court",
   "metadata": {},
   "outputs": [
    {
     "data": {
      "text/plain": [
       "array([4, 5, 6])"
      ]
     },
     "execution_count": 88,
     "metadata": {},
     "output_type": "execute_result"
    }
   ],
   "source": [
    "y"
   ]
  },
  {
   "cell_type": "code",
   "execution_count": 89,
   "id": "marine-colors",
   "metadata": {},
   "outputs": [
    {
     "data": {
      "text/plain": [
       "array([1, 2, 3, 4, 5, 6])"
      ]
     },
     "execution_count": 89,
     "metadata": {},
     "output_type": "execute_result"
    }
   ],
   "source": [
    "# iki array i birleştirelim\n",
    "\n",
    "np.concatenate([x,y])"
   ]
  },
  {
   "cell_type": "markdown",
   "id": "iraqi-lancaster",
   "metadata": {},
   "source": [
    "# 2d matrix"
   ]
  },
  {
   "cell_type": "code",
   "execution_count": 90,
   "id": "peripheral-tokyo",
   "metadata": {},
   "outputs": [
    {
     "data": {
      "text/plain": [
       "array([[1, 2, 3],\n",
       "       [4, 5, 6]])"
      ]
     },
     "execution_count": 90,
     "metadata": {},
     "output_type": "execute_result"
    }
   ],
   "source": [
    "a = np.array([[1,2,3],\n",
    "             [4,5,6]])\n",
    "a"
   ]
  },
  {
   "cell_type": "code",
   "execution_count": 91,
   "id": "southern-respondent",
   "metadata": {},
   "outputs": [
    {
     "data": {
      "text/plain": [
       "array([[1, 2, 3],\n",
       "       [4, 5, 6],\n",
       "       [1, 2, 3],\n",
       "       [4, 5, 6]])"
      ]
     },
     "execution_count": 91,
     "metadata": {},
     "output_type": "execute_result"
    }
   ],
   "source": [
    "np.concatenate([a,a])\n",
    "\n",
    "# a arrayini yine kendisiyle birleştirelim"
   ]
  },
  {
   "cell_type": "code",
   "execution_count": 92,
   "id": "plain-assist",
   "metadata": {},
   "outputs": [
    {
     "data": {
      "text/plain": [
       "array([[1, 2, 3, 1, 2, 3],\n",
       "       [4, 5, 6, 4, 5, 6]])"
      ]
     },
     "execution_count": 92,
     "metadata": {},
     "output_type": "execute_result"
    }
   ],
   "source": [
    "# bu sefer de sütun bazında yan yana birleştirelim \n",
    "\n",
    "np.concatenate([a,a], axis=1)"
   ]
  },
  {
   "cell_type": "markdown",
   "id": "cubic-refund",
   "metadata": {},
   "source": [
    "# Splitting of the Arrays"
   ]
  },
  {
   "cell_type": "code",
   "execution_count": 93,
   "id": "desirable-albania",
   "metadata": {},
   "outputs": [],
   "source": [
    "x = np.array([1,24,53, 99, 99, 3, 2, 1])"
   ]
  },
  {
   "cell_type": "code",
   "execution_count": 94,
   "id": "fitting-starter",
   "metadata": {},
   "outputs": [
    {
     "data": {
      "text/plain": [
       "[array([ 1, 24, 53]), array([99, 99]), array([3, 2, 1])]"
      ]
     },
     "execution_count": 94,
     "metadata": {},
     "output_type": "execute_result"
    }
   ],
   "source": [
    "np.split(x, [3, 5])\n",
    "\n",
    "# bu şekilde bölebiliyoruz (split edebiliyoruz)\n",
    "# önce 3. sonra 5. indeksten itibaren böldük"
   ]
  },
  {
   "cell_type": "code",
   "execution_count": 95,
   "id": "strange-cabinet",
   "metadata": {},
   "outputs": [
    {
     "data": {
      "text/plain": [
       "[array([ 1, 24, 53, 99]), array([99,  3,  2,  1])]"
      ]
     },
     "execution_count": 95,
     "metadata": {},
     "output_type": "execute_result"
    }
   ],
   "source": [
    "np.split(x, 2) \n",
    "\n",
    "#bu şekilde kaç parçaya bölebileceğimizi belirleyebiliyoruz. burada array i 2 parçaya böldük"
   ]
  },
  {
   "cell_type": "code",
   "execution_count": 104,
   "id": "current-conflict",
   "metadata": {},
   "outputs": [
    {
     "ename": "ValueError",
     "evalue": "array split does not result in an equal division",
     "output_type": "error",
     "traceback": [
      "\u001b[1;31m---------------------------------------------------------------------------\u001b[0m",
      "\u001b[1;31mValueError\u001b[0m                                Traceback (most recent call last)",
      "\u001b[1;32m<ipython-input-104-d7a3418ddee8>\u001b[0m in \u001b[0;36m<module>\u001b[1;34m\u001b[0m\n\u001b[1;32m----> 1\u001b[1;33m \u001b[0mnp\u001b[0m\u001b[1;33m.\u001b[0m\u001b[0msplit\u001b[0m\u001b[1;33m(\u001b[0m\u001b[0mx\u001b[0m\u001b[1;33m,\u001b[0m \u001b[1;36m3\u001b[0m\u001b[1;33m)\u001b[0m\u001b[1;33m\u001b[0m\u001b[1;33m\u001b[0m\u001b[0m\n\u001b[0m\u001b[0;32m      2\u001b[0m \u001b[1;33m\u001b[0m\u001b[0m\n\u001b[0;32m      3\u001b[0m \u001b[1;31m# split eşit böldüğü için ve 8 eleman olduğu için 3 e bölemeyecek\u001b[0m\u001b[1;33m\u001b[0m\u001b[1;33m\u001b[0m\u001b[1;33m\u001b[0m\u001b[0m\n",
      "\u001b[1;32m<__array_function__ internals>\u001b[0m in \u001b[0;36msplit\u001b[1;34m(*args, **kwargs)\u001b[0m\n",
      "\u001b[1;32mc:\\users\\hüseyin\\appdata\\local\\programs\\python\\python37\\lib\\site-packages\\numpy\\lib\\shape_base.py\u001b[0m in \u001b[0;36msplit\u001b[1;34m(ary, indices_or_sections, axis)\u001b[0m\n\u001b[0;32m    871\u001b[0m         \u001b[1;32mif\u001b[0m \u001b[0mN\u001b[0m \u001b[1;33m%\u001b[0m \u001b[0msections\u001b[0m\u001b[1;33m:\u001b[0m\u001b[1;33m\u001b[0m\u001b[1;33m\u001b[0m\u001b[0m\n\u001b[0;32m    872\u001b[0m             raise ValueError(\n\u001b[1;32m--> 873\u001b[1;33m                 'array split does not result in an equal division') from None\n\u001b[0m\u001b[0;32m    874\u001b[0m     \u001b[1;32mreturn\u001b[0m \u001b[0marray_split\u001b[0m\u001b[1;33m(\u001b[0m\u001b[0mary\u001b[0m\u001b[1;33m,\u001b[0m \u001b[0mindices_or_sections\u001b[0m\u001b[1;33m,\u001b[0m \u001b[0maxis\u001b[0m\u001b[1;33m)\u001b[0m\u001b[1;33m\u001b[0m\u001b[1;33m\u001b[0m\u001b[0m\n\u001b[0;32m    875\u001b[0m \u001b[1;33m\u001b[0m\u001b[0m\n",
      "\u001b[1;31mValueError\u001b[0m: array split does not result in an equal division"
     ]
    }
   ],
   "source": [
    "np.split(x, 3)\n",
    "\n",
    "# split eşit böldüğü için ve array 8 eleman olduğu için 3 e bölemeyecek"
   ]
  },
  {
   "cell_type": "markdown",
   "id": "compound-spokesman",
   "metadata": {},
   "source": [
    "# 2d matrix"
   ]
  },
  {
   "cell_type": "code",
   "execution_count": 99,
   "id": "proof-weapon",
   "metadata": {},
   "outputs": [
    {
     "data": {
      "text/plain": [
       "array([[ 0,  1,  2,  3],\n",
       "       [ 4,  5,  6,  7],\n",
       "       [ 8,  9, 10, 11],\n",
       "       [12, 13, 14, 15],\n",
       "       [16, 17, 18, 19]])"
      ]
     },
     "execution_count": 99,
     "metadata": {},
     "output_type": "execute_result"
    }
   ],
   "source": [
    "# 2 boyutlu bir matrix belirleyelim\n",
    "\n",
    "m = np.arange(20).reshape(5,4)\n",
    "m"
   ]
  },
  {
   "cell_type": "code",
   "execution_count": 101,
   "id": "seeing-format",
   "metadata": {},
   "outputs": [
    {
     "data": {
      "text/plain": [
       "[array([[0, 1, 2, 3]]),\n",
       " array([[ 4,  5,  6,  7],\n",
       "        [ 8,  9, 10, 11]]),\n",
       " array([[12, 13, 14, 15],\n",
       "        [16, 17, 18, 19]])]"
      ]
     },
     "execution_count": 101,
     "metadata": {},
     "output_type": "execute_result"
    }
   ],
   "source": [
    "np.vsplit(m, [1,3])\n",
    "\n",
    "# 2 boyutlu array de vsplit kullanıyoruz\n",
    "# satır bazında bölüyor. önce 1. indeksten böldük. sonra da geri kalanını 3. indeksten böldük"
   ]
  },
  {
   "cell_type": "code",
   "execution_count": 102,
   "id": "american-nicholas",
   "metadata": {},
   "outputs": [
    {
     "data": {
      "text/plain": [
       "[array([[ 0,  1,  2,  3],\n",
       "        [ 4,  5,  6,  7],\n",
       "        [ 8,  9, 10, 11]]),\n",
       " array([[12, 13, 14, 15],\n",
       "        [16, 17, 18, 19]])]"
      ]
     },
     "execution_count": 102,
     "metadata": {},
     "output_type": "execute_result"
    }
   ],
   "source": [
    "np.vsplit(m, [3])\n",
    "\n",
    "# yalnızca 3 yazınca önce 0,1,2. indeksleri alarak 3. indeksten böldü"
   ]
  },
  {
   "cell_type": "code",
   "execution_count": 103,
   "id": "appreciated-treasury",
   "metadata": {},
   "outputs": [],
   "source": [
    "upper, lower = np.vsplit(m, [3])\n",
    "\n",
    "#upper ve lower değişkenlerine değer atadık."
   ]
  },
  {
   "cell_type": "code",
   "execution_count": 105,
   "id": "medieval-finding",
   "metadata": {},
   "outputs": [
    {
     "data": {
      "text/plain": [
       "[array([[ 0,  1,  2,  3],\n",
       "        [ 4,  5,  6,  7],\n",
       "        [ 8,  9, 10, 11]]),\n",
       " array([[12, 13, 14, 15],\n",
       "        [16, 17, 18, 19]])]"
      ]
     },
     "execution_count": 105,
     "metadata": {},
     "output_type": "execute_result"
    }
   ],
   "source": [
    "np.vsplit(m, [3])"
   ]
  },
  {
   "cell_type": "code",
   "execution_count": 106,
   "id": "proprietary-uncle",
   "metadata": {},
   "outputs": [
    {
     "data": {
      "text/plain": [
       "array([[ 0,  1,  2,  3],\n",
       "       [ 4,  5,  6,  7],\n",
       "       [ 8,  9, 10, 11]])"
      ]
     },
     "execution_count": 106,
     "metadata": {},
     "output_type": "execute_result"
    }
   ],
   "source": [
    "upper\n",
    "\n",
    "# bölünen array in üst tarafını aldık "
   ]
  },
  {
   "cell_type": "code",
   "execution_count": 107,
   "id": "personalized-complex",
   "metadata": {},
   "outputs": [
    {
     "data": {
      "text/plain": [
       "array([[12, 13, 14, 15],\n",
       "       [16, 17, 18, 19]])"
      ]
     },
     "execution_count": 107,
     "metadata": {},
     "output_type": "execute_result"
    }
   ],
   "source": [
    "lower\n",
    "\n",
    "# bölünen array in alt tarafını aldık "
   ]
  },
  {
   "cell_type": "code",
   "execution_count": 108,
   "id": "worthy-selection",
   "metadata": {},
   "outputs": [
    {
     "data": {
      "text/plain": [
       "[array([[0, 1, 2, 3]]),\n",
       " array([[4, 5, 6, 7]]),\n",
       " array([[ 8,  9, 10, 11]]),\n",
       " array([[12, 13, 14, 15]]),\n",
       " array([[16, 17, 18, 19]])]"
      ]
     },
     "execution_count": 108,
     "metadata": {},
     "output_type": "execute_result"
    }
   ],
   "source": [
    "np.vsplit(m, 5)\n",
    "\n",
    "# satırları direkt 5'e böldük ( köşeli parantez içinde olduğunda indeks olarak bölüyordu)"
   ]
  },
  {
   "cell_type": "code",
   "execution_count": 109,
   "id": "current-louisiana",
   "metadata": {},
   "outputs": [
    {
     "data": {
      "text/plain": [
       "array([[ 0,  1,  2,  3],\n",
       "       [ 4,  5,  6,  7],\n",
       "       [ 8,  9, 10, 11],\n",
       "       [12, 13, 14, 15],\n",
       "       [16, 17, 18, 19]])"
      ]
     },
     "execution_count": 109,
     "metadata": {},
     "output_type": "execute_result"
    }
   ],
   "source": [
    "m"
   ]
  },
  {
   "cell_type": "code",
   "execution_count": 111,
   "id": "silent-athletics",
   "metadata": {},
   "outputs": [
    {
     "data": {
      "text/plain": [
       "[array([[ 0,  1],\n",
       "        [ 4,  5],\n",
       "        [ 8,  9],\n",
       "        [12, 13],\n",
       "        [16, 17]]),\n",
       " array([[ 2,  3],\n",
       "        [ 6,  7],\n",
       "        [10, 11],\n",
       "        [14, 15],\n",
       "        [18, 19]])]"
      ]
     },
     "execution_count": 111,
     "metadata": {},
     "output_type": "execute_result"
    }
   ],
   "source": [
    "# hsplit, sütun bazında  bölüyor.\n",
    "\n",
    "np.hsplit(m, [2])\n",
    "\n",
    "\n",
    "# sütunları sütunun 2. indeksinden böldü"
   ]
  },
  {
   "cell_type": "code",
   "execution_count": 112,
   "id": "floppy-glossary",
   "metadata": {},
   "outputs": [
    {
     "data": {
      "text/plain": [
       "[array([[ 0],\n",
       "        [ 4],\n",
       "        [ 8],\n",
       "        [12],\n",
       "        [16]]),\n",
       " array([[ 1],\n",
       "        [ 5],\n",
       "        [ 9],\n",
       "        [13],\n",
       "        [17]]),\n",
       " array([[ 2],\n",
       "        [ 6],\n",
       "        [10],\n",
       "        [14],\n",
       "        [18]]),\n",
       " array([[ 3],\n",
       "        [ 7],\n",
       "        [11],\n",
       "        [15],\n",
       "        [19]])]"
      ]
     },
     "execution_count": 112,
     "metadata": {},
     "output_type": "execute_result"
    }
   ],
   "source": [
    "np.hsplit(m, 4)\n",
    "\n",
    "# 4 sütunumuz vardı. direkt 4'e bölelim"
   ]
  },
  {
   "cell_type": "markdown",
   "id": "lesbian-plate",
   "metadata": {},
   "source": [
    "# Sorting of the Arrays"
   ]
  },
  {
   "cell_type": "code",
   "execution_count": 113,
   "id": "regulated-contact",
   "metadata": {},
   "outputs": [],
   "source": [
    "v = np.array([2,1,3,4,5])"
   ]
  },
  {
   "cell_type": "code",
   "execution_count": 114,
   "id": "flying-collins",
   "metadata": {},
   "outputs": [
    {
     "data": {
      "text/plain": [
       "array([1, 2, 3, 4, 5])"
      ]
     },
     "execution_count": 114,
     "metadata": {},
     "output_type": "execute_result"
    }
   ],
   "source": [
    "# array i sort edelim\n",
    "\n",
    "np.sort(v)"
   ]
  },
  {
   "cell_type": "markdown",
   "id": "second-medicaid",
   "metadata": {},
   "source": [
    "# 2d matrix te sort"
   ]
  },
  {
   "cell_type": "code",
   "execution_count": 115,
   "id": "complex-wealth",
   "metadata": {},
   "outputs": [],
   "source": [
    "twoD = np.random.randint(5, 100, (3,3))"
   ]
  },
  {
   "cell_type": "code",
   "execution_count": 116,
   "id": "threaded-enough",
   "metadata": {},
   "outputs": [
    {
     "data": {
      "text/plain": [
       "array([[88, 20, 45],\n",
       "       [62, 68, 20],\n",
       "       [ 6, 96, 35]])"
      ]
     },
     "execution_count": 116,
     "metadata": {},
     "output_type": "execute_result"
    }
   ],
   "source": [
    "twoD"
   ]
  },
  {
   "cell_type": "code",
   "execution_count": 117,
   "id": "oriented-basic",
   "metadata": {},
   "outputs": [
    {
     "data": {
      "text/plain": [
       "array([[ 6, 20, 20],\n",
       "       [62, 68, 35],\n",
       "       [88, 96, 45]])"
      ]
     },
     "execution_count": 117,
     "metadata": {},
     "output_type": "execute_result"
    }
   ],
   "source": [
    "np.sort(twoD, axis = 0) \n",
    "\n",
    "  # axis'i 0 olarak belirleyince satıra bazında sıralayacak"
   ]
  },
  {
   "cell_type": "code",
   "execution_count": 118,
   "id": "random-perspective",
   "metadata": {},
   "outputs": [
    {
     "data": {
      "text/plain": [
       "array([[20, 45, 88],\n",
       "       [20, 62, 68],\n",
       "       [ 6, 35, 96]])"
      ]
     },
     "execution_count": 118,
     "metadata": {},
     "output_type": "execute_result"
    }
   ],
   "source": [
    " # aynısını sütun için de yapalım,\n",
    "\n",
    "np.sort(twoD, axis = 1)\n",
    "\n",
    " # axis'i 1 olarak belirleyince sütun bazında sıralayacak"
   ]
  },
  {
   "cell_type": "code",
   "execution_count": null,
   "id": "unsigned-polls",
   "metadata": {},
   "outputs": [],
   "source": []
  },
  {
   "cell_type": "code",
   "execution_count": null,
   "id": "resistant-society",
   "metadata": {},
   "outputs": [],
   "source": []
  },
  {
   "cell_type": "code",
   "execution_count": null,
   "id": "gentle-oriental",
   "metadata": {},
   "outputs": [],
   "source": []
  },
  {
   "cell_type": "markdown",
   "id": "armed-address",
   "metadata": {},
   "source": [
    "# seed"
   ]
  },
  {
   "cell_type": "code",
   "execution_count": null,
   "id": "marine-stroke",
   "metadata": {},
   "outputs": [],
   "source": [
    "\"\"\"\n",
    "np.random.seed()\n",
    "\n",
    "seed ile set etmek çok kullanışlıdır. seed, rastgele durum üretir. \n",
    "böylece rastgele sonuçlar yeniden üretilebilir.\n",
    "\"\"\""
   ]
  },
  {
   "cell_type": "code",
   "execution_count": 119,
   "id": "buried-teddy",
   "metadata": {},
   "outputs": [
    {
     "data": {
      "text/plain": [
       "array([0.37454012, 0.95071431, 0.73199394, 0.59865848])"
      ]
     },
     "execution_count": 119,
     "metadata": {},
     "output_type": "execute_result"
    }
   ],
   "source": [
    "np.random.seed(42)\n",
    "np.random.rand(4)\n",
    "\n",
    "# so what the seed allows us to do is set a particular set of random numbers.\n",
    "# seed burda bize belirli bir rasgele sayılar kümesi ayarladı.\n",
    "# 42 burada tamamen keyfi bir seçim\n"
   ]
  },
  {
   "cell_type": "code",
   "execution_count": 120,
   "id": "oriented-bundle",
   "metadata": {},
   "outputs": [
    {
     "data": {
      "text/plain": [
       "array([0.51639863, 0.57066759, 0.02847423, 0.17152166])"
      ]
     },
     "execution_count": 120,
     "metadata": {},
     "output_type": "execute_result"
    }
   ],
   "source": [
    "np.random.seed(101)\n",
    "np.random.rand(4)"
   ]
  },
  {
   "cell_type": "code",
   "execution_count": 121,
   "id": "national-croatia",
   "metadata": {},
   "outputs": [
    {
     "data": {
      "text/plain": [
       "array([0.68527698, 0.83389686, 0.30696622, 0.89361308])"
      ]
     },
     "execution_count": 121,
     "metadata": {},
     "output_type": "execute_result"
    }
   ],
   "source": [
    "np.random.rand(4)"
   ]
  },
  {
   "cell_type": "code",
   "execution_count": 122,
   "id": "violent-stockholm",
   "metadata": {},
   "outputs": [
    {
     "data": {
      "text/plain": [
       "array([0.72154386, 0.18993895, 0.55422759, 0.35213195])"
      ]
     },
     "execution_count": 122,
     "metadata": {},
     "output_type": "execute_result"
    }
   ],
   "source": [
    "np.random.rand(4)\n",
    "\n",
    "# 101 ile set ettikten sonra her np.random.rand(4) fonksiyonu bize ayrı bir random dizi verecektir."
   ]
  },
  {
   "cell_type": "code",
   "execution_count": 123,
   "id": "sonic-pearl",
   "metadata": {},
   "outputs": [
    {
     "data": {
      "text/plain": [
       "array([0.51639863, 0.57066759, 0.02847423, 0.17152166])"
      ]
     },
     "execution_count": 123,
     "metadata": {},
     "output_type": "execute_result"
    }
   ],
   "source": [
    "np.random.seed(101)\n",
    "np.random.rand(4)\n",
    "\n",
    "# fakat 101'i tekrar set ettiğimizde yeniden bize ilk orjinal diziyi verecektir."
   ]
  },
  {
   "cell_type": "code",
   "execution_count": 1,
   "id": "genetic-screen",
   "metadata": {},
   "outputs": [],
   "source": [
    "import numpy as np"
   ]
  },
  {
   "cell_type": "code",
   "execution_count": 2,
   "id": "periodic-breeding",
   "metadata": {},
   "outputs": [],
   "source": [
    "import matplotlib.pyplot as plt"
   ]
  },
  {
   "cell_type": "code",
   "execution_count": 3,
   "id": "intensive-fleet",
   "metadata": {},
   "outputs": [],
   "source": [
    "rand_arr = np.random.rand(55)"
   ]
  },
  {
   "cell_type": "code",
   "execution_count": 4,
   "id": "mental-virgin",
   "metadata": {},
   "outputs": [
    {
     "data": {
      "text/plain": [
       "(55,)"
      ]
     },
     "execution_count": 4,
     "metadata": {},
     "output_type": "execute_result"
    }
   ],
   "source": [
    "rand_arr.shape\n",
    "\n",
    "# 55 rakamdan oluşan (tek boyutlu) bir array oluğunu gösterecek."
   ]
  },
  {
   "cell_type": "code",
   "execution_count": 6,
   "id": "specific-suggestion",
   "metadata": {},
   "outputs": [
    {
     "data": {
      "image/png": "[encoded data removed]",
      "text/plain": [
       "<Figure size 432x288 with 1 Axes>"
      ]
     },
     "metadata": {
      "needs_background": "light"
     },
     "output_type": "display_data"
    }
   ],
   "source": [
    "plt.hist(np.random.rand(55), bins = 40)\n",
    "\n",
    "plt.show()\n",
    "\n",
    "# hist.i asıl sonra göreceğiz."
   ]
  },
  {
   "cell_type": "code",
   "execution_count": 7,
   "id": "native-diving",
   "metadata": {},
   "outputs": [
    {
     "data": {
      "image/png": "[encoded data removed]",
      "text/plain": [
       "<Figure size 432x288 with 1 Axes>"
      ]
     },
     "metadata": {
      "needs_background": "light"
     },
     "output_type": "display_data"
    }
   ],
   "source": [
    "plt.hist(np.random.rand(555), bins = 40)\n",
    "\n",
    "plt.show()\n",
    "\n",
    "# örnek sayısını arttırdım. şimdi değerlerin biraz daha birbirine yaklaştığını grafikten görebiliyoruz. "
   ]
  },
  {
   "cell_type": "code",
   "execution_count": 9,
   "id": "brilliant-economics",
   "metadata": {},
   "outputs": [
    {
     "data": {
      "image/png": "[encoded data removed]",
      "text/plain": [
       "<Figure size 432x288 with 1 Axes>"
      ]
     },
     "metadata": {
      "needs_background": "light"
     },
     "output_type": "display_data"
    }
   ],
   "source": [
    "plt.hist(np.random.rand(5555), bins = 40)\n",
    "\n",
    "plt.show()\n",
    "\n",
    "# örnek sayısını daha da arttırdık. şimdi değerlerin daha birbirine yaklaştığını grafikten görebiliyoruz. "
   ]
  },
  {
   "cell_type": "code",
   "execution_count": 12,
   "id": "identical-sphere",
   "metadata": {
    "scrolled": false
   },
   "outputs": [
    {
     "data": {
      "image/png": "[encoded data removed]",
      "text/plain": [
       "<Figure size 432x288 with 1 Axes>"
      ]
     },
     "metadata": {
      "needs_background": "light"
     },
     "output_type": "display_data"
    }
   ],
   "source": [
    "plt.hist(np.random.rand(5555555), bins = 40)\n",
    "\n",
    "plt.show()\n",
    "\n",
    "# şimdi neredeyse tüm değerlerden aynı sayıda değer üretti. bu yüzden grafik neredeyse tamamen doldu\n"
   ]
  },
  {
   "cell_type": "code",
   "execution_count": 13,
   "id": "civil-bride",
   "metadata": {
    "scrolled": true
   },
   "outputs": [
    {
     "data": {
      "text/plain": [
       "array([ 1.78653296,  0.8113687 , -0.25016508, -0.07591936, -1.03341965,\n",
       "       -0.91808493, -1.08413238,  1.62501336,  1.07878495,  0.43449349,\n",
       "       -0.65041166,  1.71703327,  1.82617172, -0.06884794,  0.20009938,\n",
       "       -1.08791017,  1.10576996,  0.28694344, -0.68391232,  0.46650552,\n",
       "       -1.7307489 , -1.09552057, -1.03771526, -1.09095395, -1.44006479,\n",
       "       -0.42951272,  0.29234692,  1.46273702,  1.15712673, -1.1171922 ,\n",
       "       -1.9616223 ,  0.49897069,  0.84281316, -0.47689281, -2.057158  ,\n",
       "        1.00307673,  0.10232674, -0.55978788, -0.6539632 , -1.229051  ,\n",
       "        0.89686815,  0.54406578,  0.50100943, -0.39537509,  0.79600007,\n",
       "        1.09591452,  0.18940102,  0.44649144,  1.09505592, -1.15051245,\n",
       "       -1.54540734, -0.04073613,  0.48904806, -2.42212149, -1.43619914])"
      ]
     },
     "execution_count": 13,
     "metadata": {},
     "output_type": "execute_result"
    }
   ],
   "source": [
    "np.random.randn(55)\n",
    "\n",
    "# randn, ortalaması (mean değeri) 0  olan random sayılar üretiyordu.."
   ]
  },
  {
   "cell_type": "code",
   "execution_count": 14,
   "id": "attempted-blood",
   "metadata": {},
   "outputs": [
    {
     "data": {
      "text/plain": [
       "<function matplotlib.pyplot.show(close=None, block=None)>"
      ]
     },
     "execution_count": 14,
     "metadata": {},
     "output_type": "execute_result"
    },
    {
     "data": {
      "image/png": "[encoded data removed]",
      "text/plain": [
       "<Figure size 432x288 with 1 Axes>"
      ]
     },
     "metadata": {
      "needs_background": "light"
     },
     "output_type": "display_data"
    }
   ],
   "source": [
    "plt.hist(np.random.randn(55), bins = 55)\n",
    "\n",
    "plt.show"
   ]
  },
  {
   "cell_type": "code",
   "execution_count": 15,
   "id": "biblical-davis",
   "metadata": {},
   "outputs": [
    {
     "data": {
      "text/plain": [
       "<function matplotlib.pyplot.show(close=None, block=None)>"
      ]
     },
     "execution_count": 15,
     "metadata": {},
     "output_type": "execute_result"
    },
    {
     "data": {
      "image/png": "[encoded data removed]",
      "text/plain": [
       "<Figure size 432x288 with 1 Axes>"
      ]
     },
     "metadata": {
      "needs_background": "light"
     },
     "output_type": "display_data"
    }
   ],
   "source": [
    "plt.hist(np.random.randn(555), bins = 55)\n",
    "\n",
    "plt.show"
   ]
  },
  {
   "cell_type": "code",
   "execution_count": 16,
   "id": "pressed-consultation",
   "metadata": {
    "scrolled": true
   },
   "outputs": [
    {
     "data": {
      "text/plain": [
       "<function matplotlib.pyplot.show(close=None, block=None)>"
      ]
     },
     "execution_count": 16,
     "metadata": {},
     "output_type": "execute_result"
    },
    {
     "data": {
      "image/png": "[encoded data removed]",
      "text/plain": [
       "<Figure size 432x288 with 1 Axes>"
      ]
     },
     "metadata": {
      "needs_background": "light"
     },
     "output_type": "display_data"
    }
   ],
   "source": [
    "plt.hist(np.random.randn(5555), bins = 55)\n",
    "\n",
    "plt.show"
   ]
  },
  {
   "cell_type": "code",
   "execution_count": 17,
   "id": "under-function",
   "metadata": {},
   "outputs": [
    {
     "data": {
      "text/plain": [
       "0.014352978378521208"
      ]
     },
     "execution_count": 17,
     "metadata": {},
     "output_type": "execute_result"
    }
   ],
   "source": [
    "# bunun ortalamasını alınca 0 a yakın birşey çıkması lazım. \n",
    "# mean ile ortalamasını alalım.\n",
    "\n",
    "np.random.randn(5555).mean()"
   ]
  },
  {
   "cell_type": "code",
   "execution_count": 18,
   "id": "material-hollow",
   "metadata": {},
   "outputs": [
    {
     "data": {
      "text/plain": [
       "1.014814178140292"
      ]
     },
     "execution_count": 18,
     "metadata": {},
     "output_type": "execute_result"
    }
   ],
   "source": [
    "# standart sapmanını karesi bize variant'ı veriyor. görelim\n",
    "\n",
    "np.random.randn(5555).std()**2\n"
   ]
  },
  {
   "cell_type": "code",
   "execution_count": 20,
   "id": "medieval-jumping",
   "metadata": {},
   "outputs": [
    {
     "data": {
      "text/plain": [
       "array([ 0,  1,  2,  3,  4,  5,  6,  7,  8,  9, 10, 11, 12, 13, 14, 15, 16,\n",
       "       17, 18, 19, 20, 21, 22, 23, 24])"
      ]
     },
     "execution_count": 20,
     "metadata": {},
     "output_type": "execute_result"
    }
   ],
   "source": [
    "# 25 tane değerden oluşan bir array oluşturalım\n",
    "\n",
    "arr = np.arange(25)\n",
    "arr"
   ]
  },
  {
   "cell_type": "code",
   "execution_count": 21,
   "id": "according-exhaust",
   "metadata": {},
   "outputs": [
    {
     "data": {
      "text/plain": [
       "(25,)"
      ]
     },
     "execution_count": 21,
     "metadata": {},
     "output_type": "execute_result"
    }
   ],
   "source": [
    "# bunun dimension'unu görelim.\n",
    "\n",
    "arr.shape"
   ]
  },
  {
   "cell_type": "code",
   "execution_count": 22,
   "id": "automotive-uniform",
   "metadata": {},
   "outputs": [
    {
     "data": {
      "text/plain": [
       "1"
      ]
     },
     "execution_count": 22,
     "metadata": {},
     "output_type": "execute_result"
    }
   ],
   "source": [
    "arr.ndim"
   ]
  },
  {
   "cell_type": "code",
   "execution_count": 25,
   "id": "stone-clinton",
   "metadata": {},
   "outputs": [],
   "source": [
    " # bunu 1 satır 25 sütun yapmak istersek.. yeniden şekillendiririz\n",
    "\n",
    "arr2d = arr.reshape(1,25)\n"
   ]
  },
  {
   "cell_type": "code",
   "execution_count": 26,
   "id": "entitled-police",
   "metadata": {},
   "outputs": [
    {
     "data": {
      "text/plain": [
       "(1, 25)"
      ]
     },
     "execution_count": 26,
     "metadata": {},
     "output_type": "execute_result"
    }
   ],
   "source": [
    "arr2d.shape\n",
    "\n",
    "# shape ini görelim. 1 satır 25 sütun olduğunu gösterecek."
   ]
  },
  {
   "cell_type": "code",
   "execution_count": 27,
   "id": "optical-census",
   "metadata": {},
   "outputs": [
    {
     "data": {
      "text/plain": [
       "array([ 0,  1,  2,  3,  4,  5,  6,  7,  8,  9, 10, 11, 12, 13, 14, 15, 16,\n",
       "       17, 18, 19, 20, 21, 22, 23, 24])"
      ]
     },
     "execution_count": 27,
     "metadata": {},
     "output_type": "execute_result"
    }
   ],
   "source": [
    "arr"
   ]
  },
  {
   "cell_type": "code",
   "execution_count": 28,
   "id": "recreational-board",
   "metadata": {},
   "outputs": [
    {
     "data": {
      "text/plain": [
       "array([[ 0,  1,  2,  3,  4],\n",
       "       [ 5,  6,  7,  8,  9],\n",
       "       [10, 11, 12, 13, 14],\n",
       "       [15, 16, 17, 18, 19],\n",
       "       [20, 21, 22, 23, 24]])"
      ]
     },
     "execution_count": 28,
     "metadata": {},
     "output_type": "execute_result"
    }
   ],
   "source": [
    "arr.reshape(5,5)\n",
    "\n",
    "# arr'ı 5x5 matrix şekline çevirdik."
   ]
  },
  {
   "cell_type": "code",
   "execution_count": 29,
   "id": "deluxe-wayne",
   "metadata": {},
   "outputs": [
    {
     "data": {
      "text/plain": [
       "array([[ 0],\n",
       "       [ 1],\n",
       "       [ 2],\n",
       "       [ 3],\n",
       "       [ 4],\n",
       "       [ 5],\n",
       "       [ 6],\n",
       "       [ 7],\n",
       "       [ 8],\n",
       "       [ 9],\n",
       "       [10],\n",
       "       [11],\n",
       "       [12],\n",
       "       [13],\n",
       "       [14],\n",
       "       [15],\n",
       "       [16],\n",
       "       [17],\n",
       "       [18],\n",
       "       [19],\n",
       "       [20],\n",
       "       [21],\n",
       "       [22],\n",
       "       [23],\n",
       "       [24]])"
      ]
     },
     "execution_count": 29,
     "metadata": {},
     "output_type": "execute_result"
    }
   ],
   "source": [
    "arr.reshape(25,1)\n",
    "\n",
    "# satırı 25, sütunu 1 yaptık"
   ]
  },
  {
   "cell_type": "code",
   "execution_count": 30,
   "id": "suitable-terrorist",
   "metadata": {
    "scrolled": true
   },
   "outputs": [
    {
     "ename": "ValueError",
     "evalue": "cannot reshape array of size 25 into shape (3,8)",
     "output_type": "error",
     "traceback": [
      "\u001b[1;31m---------------------------------------------------------------------------\u001b[0m",
      "\u001b[1;31mValueError\u001b[0m                                Traceback (most recent call last)",
      "\u001b[1;32m<ipython-input-30-05a7b1c32f12>\u001b[0m in \u001b[0;36m<module>\u001b[1;34m\u001b[0m\n\u001b[1;32m----> 1\u001b[1;33m \u001b[0marr\u001b[0m\u001b[1;33m.\u001b[0m\u001b[0mreshape\u001b[0m\u001b[1;33m(\u001b[0m\u001b[1;36m3\u001b[0m\u001b[1;33m,\u001b[0m\u001b[1;36m8\u001b[0m\u001b[1;33m)\u001b[0m\u001b[1;33m\u001b[0m\u001b[1;33m\u001b[0m\u001b[0m\n\u001b[0m\u001b[0;32m      2\u001b[0m \u001b[1;33m\u001b[0m\u001b[0m\n\u001b[0;32m      3\u001b[0m \u001b[1;31m# 3 * 8 = 24 olduğundan bu hata verir. çünkü eleman sayımız 25\u001b[0m\u001b[1;33m\u001b[0m\u001b[1;33m\u001b[0m\u001b[1;33m\u001b[0m\u001b[0m\n",
      "\u001b[1;31mValueError\u001b[0m: cannot reshape array of size 25 into shape (3,8)"
     ]
    }
   ],
   "source": [
    "arr.reshape(3,8)\n",
    "\n",
    "# 3 * 8 = 24 olduğundan bu hata verir. çünkü eleman sayımız 25\n",
    "# 25'İN KATLARI OLMALI!!"
   ]
  },
  {
   "cell_type": "code",
   "execution_count": 32,
   "id": "threatened-crowd",
   "metadata": {},
   "outputs": [
    {
     "data": {
      "text/plain": [
       "array([[9, 2, 3, 4, 6],\n",
       "       [6, 1, 1, 1, 9],\n",
       "       [2, 7, 2, 5, 5]])"
      ]
     },
     "execution_count": 32,
     "metadata": {},
     "output_type": "execute_result"
    }
   ],
   "source": [
    "np.random.randint(10, size = (3,5))"
   ]
  },
  {
   "cell_type": "code",
   "execution_count": 33,
   "id": "apart-syndrome",
   "metadata": {},
   "outputs": [
    {
     "data": {
      "text/plain": [
       "array([ 0.,  5., 10.])"
      ]
     },
     "execution_count": 33,
     "metadata": {},
     "output_type": "execute_result"
    }
   ],
   "source": [
    "np.linspace(0, 10, 3)"
   ]
  },
  {
   "cell_type": "code",
   "execution_count": 34,
   "id": "massive-student",
   "metadata": {},
   "outputs": [
    {
     "data": {
      "text/plain": [
       "array([ 0,  5, 10])"
      ]
     },
     "execution_count": 34,
     "metadata": {},
     "output_type": "execute_result"
    }
   ],
   "source": [
    "np.linspace(0, 10, 3, dtype = int)\n",
    "\n",
    "# elemanların tipi integer oldu"
   ]
  },
  {
   "cell_type": "code",
   "execution_count": 35,
   "id": "ranging-writer",
   "metadata": {},
   "outputs": [
    {
     "data": {
      "text/plain": [
       "array([ 0.        ,  0.20408163,  0.40816327,  0.6122449 ,  0.81632653,\n",
       "        1.02040816,  1.2244898 ,  1.42857143,  1.63265306,  1.83673469,\n",
       "        2.04081633,  2.24489796,  2.44897959,  2.65306122,  2.85714286,\n",
       "        3.06122449,  3.26530612,  3.46938776,  3.67346939,  3.87755102,\n",
       "        4.08163265,  4.28571429,  4.48979592,  4.69387755,  4.89795918,\n",
       "        5.10204082,  5.30612245,  5.51020408,  5.71428571,  5.91836735,\n",
       "        6.12244898,  6.32653061,  6.53061224,  6.73469388,  6.93877551,\n",
       "        7.14285714,  7.34693878,  7.55102041,  7.75510204,  7.95918367,\n",
       "        8.16326531,  8.36734694,  8.57142857,  8.7755102 ,  8.97959184,\n",
       "        9.18367347,  9.3877551 ,  9.59183673,  9.79591837, 10.        ])"
      ]
     },
     "execution_count": 35,
     "metadata": {},
     "output_type": "execute_result"
    }
   ],
   "source": [
    "np.linspace(0, 10, 50)\n",
    "\n",
    "# 0 ile 10 arasında 50 adet değer ürettik."
   ]
  },
  {
   "cell_type": "code",
   "execution_count": 36,
   "id": "authorized-springfield",
   "metadata": {},
   "outputs": [
    {
     "data": {
      "text/plain": [
       "array([ 0. ,  0.2,  0.4,  0.6,  0.8,  1. ,  1.2,  1.4,  1.6,  1.8,  2. ,\n",
       "        2.2,  2.4,  2.6,  2.8,  3. ,  3.2,  3.4,  3.6,  3.8,  4. ,  4.2,\n",
       "        4.4,  4.6,  4.8,  5. ,  5.2,  5.4,  5.6,  5.8,  6. ,  6.2,  6.4,\n",
       "        6.6,  6.8,  7. ,  7.2,  7.4,  7.6,  7.8,  8. ,  8.2,  8.4,  8.6,\n",
       "        8.8,  9. ,  9.2,  9.4,  9.6,  9.8, 10. ])"
      ]
     },
     "execution_count": 36,
     "metadata": {},
     "output_type": "execute_result"
    }
   ],
   "source": [
    "np.linspace(0, 10, 51)\n",
    "\n",
    "# elemanların tam olması için 50'yi 51 yaptık.\n",
    "# linspace te ilk ve son rakam dahil olduğundan bu aralıkta 51 eleman vardır.."
   ]
  },
  {
   "cell_type": "markdown",
   "id": "original-lottery",
   "metadata": {},
   "source": [
    "# NumPy Indexing and Selection "
   ]
  },
  {
   "cell_type": "code",
   "execution_count": 37,
   "id": "signed-ribbon",
   "metadata": {},
   "outputs": [
    {
     "data": {
      "text/plain": [
       "array([ 0,  1,  2,  3,  4,  5,  6,  7,  8,  9, 10])"
      ]
     },
     "execution_count": 37,
     "metadata": {},
     "output_type": "execute_result"
    }
   ],
   "source": [
    "arr = np.arange(0,11)\n",
    "arr"
   ]
  },
  {
   "cell_type": "code",
   "execution_count": 38,
   "id": "recovered-slovak",
   "metadata": {},
   "outputs": [
    {
     "data": {
      "text/plain": [
       "8"
      ]
     },
     "execution_count": 38,
     "metadata": {},
     "output_type": "execute_result"
    }
   ],
   "source": [
    "arr[8]\n",
    "\n",
    "# 8. indeksin elemanı --> 8"
   ]
  },
  {
   "cell_type": "code",
   "execution_count": 39,
   "id": "encouraging-cooperative",
   "metadata": {},
   "outputs": [
    {
     "data": {
      "text/plain": [
       "10"
      ]
     },
     "execution_count": 39,
     "metadata": {},
     "output_type": "execute_result"
    }
   ],
   "source": [
    "arr[-1]\n",
    "\n",
    "# negative indeksleme "
   ]
  },
  {
   "cell_type": "code",
   "execution_count": 40,
   "id": "federal-baltimore",
   "metadata": {},
   "outputs": [
    {
     "data": {
      "text/plain": [
       "array([1, 2, 3, 4])"
      ]
     },
     "execution_count": 40,
     "metadata": {},
     "output_type": "execute_result"
    }
   ],
   "source": [
    "arr[1:5]\n",
    "\n",
    "# slicing de yapabiliriz. aynı list slicing gibi\n",
    "# arr[start:stop:step]"
   ]
  },
  {
   "cell_type": "code",
   "execution_count": 41,
   "id": "basic-alexandria",
   "metadata": {},
   "outputs": [
    {
     "data": {
      "text/plain": [
       "array([1, 3, 5, 7, 9])"
      ]
     },
     "execution_count": 41,
     "metadata": {},
     "output_type": "execute_result"
    }
   ],
   "source": [
    "arr[1::2]\n",
    "\n",
    "# tek sayıları alalım.. bunun için 1.indeksten başlayıp sona kadar gidelim ve 2'şer atlayalım"
   ]
  },
  {
   "cell_type": "markdown",
   "id": "synthetic-somerset",
   "metadata": {},
   "source": [
    "# Broadcasting (değer atama)"
   ]
  },
  {
   "cell_type": "code",
   "execution_count": 43,
   "id": "hydraulic-capability",
   "metadata": {},
   "outputs": [
    {
     "data": {
      "text/plain": [
       "array([100, 100, 100, 100, 100,   5,   6,   7,   8,   9,  10])"
      ]
     },
     "execution_count": 43,
     "metadata": {},
     "output_type": "execute_result"
    }
   ],
   "source": [
    "arr[0:5] = 100\n",
    "\n",
    " # 0 dan 4 e kadar 100 değerini ata\n",
    "    \n",
    "arr"
   ]
  },
  {
   "cell_type": "code",
   "execution_count": 47,
   "id": "basic-venue",
   "metadata": {},
   "outputs": [
    {
     "data": {
      "text/plain": [
       "array([ 0,  1,  2,  3,  4,  5,  6,  7,  8,  9, 10])"
      ]
     },
     "execution_count": 47,
     "metadata": {},
     "output_type": "execute_result"
    }
   ],
   "source": [
    "arr = np.arange(0,11)\n",
    "arr"
   ]
  },
  {
   "cell_type": "code",
   "execution_count": 48,
   "id": "purple-dollar",
   "metadata": {},
   "outputs": [
    {
     "data": {
      "text/plain": [
       "array([100, 100, 100,   3,   4,   5,   6,   7,   8,   9,  10])"
      ]
     },
     "execution_count": 48,
     "metadata": {},
     "output_type": "execute_result"
    }
   ],
   "source": [
    "arr[0:3] = [100,100,100]\n",
    "\n",
    "arr"
   ]
  },
  {
   "cell_type": "code",
   "execution_count": 49,
   "id": "gothic-chair",
   "metadata": {},
   "outputs": [
    {
     "data": {
      "text/plain": [
       "array([ 0,  1,  2,  3,  4,  5,  6,  7,  8,  9, 10])"
      ]
     },
     "execution_count": 49,
     "metadata": {},
     "output_type": "execute_result"
    }
   ],
   "source": [
    "arr = np.arange(0,11)\n",
    "arr"
   ]
  },
  {
   "cell_type": "code",
   "execution_count": 50,
   "id": "effective-courage",
   "metadata": {},
   "outputs": [
    {
     "data": {
      "text/plain": [
       "array([0, 1, 2, 3, 4, 5])"
      ]
     },
     "execution_count": 50,
     "metadata": {},
     "output_type": "execute_result"
    }
   ],
   "source": [
    "slice_of_arr = arr[0:6]\n",
    "slice_of_arr\n",
    "\n",
    "# arr ın 0-6 indekslerini alıp slice_of_arr değişkenine atadık"
   ]
  },
  {
   "cell_type": "code",
   "execution_count": 52,
   "id": "preliminary-bosnia",
   "metadata": {},
   "outputs": [
    {
     "data": {
      "text/plain": [
       "array([99, 99, 99, 99, 99, 99])"
      ]
     },
     "execution_count": 52,
     "metadata": {},
     "output_type": "execute_result"
    }
   ],
   "source": [
    "slice_of_arr[:] = 99\n",
    "\n",
    "# slice_of_arr ın tüm değerlerini 99 yaptık\n",
    "\n",
    "slice_of_arr"
   ]
  },
  {
   "cell_type": "code",
   "execution_count": 53,
   "id": "equivalent-bruce",
   "metadata": {},
   "outputs": [
    {
     "data": {
      "text/plain": [
       "array([99, 99, 99, 99, 99, 99,  6,  7,  8,  9, 10])"
      ]
     },
     "execution_count": 53,
     "metadata": {},
     "output_type": "execute_result"
    }
   ],
   "source": [
    "arr\n",
    "\n",
    "# orjinal arr dizisini de değiştirdiğini görelim."
   ]
  },
  {
   "cell_type": "code",
   "execution_count": 54,
   "id": "local-favorite",
   "metadata": {},
   "outputs": [
    {
     "data": {
      "text/plain": [
       "array([99, 99, 99, 99, 99, 99,  6,  7,  8,  9, 10])"
      ]
     },
     "execution_count": 54,
     "metadata": {},
     "output_type": "execute_result"
    }
   ],
   "source": [
    "# orjinal dizi değişmesin diyorsak o zaman copy kullanacağız\n",
    "\n",
    "arr_copy = arr.copy()\n",
    "arr_copy"
   ]
  },
  {
   "cell_type": "code",
   "execution_count": 55,
   "id": "reverse-simon",
   "metadata": {},
   "outputs": [
    {
     "data": {
      "text/plain": [
       "array([ 0,  1,  2,  3,  4,  5,  6,  7,  8,  9, 10])"
      ]
     },
     "execution_count": 55,
     "metadata": {},
     "output_type": "execute_result"
    }
   ],
   "source": [
    "arr_copy[0:6] = [0,1,2,3,4,5]\n",
    "arr_copy\n"
   ]
  },
  {
   "cell_type": "code",
   "execution_count": 56,
   "id": "norman-symposium",
   "metadata": {},
   "outputs": [
    {
     "data": {
      "text/plain": [
       "array([99, 99, 99, 99, 99, 99,  6,  7,  8,  9, 10])"
      ]
     },
     "execution_count": 56,
     "metadata": {},
     "output_type": "execute_result"
    }
   ],
   "source": [
    "arr\n",
    "\n",
    "# copy ile oluşturduğumuz arr_copy üzerinde çalıştığımız için orjinal array değimedi"
   ]
  },
  {
   "cell_type": "markdown",
   "id": "leading-consideration",
   "metadata": {},
   "source": [
    "# Indexing a 2D arrays"
   ]
  },
  {
   "cell_type": "code",
   "execution_count": 162,
   "id": "forced-encyclopedia",
   "metadata": {},
   "outputs": [
    {
     "data": {
      "text/plain": [
       "array([[ 5, 10, 15],\n",
       "       [20, 25, 30],\n",
       "       [35, 40, 45]])"
      ]
     },
     "execution_count": 162,
     "metadata": {},
     "output_type": "execute_result"
    }
   ],
   "source": [
    "arr2d = np.array([[5,10,15], [20,25,30], [35,40,45]])\n",
    "arr2d\n",
    "\n",
    "# satır ve sütunlardan oluşan 2d matrix oluşturduk"
   ]
  },
  {
   "cell_type": "code",
   "execution_count": 163,
   "id": "weird-clear",
   "metadata": {},
   "outputs": [
    {
     "data": {
      "text/plain": [
       "array([20, 25, 30])"
      ]
     },
     "execution_count": 163,
     "metadata": {},
     "output_type": "execute_result"
    }
   ],
   "source": [
    "arr2d[1]\n",
    "\n",
    "# 1.n indeksteki satırı yani 2. satırı verir."
   ]
  },
  {
   "cell_type": "code",
   "execution_count": 164,
   "id": "professional-victorian",
   "metadata": {},
   "outputs": [
    {
     "data": {
      "text/plain": [
       "20"
      ]
     },
     "execution_count": 164,
     "metadata": {},
     "output_type": "execute_result"
    }
   ],
   "source": [
    "arr2d[1, 0]\n",
    "\n",
    "# virgül ile ayırdığımızda: 1.n indeksteki satır ve 0.sütunu kesişimini aldık"
   ]
  },
  {
   "cell_type": "code",
   "execution_count": 165,
   "id": "international-religious",
   "metadata": {
    "scrolled": true
   },
   "outputs": [
    {
     "data": {
      "text/plain": [
       "array([35, 40, 45])"
      ]
     },
     "execution_count": 165,
     "metadata": {},
     "output_type": "execute_result"
    }
   ],
   "source": [
    "# satırları kendi arasında sütunları kendi arasında slicelama yapabiliriz.\n",
    "\n",
    "arr2d[2,:]\n",
    "\n",
    "# 2.nci indeksteki satırı al, burdaki sütunların tamamını al."
   ]
  },
  {
   "cell_type": "code",
   "execution_count": 166,
   "id": "opening-lambda",
   "metadata": {},
   "outputs": [
    {
     "data": {
      "text/plain": [
       "array([35, 40, 45])"
      ]
     },
     "execution_count": 166,
     "metadata": {},
     "output_type": "execute_result"
    }
   ],
   "source": [
    "arr2d[2]  # arr2d[2, :] ile aynı"
   ]
  },
  {
   "cell_type": "code",
   "execution_count": 61,
   "id": "czech-absolute",
   "metadata": {},
   "outputs": [
    {
     "data": {
      "text/plain": [
       "array([10, 25, 40])"
      ]
     },
     "execution_count": 61,
     "metadata": {},
     "output_type": "execute_result"
    }
   ],
   "source": [
    "# şimdi ortadaki sütunu slice edelim\n",
    "\n",
    "arr2d[:, 1]\n",
    "\n",
    "# satırın tamamını al, 1. indeksteki sütunun.."
   ]
  },
  {
   "cell_type": "code",
   "execution_count": 62,
   "id": "dried-programmer",
   "metadata": {},
   "outputs": [
    {
     "data": {
      "text/plain": [
       "array([15, 30, 45])"
      ]
     },
     "execution_count": 62,
     "metadata": {},
     "output_type": "execute_result"
    }
   ],
   "source": [
    "arr2d[:, 2]\n",
    "\n",
    "# en sağdaki sütunu aldık"
   ]
  },
  {
   "cell_type": "code",
   "execution_count": 64,
   "id": "random-secret",
   "metadata": {},
   "outputs": [
    {
     "data": {
      "text/plain": [
       "array([[ 5, 10, 15],\n",
       "       [20, 25, 30],\n",
       "       [35, 40, 45]])"
      ]
     },
     "execution_count": 64,
     "metadata": {},
     "output_type": "execute_result"
    }
   ],
   "source": [
    "# ortadaki 25'i 55 yapalım\n",
    "\n",
    "arr2d[1:1] = 55\n",
    "arr2d"
   ]
  },
  {
   "cell_type": "code",
   "execution_count": 67,
   "id": "appointed-brick",
   "metadata": {},
   "outputs": [
    {
     "data": {
      "text/plain": [
       "5"
      ]
     },
     "execution_count": 67,
     "metadata": {},
     "output_type": "execute_result"
    }
   ],
   "source": [
    "arr2d[0,0]"
   ]
  },
  {
   "cell_type": "code",
   "execution_count": 68,
   "id": "muslim-accommodation",
   "metadata": {},
   "outputs": [
    {
     "data": {
      "text/plain": [
       "array([[ 3, 10, 15],\n",
       "       [20, 25, 30],\n",
       "       [35, 40, 45]])"
      ]
     },
     "execution_count": 68,
     "metadata": {},
     "output_type": "execute_result"
    }
   ],
   "source": [
    "arr2d[0,0] = 3.3\n",
    "arr2d\n",
    "\n",
    "# ilk sayıyı 3.3 gibi bir float değere çevirsek bile bunu 3'e yuvarlayacak.\n",
    "# çünkü matrixin tamamı default olarak integer olduğu için arka tarafta int() fonksiyonunu çalıştırıp\n",
    "# yolladığımız değeri integere dönüştürüyor"
   ]
  },
  {
   "cell_type": "code",
   "execution_count": 69,
   "id": "emotional-sensitivity",
   "metadata": {},
   "outputs": [
    {
     "data": {
      "text/plain": [
       "dtype('int32')"
      ]
     },
     "execution_count": 69,
     "metadata": {},
     "output_type": "execute_result"
    }
   ],
   "source": [
    "arr2d.dtype\n",
    "\n",
    "# arrayımızın integer tipinde olduğunu görelim."
   ]
  },
  {
   "cell_type": "markdown",
   "id": "particular-visibility",
   "metadata": {},
   "source": [
    "# Fancy Indexing"
   ]
  },
  {
   "cell_type": "code",
   "execution_count": 9,
   "id": "designing-system",
   "metadata": {},
   "outputs": [
    {
     "data": {
      "text/plain": [
       "array([ 0,  3,  6,  9, 12, 15, 18, 21, 24, 27])"
      ]
     },
     "execution_count": 9,
     "metadata": {},
     "output_type": "execute_result"
    }
   ],
   "source": [
    "v = np.arange(0, 30, 3)\n",
    "v"
   ]
  },
  {
   "cell_type": "code",
   "execution_count": 71,
   "id": "vital-bangladesh",
   "metadata": {},
   "outputs": [
    {
     "data": {
      "text/plain": [
       "3"
      ]
     },
     "execution_count": 71,
     "metadata": {},
     "output_type": "execute_result"
    }
   ],
   "source": [
    "v[1]"
   ]
  },
  {
   "cell_type": "code",
   "execution_count": 72,
   "id": "outer-fifty",
   "metadata": {},
   "outputs": [
    {
     "data": {
      "text/plain": [
       "15"
      ]
     },
     "execution_count": 72,
     "metadata": {},
     "output_type": "execute_result"
    }
   ],
   "source": [
    "v[5]"
   ]
  },
  {
   "cell_type": "code",
   "execution_count": 73,
   "id": "enormous-rabbit",
   "metadata": {},
   "outputs": [],
   "source": [
    "inx_list = [1, 5, 3]"
   ]
  },
  {
   "cell_type": "code",
   "execution_count": 74,
   "id": "threaded-wright",
   "metadata": {},
   "outputs": [
    {
     "data": {
      "text/plain": [
       "array([ 3, 15,  9])"
      ]
     },
     "execution_count": 74,
     "metadata": {},
     "output_type": "execute_result"
    }
   ],
   "source": [
    "v[inx_list]\n",
    "\n",
    "# birden fazla indekse aynı anda ulaşabildim. sıraya bağlı kalmadan hepsini çekip alabildim.\n",
    "# v'den sonra iki köşeli parantez açıldığına dikkat et.\n",
    "# Bunun adı Fancy Indexing"
   ]
  },
  {
   "cell_type": "code",
   "execution_count": 75,
   "id": "magnetic-appointment",
   "metadata": {},
   "outputs": [
    {
     "data": {
      "text/plain": [
       "array([ 3, 15,  9])"
      ]
     },
     "execution_count": 75,
     "metadata": {},
     "output_type": "execute_result"
    }
   ],
   "source": [
    "# yaptığım şey aslında bu. işte bu Fancy indexing\n",
    "\n",
    "v[[1, 5, 3]] "
   ]
  },
  {
   "cell_type": "code",
   "execution_count": 76,
   "id": "raising-vocabulary",
   "metadata": {
    "scrolled": true
   },
   "outputs": [
    {
     "ename": "TypeError",
     "evalue": "Cannot interpret '10' as a data type",
     "output_type": "error",
     "traceback": [
      "\u001b[1;31m---------------------------------------------------------------------------\u001b[0m",
      "\u001b[1;31mTypeError\u001b[0m                                 Traceback (most recent call last)",
      "\u001b[1;32m<ipython-input-76-6d8d894d1ff8>\u001b[0m in \u001b[0;36m<module>\u001b[1;34m\u001b[0m\n\u001b[1;32m----> 1\u001b[1;33m \u001b[0marr2d\u001b[0m \u001b[1;33m=\u001b[0m \u001b[0mnp\u001b[0m\u001b[1;33m.\u001b[0m\u001b[0mzeros\u001b[0m\u001b[1;33m(\u001b[0m\u001b[1;36m10\u001b[0m\u001b[1;33m,\u001b[0m \u001b[1;36m10\u001b[0m\u001b[1;33m)\u001b[0m\u001b[1;33m\u001b[0m\u001b[1;33m\u001b[0m\u001b[0m\n\u001b[0m",
      "\u001b[1;31mTypeError\u001b[0m: Cannot interpret '10' as a data type"
     ]
    }
   ],
   "source": [
    "arr2d = np.zeros(10, 10)\n",
    "\n",
    "# içerdeki değer tuple olarak tek bir değer olarak girmem gerekiyordu!!\n",
    "\n",
    "\"\"\"\n",
    "Examples\n",
    "--------\n",
    ">>> np.zeros(5)\n",
    "array([ 0.,  0.,  0.,  0.,  0.])\n",
    "\n",
    ">>> np.zeros((5,), dtype=int)\n",
    "array([0, 0, 0, 0, 0])\n",
    "\n",
    ">>> np.zeros((2, 1))\n",
    "array([[ 0.],\n",
    "       [ 0.]])\n",
    "\n",
    ">>> s = (2,2)\n",
    ">>> np.zeros(s)\n",
    "array([[ 0.,  0.],\n",
    "       [ 0.,  0.]])\n",
    "\"\"\""
   ]
  },
  {
   "cell_type": "code",
   "execution_count": 77,
   "id": "superior-consistency",
   "metadata": {},
   "outputs": [
    {
     "data": {
      "text/plain": [
       "array([[0., 0., 0., 0., 0., 0., 0., 0., 0., 0.],\n",
       "       [0., 0., 0., 0., 0., 0., 0., 0., 0., 0.],\n",
       "       [0., 0., 0., 0., 0., 0., 0., 0., 0., 0.],\n",
       "       [0., 0., 0., 0., 0., 0., 0., 0., 0., 0.],\n",
       "       [0., 0., 0., 0., 0., 0., 0., 0., 0., 0.],\n",
       "       [0., 0., 0., 0., 0., 0., 0., 0., 0., 0.],\n",
       "       [0., 0., 0., 0., 0., 0., 0., 0., 0., 0.],\n",
       "       [0., 0., 0., 0., 0., 0., 0., 0., 0., 0.],\n",
       "       [0., 0., 0., 0., 0., 0., 0., 0., 0., 0.],\n",
       "       [0., 0., 0., 0., 0., 0., 0., 0., 0., 0.]])"
      ]
     },
     "execution_count": 77,
     "metadata": {},
     "output_type": "execute_result"
    }
   ],
   "source": [
    "arr2d = np.zeros((10, 10))\n",
    "arr2d"
   ]
  },
  {
   "cell_type": "code",
   "execution_count": 78,
   "id": "adequate-conclusion",
   "metadata": {},
   "outputs": [
    {
     "data": {
      "text/plain": [
       "(10, 10)"
      ]
     },
     "execution_count": 78,
     "metadata": {},
     "output_type": "execute_result"
    }
   ],
   "source": [
    "arr2d.shape\n",
    "# shape ine bakalım. 10 a 10 olduğunu görelim."
   ]
  },
  {
   "cell_type": "code",
   "execution_count": 79,
   "id": "injured-fluid",
   "metadata": {},
   "outputs": [
    {
     "data": {
      "text/plain": [
       "array([0., 0., 0., 0., 0., 0., 0., 0., 0., 0.])"
      ]
     },
     "execution_count": 79,
     "metadata": {},
     "output_type": "execute_result"
    }
   ],
   "source": [
    "arr2d[0]"
   ]
  },
  {
   "cell_type": "code",
   "execution_count": 80,
   "id": "casual-pricing",
   "metadata": {},
   "outputs": [
    {
     "data": {
      "text/plain": [
       "array([0., 0., 0., 0., 0., 0., 0., 0., 0., 0.])"
      ]
     },
     "execution_count": 80,
     "metadata": {},
     "output_type": "execute_result"
    }
   ],
   "source": [
    "arr2d[3]"
   ]
  },
  {
   "cell_type": "code",
   "execution_count": 82,
   "id": "prime-beauty",
   "metadata": {
    "scrolled": true
   },
   "outputs": [
    {
     "data": {
      "text/plain": [
       "array([[0., 0., 0., 0., 0., 0., 0., 0., 0., 0.],\n",
       "       [1., 1., 1., 1., 1., 1., 1., 1., 1., 1.],\n",
       "       [2., 2., 2., 2., 2., 2., 2., 2., 2., 2.],\n",
       "       [3., 3., 3., 3., 3., 3., 3., 3., 3., 3.],\n",
       "       [4., 4., 4., 4., 4., 4., 4., 4., 4., 4.],\n",
       "       [5., 5., 5., 5., 5., 5., 5., 5., 5., 5.],\n",
       "       [6., 6., 6., 6., 6., 6., 6., 6., 6., 6.],\n",
       "       [7., 7., 7., 7., 7., 7., 7., 7., 7., 7.],\n",
       "       [8., 8., 8., 8., 8., 8., 8., 8., 8., 8.],\n",
       "       [9., 9., 9., 9., 9., 9., 9., 9., 9., 9.]])"
      ]
     },
     "execution_count": 82,
     "metadata": {},
     "output_type": "execute_result"
    }
   ],
   "source": [
    "for i in range(10):\n",
    "    arr2d[i] = i # her bir satırın elemanlarına o satır indeksi numarasını atadık.\n",
    "\n",
    "arr2d\n",
    "\n",
    "# döngü ile her satırı kendi elamanından oluşan bir matrix yaptık"
   ]
  },
  {
   "cell_type": "code",
   "execution_count": 83,
   "id": "typical-collins",
   "metadata": {},
   "outputs": [
    {
     "data": {
      "text/plain": [
       "array([[6., 6., 6., 6., 6., 6., 6., 6., 6., 6.],\n",
       "       [4., 4., 4., 4., 4., 4., 4., 4., 4., 4.],\n",
       "       [2., 2., 2., 2., 2., 2., 2., 2., 2., 2.],\n",
       "       [7., 7., 7., 7., 7., 7., 7., 7., 7., 7.]])"
      ]
     },
     "execution_count": 83,
     "metadata": {},
     "output_type": "execute_result"
    }
   ],
   "source": [
    "arr2d[[6, 4, 2, 7]]\n",
    "\n",
    "# matrixte Fancy indeksleme yaptık.\n",
    "\n",
    "# tek bir köşeli parantez ile indexleme yaparsak sadece satırların indeksine ulaşıyorum\n",
    "# aşağıda gösterildiği gibi arası virgül ile ayrılmış iki köşeli parantez ile indeksleme yaparsak\n",
    "# hem satır hem sütunlarda indeksleme yaparız"
   ]
  },
  {
   "cell_type": "markdown",
   "id": "concrete-double",
   "metadata": {},
   "source": [
    "# any_arr[[row indices], [column indices]]"
   ]
  },
  {
   "cell_type": "code",
   "execution_count": 85,
   "id": "automatic-engine",
   "metadata": {},
   "outputs": [],
   "source": [
    "jj = np.arange(1,17).reshape(4,4)"
   ]
  },
  {
   "cell_type": "code",
   "execution_count": 86,
   "id": "phantom-foundation",
   "metadata": {},
   "outputs": [
    {
     "data": {
      "text/plain": [
       "array([[ 1,  2,  3,  4],\n",
       "       [ 5,  6,  7,  8],\n",
       "       [ 9, 10, 11, 12],\n",
       "       [13, 14, 15, 16]])"
      ]
     },
     "execution_count": 86,
     "metadata": {},
     "output_type": "execute_result"
    }
   ],
   "source": [
    "jj"
   ]
  },
  {
   "cell_type": "code",
   "execution_count": 87,
   "id": "expected-laser",
   "metadata": {},
   "outputs": [
    {
     "data": {
      "text/plain": [
       "array([ 5, 12])"
      ]
     },
     "execution_count": 87,
     "metadata": {},
     "output_type": "execute_result"
    }
   ],
   "source": [
    "jj[[1, 2], [0, 3]]\n",
    "\n",
    "\n",
    "# 1. ve 2. indekteki satırları alıp, 0. ve 3. sütunları ile kesiştirdik.\n",
    "# 1 e 0 ve 2'ye 3 elemanlarını indeksleyerek çektik."
   ]
  },
  {
   "cell_type": "code",
   "execution_count": 91,
   "id": "worth-saying",
   "metadata": {},
   "outputs": [
    {
     "data": {
      "text/plain": [
       "array([1])"
      ]
     },
     "execution_count": 91,
     "metadata": {},
     "output_type": "execute_result"
    }
   ],
   "source": [
    "jj[[0], [0]]"
   ]
  },
  {
   "cell_type": "code",
   "execution_count": 89,
   "id": "figured-certificate",
   "metadata": {},
   "outputs": [
    {
     "data": {
      "text/plain": [
       "array([ 1, 10])"
      ]
     },
     "execution_count": 89,
     "metadata": {},
     "output_type": "execute_result"
    }
   ],
   "source": [
    "jj[[0, 2], [0, 1]]\n",
    "\n",
    "# 0'a 0 ve 2'ye 1 i çektik ve array yaptık"
   ]
  },
  {
   "cell_type": "code",
   "execution_count": 90,
   "id": "published-building",
   "metadata": {},
   "outputs": [
    {
     "data": {
      "text/plain": [
       "array([ 1, 10, 16])"
      ]
     },
     "execution_count": 90,
     "metadata": {},
     "output_type": "execute_result"
    }
   ],
   "source": [
    "jj[[0, 2, 3], [0, 1, 3]]\n",
    "\n",
    "# 0'a 0, 2'ye 1 ve 3'e 3 ü çektik ve array yaptık"
   ]
  },
  {
   "cell_type": "code",
   "execution_count": 167,
   "id": "improved-donna",
   "metadata": {},
   "outputs": [
    {
     "data": {
      "text/plain": [
       "array([[ 1,  2,  3,  4],\n",
       "       [ 5,  6,  7,  8],\n",
       "       [ 9, 10, 11, 12],\n",
       "       [13, 14, 15, 16]])"
      ]
     },
     "execution_count": 167,
     "metadata": {},
     "output_type": "execute_result"
    }
   ],
   "source": [
    "jj"
   ]
  },
  {
   "cell_type": "code",
   "execution_count": 92,
   "id": "realistic-footage",
   "metadata": {},
   "outputs": [
    {
     "data": {
      "text/plain": [
       "array([6, 8])"
      ]
     },
     "execution_count": 92,
     "metadata": {},
     "output_type": "execute_result"
    }
   ],
   "source": [
    "# 6 ve 8 i çekelim\n",
    "\n",
    "jj[1, [1,3]]\n",
    "\n",
    "# hem fancy ve hem normal indekslemeyi bir arada kullandık. 1. satırda 1. ve 3. indeksteki elemanları aldık"
   ]
  },
  {
   "cell_type": "code",
   "execution_count": 93,
   "id": "antique-massachusetts",
   "metadata": {},
   "outputs": [
    {
     "data": {
      "text/plain": [
       "array([ 2, 14])"
      ]
     },
     "execution_count": 93,
     "metadata": {},
     "output_type": "execute_result"
    }
   ],
   "source": [
    "# 2 ve 14 ü çekelim. hem fancy hem normal indeksleme kullanalım.\n",
    "\n",
    "jj[[0,3], 1]\n",
    "\n",
    "# 0 ve 3. satırlarla 1. sütunu kesiştirerek 2 ve 14 elemanlarını çektik"
   ]
  },
  {
   "cell_type": "code",
   "execution_count": 97,
   "id": "solid-substance",
   "metadata": {},
   "outputs": [
    {
     "data": {
      "text/plain": [
       "array([[ 2,  3],\n",
       "       [ 6,  7],\n",
       "       [10, 11],\n",
       "       [14, 15]])"
      ]
     },
     "execution_count": 97,
     "metadata": {},
     "output_type": "execute_result"
    }
   ],
   "source": [
    "# ortadaki 2 ve 3 le başlayan 2 sütunun tamamını seçelim\n",
    "\n",
    "jj[:, [1,2]]  # veya jj[0:, [1,2]]"
   ]
  },
  {
   "cell_type": "code",
   "execution_count": 98,
   "id": "successful-summer",
   "metadata": {},
   "outputs": [
    {
     "data": {
      "text/plain": [
       "array([[ 1,  2,  3,  4],\n",
       "       [ 5,  6,  7,  8],\n",
       "       [ 9, 10, 11, 12],\n",
       "       [13, 14, 15, 16]])"
      ]
     },
     "execution_count": 98,
     "metadata": {},
     "output_type": "execute_result"
    }
   ],
   "source": [
    "jj"
   ]
  },
  {
   "cell_type": "code",
   "execution_count": 99,
   "id": "private-awareness",
   "metadata": {},
   "outputs": [
    {
     "data": {
      "text/plain": [
       "array([[ 2,  4],\n",
       "       [ 6,  8],\n",
       "       [10, 12],\n",
       "       [14, 16]])"
      ]
     },
     "execution_count": 99,
     "metadata": {},
     "output_type": "execute_result"
    }
   ],
   "source": [
    "  # çift sayıları içerenen sütunları seç\n",
    "    \n",
    "jj[0:, [1,3]]"
   ]
  },
  {
   "cell_type": "code",
   "execution_count": 102,
   "id": "inclusive-relief",
   "metadata": {},
   "outputs": [
    {
     "data": {
      "text/plain": [
       "array([[ 6,  7],\n",
       "       [10, 11]])"
      ]
     },
     "execution_count": 102,
     "metadata": {},
     "output_type": "execute_result"
    }
   ],
   "source": [
    "# ortadaki kareyi alalım. 6,7,10,11 i\n",
    "\n",
    "jj[1:3,1:3]\n",
    "\n",
    "# normal indexleme yaptık"
   ]
  },
  {
   "cell_type": "code",
   "execution_count": 103,
   "id": "still-hands",
   "metadata": {},
   "outputs": [
    {
     "data": {
      "text/plain": [
       "array([[ 6,  7],\n",
       "       [10, 11]])"
      ]
     },
     "execution_count": 103,
     "metadata": {},
     "output_type": "execute_result"
    }
   ],
   "source": [
    "jj[1:3, [1,2]]\n",
    "\n",
    "#  satırda normal, sütunda fancy kullandık"
   ]
  },
  {
   "cell_type": "code",
   "execution_count": 105,
   "id": "liquid-requirement",
   "metadata": {},
   "outputs": [
    {
     "data": {
      "text/plain": [
       "array([ 1,  2,  3,  4,  5,  6,  7,  8,  9, 10])"
      ]
     },
     "execution_count": 105,
     "metadata": {},
     "output_type": "execute_result"
    }
   ],
   "source": [
    "arr = np.arange(1,11)\n",
    "arr"
   ]
  },
  {
   "cell_type": "code",
   "execution_count": 106,
   "id": "peaceful-stroke",
   "metadata": {},
   "outputs": [
    {
     "data": {
      "text/plain": [
       "array([False, False, False, False,  True,  True,  True,  True,  True,\n",
       "        True])"
      ]
     },
     "execution_count": 106,
     "metadata": {},
     "output_type": "execute_result"
    }
   ],
   "source": [
    "arr > 4 \n",
    "\n",
    "# condition ile selection yaparsak koşulun sağladığı elemanlar için boolean sonuç döndürür."
   ]
  },
  {
   "cell_type": "code",
   "execution_count": 107,
   "id": "brown-addition",
   "metadata": {},
   "outputs": [
    {
     "data": {
      "text/plain": [
       "array([False, False, False, False,  True,  True,  True,  True,  True,\n",
       "        True])"
      ]
     },
     "execution_count": 107,
     "metadata": {},
     "output_type": "execute_result"
    }
   ],
   "source": [
    "bool_arr = arr > 4\n",
    "bool_arr   \n",
    "\n",
    "# bool_arr değişkenine dizideki elemanların 4'ten büyük olma durumunu atadık.\n",
    "\n",
    "# boll_arr ın eleman sayısı arr ile aynı. ama condition u sağlayanlar True, diğerleri False olur."
   ]
  },
  {
   "cell_type": "code",
   "execution_count": 108,
   "id": "excessive-guatemala",
   "metadata": {},
   "outputs": [
    {
     "data": {
      "text/plain": [
       "array([ 5,  6,  7,  8,  9, 10])"
      ]
     },
     "execution_count": 108,
     "metadata": {},
     "output_type": "execute_result"
    }
   ],
   "source": [
    "arr[bool_arr]\n",
    "\n",
    "# köşeli parantez içindeki boolean ın uzunluğu ile  arrayin uzunluğu aynı olacak.\n",
    "\n",
    "# arr[bool_arr] ile sadece True ları çekip almış olduk"
   ]
  },
  {
   "cell_type": "code",
   "execution_count": 109,
   "id": "domestic-valentine",
   "metadata": {},
   "outputs": [
    {
     "data": {
      "text/plain": [
       "array([ 3,  4,  5,  6,  7,  8,  9, 10])"
      ]
     },
     "execution_count": 109,
     "metadata": {},
     "output_type": "execute_result"
    }
   ],
   "source": [
    "arr[arr >2]"
   ]
  },
  {
   "cell_type": "code",
   "execution_count": 111,
   "id": "trained-movement",
   "metadata": {},
   "outputs": [
    {
     "data": {
      "text/plain": [
       "array([ 3,  4,  5,  6,  7,  8,  9, 10])"
      ]
     },
     "execution_count": 111,
     "metadata": {},
     "output_type": "execute_result"
    }
   ],
   "source": [
    "x = 2\n",
    "arr[arr > x]"
   ]
  },
  {
   "cell_type": "code",
   "execution_count": 112,
   "id": "mobile-chuck",
   "metadata": {},
   "outputs": [
    {
     "data": {
      "text/plain": [
       "array([ True,  True, False,  True,  True,  True,  True,  True,  True,\n",
       "        True])"
      ]
     },
     "execution_count": 112,
     "metadata": {},
     "output_type": "execute_result"
    }
   ],
   "source": [
    "arr != 3\n",
    "\n",
    "# 3 e eşit olmayan elemanları çek"
   ]
  },
  {
   "cell_type": "code",
   "execution_count": 113,
   "id": "martial-cotton",
   "metadata": {},
   "outputs": [
    {
     "data": {
      "text/plain": [
       "array([ 1,  2,  5,  6,  7,  8,  9, 10])"
      ]
     },
     "execution_count": 113,
     "metadata": {},
     "output_type": "execute_result"
    }
   ],
   "source": [
    "arr[(arr != 3) & (arr != 4)] \n",
    "\n",
    "# yine arr eleman sayısı kadar True ve False lardan oluşan bir dizi üretir.\n",
    "# bunlardan True olanları seçer"
   ]
  },
  {
   "cell_type": "code",
   "execution_count": null,
   "id": "manufactured-eating",
   "metadata": {},
   "outputs": [],
   "source": [
    "# köşeli parantez içerisinde and ve or kelimelerini kullanamıyoruz. \n",
    "# onların yerine şu işaretleri kullanıyoruz.\n",
    "\n",
    "and --> \"&\"\n",
    "or --> \"|\""
   ]
  },
  {
   "cell_type": "markdown",
   "id": "turned-strategy",
   "metadata": {},
   "source": [
    "# Arithmetic Operations"
   ]
  },
  {
   "cell_type": "code",
   "execution_count": 114,
   "id": "assigned-defeat",
   "metadata": {},
   "outputs": [],
   "source": [
    "arr = np.arange(0,10)"
   ]
  },
  {
   "cell_type": "code",
   "execution_count": 115,
   "id": "mobile-possibility",
   "metadata": {},
   "outputs": [
    {
     "data": {
      "text/plain": [
       "array([0, 1, 2, 3, 4, 5, 6, 7, 8, 9])"
      ]
     },
     "execution_count": 115,
     "metadata": {},
     "output_type": "execute_result"
    }
   ],
   "source": [
    "arr"
   ]
  },
  {
   "cell_type": "code",
   "execution_count": 116,
   "id": "opening-alexandria",
   "metadata": {},
   "outputs": [
    {
     "data": {
      "text/plain": [
       "array([ 0,  2,  4,  6,  8, 10, 12, 14, 16, 18])"
      ]
     },
     "execution_count": 116,
     "metadata": {},
     "output_type": "execute_result"
    }
   ],
   "source": [
    "arr + arr"
   ]
  },
  {
   "cell_type": "code",
   "execution_count": 117,
   "id": "personalized-european",
   "metadata": {},
   "outputs": [
    {
     "data": {
      "text/plain": [
       "array([ 0,  1,  4,  9, 16, 25, 36, 49, 64, 81])"
      ]
     },
     "execution_count": 117,
     "metadata": {},
     "output_type": "execute_result"
    }
   ],
   "source": [
    "arr * arr"
   ]
  },
  {
   "cell_type": "code",
   "execution_count": 118,
   "id": "mechanical-sapphire",
   "metadata": {},
   "outputs": [
    {
     "data": {
      "text/plain": [
       "array([0, 0, 0, 0, 0, 0, 0, 0, 0, 0])"
      ]
     },
     "execution_count": 118,
     "metadata": {},
     "output_type": "execute_result"
    }
   ],
   "source": [
    "arr - arr"
   ]
  },
  {
   "cell_type": "code",
   "execution_count": 119,
   "id": "norman-christmas",
   "metadata": {},
   "outputs": [
    {
     "data": {
      "text/plain": [
       "array([ 0,  2,  4,  6,  8, 10, 12, 14, 16, 18])"
      ]
     },
     "execution_count": 119,
     "metadata": {},
     "output_type": "execute_result"
    }
   ],
   "source": [
    "arr * 2"
   ]
  },
  {
   "cell_type": "code",
   "execution_count": 120,
   "id": "domestic-philadelphia",
   "metadata": {},
   "outputs": [
    {
     "data": {
      "text/plain": [
       "array([1, 2, 3, 4, 5])"
      ]
     },
     "execution_count": 120,
     "metadata": {},
     "output_type": "execute_result"
    }
   ],
   "source": [
    "v = np.array([1,2,3,4,5])\n",
    "v\n",
    "\n",
    "# Bu defa python listesinden bir array oluşturduk"
   ]
  },
  {
   "cell_type": "code",
   "execution_count": 121,
   "id": "removed-singapore",
   "metadata": {},
   "outputs": [
    {
     "data": {
      "text/plain": [
       "array([0, 1, 2, 3, 4])"
      ]
     },
     "execution_count": 121,
     "metadata": {},
     "output_type": "execute_result"
    }
   ],
   "source": [
    "v - 1"
   ]
  },
  {
   "cell_type": "code",
   "execution_count": 122,
   "id": "necessary-services",
   "metadata": {},
   "outputs": [
    {
     "data": {
      "text/plain": [
       "array([ 5, 10, 15, 20, 25])"
      ]
     },
     "execution_count": 122,
     "metadata": {},
     "output_type": "execute_result"
    }
   ],
   "source": [
    "v * 5"
   ]
  },
  {
   "cell_type": "code",
   "execution_count": 123,
   "id": "polish-comment",
   "metadata": {},
   "outputs": [
    {
     "data": {
      "text/plain": [
       "array([-0.5,  0. ,  0.5,  1. ,  1.5])"
      ]
     },
     "execution_count": 123,
     "metadata": {},
     "output_type": "execute_result"
    }
   ],
   "source": [
    "v * 5 / 10 - 1"
   ]
  },
  {
   "cell_type": "code",
   "execution_count": 126,
   "id": "instructional-collect",
   "metadata": {},
   "outputs": [],
   "source": [
    "a = v * 5"
   ]
  },
  {
   "cell_type": "code",
   "execution_count": 128,
   "id": "recorded-romance",
   "metadata": {},
   "outputs": [
    {
     "data": {
      "text/plain": [
       "array([0.5, 1. , 1.5, 2. , 2.5])"
      ]
     },
     "execution_count": 128,
     "metadata": {},
     "output_type": "execute_result"
    }
   ],
   "source": [
    "b = a / 10\n",
    "b"
   ]
  },
  {
   "cell_type": "code",
   "execution_count": 129,
   "id": "explicit-camel",
   "metadata": {},
   "outputs": [
    {
     "data": {
      "text/plain": [
       "array([-0.5,  0. ,  0.5,  1. ,  1.5])"
      ]
     },
     "execution_count": 129,
     "metadata": {},
     "output_type": "execute_result"
    }
   ],
   "source": [
    "b - 1"
   ]
  },
  {
   "cell_type": "markdown",
   "id": "registered-sweet",
   "metadata": {},
   "source": [
    "# Universal Array Functions"
   ]
  },
  {
   "cell_type": "code",
   "execution_count": 130,
   "id": "agricultural-bargain",
   "metadata": {},
   "outputs": [
    {
     "data": {
      "text/plain": [
       "array([0, 1, 2, 3, 4, 5, 6, 7, 8, 9])"
      ]
     },
     "execution_count": 130,
     "metadata": {},
     "output_type": "execute_result"
    }
   ],
   "source": [
    "arr"
   ]
  },
  {
   "cell_type": "code",
   "execution_count": 131,
   "id": "british-scoop",
   "metadata": {},
   "outputs": [
    {
     "data": {
      "text/plain": [
       "array([0.        , 1.        , 1.41421356, 1.73205081, 2.        ,\n",
       "       2.23606798, 2.44948974, 2.64575131, 2.82842712, 3.        ])"
      ]
     },
     "execution_count": 131,
     "metadata": {},
     "output_type": "execute_result"
    }
   ],
   "source": [
    "np.sqrt(arr)\n",
    "\n",
    "# karekök alma"
   ]
  },
  {
   "cell_type": "code",
   "execution_count": 132,
   "id": "nonprofit-crossing",
   "metadata": {},
   "outputs": [
    {
     "data": {
      "text/plain": [
       "array([1.00000000e+00, 2.71828183e+00, 7.38905610e+00, 2.00855369e+01,\n",
       "       5.45981500e+01, 1.48413159e+02, 4.03428793e+02, 1.09663316e+03,\n",
       "       2.98095799e+03, 8.10308393e+03])"
      ]
     },
     "execution_count": 132,
     "metadata": {},
     "output_type": "execute_result"
    }
   ],
   "source": [
    "np.exp(arr)"
   ]
  },
  {
   "cell_type": "code",
   "execution_count": 133,
   "id": "instructional-estimate",
   "metadata": {},
   "outputs": [
    {
     "data": {
      "text/plain": [
       "array([ 0.        ,  0.84147098,  0.90929743,  0.14112001, -0.7568025 ,\n",
       "       -0.95892427, -0.2794155 ,  0.6569866 ,  0.98935825,  0.41211849])"
      ]
     },
     "execution_count": 133,
     "metadata": {},
     "output_type": "execute_result"
    }
   ],
   "source": [
    "np.sin(arr)\n",
    "\n",
    "# her bir elemana sinüsü uyguluyor"
   ]
  },
  {
   "cell_type": "code",
   "execution_count": 134,
   "id": "chief-reduction",
   "metadata": {},
   "outputs": [
    {
     "data": {
      "text/plain": [
       "1.0"
      ]
     },
     "execution_count": 134,
     "metadata": {},
     "output_type": "execute_result"
    }
   ],
   "source": [
    "np.sin(np.pi/2)\n",
    "\n",
    "# pi/2 nin sinüsü 1 idi"
   ]
  },
  {
   "cell_type": "code",
   "execution_count": 135,
   "id": "affected-flashing",
   "metadata": {},
   "outputs": [
    {
     "data": {
      "text/plain": [
       "array([ 0.        ,  1.55740772, -2.18503986, -0.14254654,  1.15782128,\n",
       "       -3.38051501, -0.29100619,  0.87144798, -6.79971146, -0.45231566])"
      ]
     },
     "execution_count": 135,
     "metadata": {},
     "output_type": "execute_result"
    }
   ],
   "source": [
    "np.tan(arr)"
   ]
  },
  {
   "cell_type": "code",
   "execution_count": 136,
   "id": "brown-admission",
   "metadata": {},
   "outputs": [
    {
     "data": {
      "text/plain": [
       "0.9999999999999999"
      ]
     },
     "execution_count": 136,
     "metadata": {},
     "output_type": "execute_result"
    }
   ],
   "source": [
    "np.tan(np.pi/4)"
   ]
  },
  {
   "cell_type": "code",
   "execution_count": 137,
   "id": "entitled-touch",
   "metadata": {},
   "outputs": [
    {
     "data": {
      "text/plain": [
       "3.0"
      ]
     },
     "execution_count": 137,
     "metadata": {},
     "output_type": "execute_result"
    }
   ],
   "source": [
    "np.log10(1000)"
   ]
  },
  {
   "cell_type": "code",
   "execution_count": 138,
   "id": "moral-editor",
   "metadata": {},
   "outputs": [
    {
     "data": {
      "text/plain": [
       "array([1, 2, 3, 4, 5])"
      ]
     },
     "execution_count": 138,
     "metadata": {},
     "output_type": "execute_result"
    }
   ],
   "source": [
    "v"
   ]
  },
  {
   "cell_type": "code",
   "execution_count": 140,
   "id": "nuclear-longitude",
   "metadata": {},
   "outputs": [
    {
     "data": {
      "text/plain": [
       "array([0, 1, 2, 3, 4])"
      ]
     },
     "execution_count": 140,
     "metadata": {},
     "output_type": "execute_result"
    }
   ],
   "source": [
    "np.subtract(v, 1)\n",
    "\n",
    " # matrisin her bir elemanından 1 i çıkardı"
   ]
  },
  {
   "cell_type": "code",
   "execution_count": 148,
   "id": "boring-senate",
   "metadata": {},
   "outputs": [],
   "source": [
    "x1 = np.arange(9.0).reshape(3,3)\n",
    "x2 = np.arange(3.0)"
   ]
  },
  {
   "cell_type": "code",
   "execution_count": 142,
   "id": "medieval-pennsylvania",
   "metadata": {},
   "outputs": [
    {
     "data": {
      "text/plain": [
       "array([[0., 1., 2.],\n",
       "       [3., 4., 5.],\n",
       "       [6., 7., 8.]])"
      ]
     },
     "execution_count": 142,
     "metadata": {},
     "output_type": "execute_result"
    }
   ],
   "source": [
    "x1"
   ]
  },
  {
   "cell_type": "code",
   "execution_count": 149,
   "id": "physical-israel",
   "metadata": {},
   "outputs": [
    {
     "data": {
      "text/plain": [
       "array([0., 1., 2.])"
      ]
     },
     "execution_count": 149,
     "metadata": {},
     "output_type": "execute_result"
    }
   ],
   "source": [
    "x2"
   ]
  },
  {
   "cell_type": "code",
   "execution_count": 150,
   "id": "expressed-fluid",
   "metadata": {
    "scrolled": true
   },
   "outputs": [
    {
     "data": {
      "text/plain": [
       "array([[0., 0., 0.],\n",
       "       [3., 3., 3.],\n",
       "       [6., 6., 6.]])"
      ]
     },
     "execution_count": 150,
     "metadata": {},
     "output_type": "execute_result"
    }
   ],
   "source": [
    "np.subtract(x1, x2)\n",
    "\n",
    "# sırasıyla x1 in her bir satırından x2'yi çıkartıyor."
   ]
  },
  {
   "cell_type": "code",
   "execution_count": 151,
   "id": "liable-auction",
   "metadata": {},
   "outputs": [
    {
     "data": {
      "text/plain": [
       "array([2, 3, 4, 5, 6])"
      ]
     },
     "execution_count": 151,
     "metadata": {},
     "output_type": "execute_result"
    }
   ],
   "source": [
    "np.add(v, 1)\n",
    "\n",
    " # her bir elemana 1 i ekledik."
   ]
  },
  {
   "cell_type": "code",
   "execution_count": 152,
   "id": "interpreted-background",
   "metadata": {},
   "outputs": [
    {
     "data": {
      "text/plain": [
       "array([ 5, 10, 15, 20, 25])"
      ]
     },
     "execution_count": 152,
     "metadata": {},
     "output_type": "execute_result"
    }
   ],
   "source": [
    "np.multiply(v, 5)\n",
    "\n",
    "# her bir elemanı 5 ile çarptık"
   ]
  },
  {
   "cell_type": "code",
   "execution_count": 153,
   "id": "chicken-pattern",
   "metadata": {},
   "outputs": [
    {
     "data": {
      "text/plain": [
       "array([[ 0.,  5., 10.],\n",
       "       [15., 20., 25.],\n",
       "       [30., 35., 40.]])"
      ]
     },
     "execution_count": 153,
     "metadata": {},
     "output_type": "execute_result"
    }
   ],
   "source": [
    "np.multiply(x1, 5)"
   ]
  },
  {
   "cell_type": "code",
   "execution_count": 154,
   "id": "varied-bryan",
   "metadata": {},
   "outputs": [
    {
     "data": {
      "text/plain": [
       "array([0.5, 1. , 1.5, 2. , 2.5])"
      ]
     },
     "execution_count": 154,
     "metadata": {},
     "output_type": "execute_result"
    }
   ],
   "source": [
    "np.divide(v, 2)\n",
    "\n",
    "# her bir elemanı 2 ye böldük"
   ]
  },
  {
   "cell_type": "code",
   "execution_count": 155,
   "id": "broke-aviation",
   "metadata": {},
   "outputs": [
    {
     "data": {
      "text/plain": [
       "array([ 1,  4,  9, 16, 25], dtype=int32)"
      ]
     },
     "execution_count": 155,
     "metadata": {},
     "output_type": "execute_result"
    }
   ],
   "source": [
    "np.power(v, 2)\n",
    "\n",
    " # her bir elemanın 2 kuvvetini aldık"
   ]
  },
  {
   "cell_type": "code",
   "execution_count": 156,
   "id": "regulation-malaysia",
   "metadata": {},
   "outputs": [
    {
     "data": {
      "text/plain": [
       "array([ 1,  4,  9, 16, 25], dtype=int32)"
      ]
     },
     "execution_count": 156,
     "metadata": {},
     "output_type": "execute_result"
    }
   ],
   "source": [
    "v ** 2 # yukardaki np.power() ile aynı işi fonksiyon kullanmadan yaptık"
   ]
  },
  {
   "cell_type": "code",
   "execution_count": 157,
   "id": "three-verse",
   "metadata": {},
   "outputs": [
    {
     "data": {
      "text/plain": [
       "array([1, 2, 3, 4, 5])"
      ]
     },
     "execution_count": 157,
     "metadata": {},
     "output_type": "execute_result"
    }
   ],
   "source": [
    "v"
   ]
  },
  {
   "cell_type": "code",
   "execution_count": 158,
   "id": "tamil-produce",
   "metadata": {},
   "outputs": [
    {
     "data": {
      "text/plain": [
       "array([1, 0, 1, 0, 1], dtype=int32)"
      ]
     },
     "execution_count": 158,
     "metadata": {},
     "output_type": "execute_result"
    }
   ],
   "source": [
    "np.mod(v, 2)\n",
    "\n",
    " # her bir elemanı modulus 2'ye tabi tutuyor."
   ]
  },
  {
   "cell_type": "code",
   "execution_count": 159,
   "id": "friendly-classification",
   "metadata": {},
   "outputs": [
    {
     "data": {
      "text/plain": [
       "array([1, 0, 1, 0, 1], dtype=int32)"
      ]
     },
     "execution_count": 159,
     "metadata": {},
     "output_type": "execute_result"
    }
   ],
   "source": [
    "v % 2  # aynı işlemi fonksiyonsuz yaptık"
   ]
  },
  {
   "cell_type": "code",
   "execution_count": null,
   "id": "german-shame",
   "metadata": {},
   "outputs": [],
   "source": []
  }
 ],
 "metadata": {
  "kernelspec": {
   "display_name": "Python 3",
   "language": "python",
   "name": "python3"
  },
  "language_info": {
   "codemirror_mode": {
    "name": "ipython",
    "version": 3
   },
   "file_extension": ".py",
   "mimetype": "text/x-python",
   "name": "python",
   "nbconvert_exporter": "python",
   "pygments_lexer": "ipython3",
   "version": "3.7.8"
  }
 },
 "nbformat": 4,
 "nbformat_minor": 5
}
